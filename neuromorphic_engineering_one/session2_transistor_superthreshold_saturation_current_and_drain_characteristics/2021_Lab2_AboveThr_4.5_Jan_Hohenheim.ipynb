{
 "cells": [
  {
   "cell_type": "markdown",
   "source": [
    "Neuromorphic engineering I"
   ],
   "metadata": {}
  },
  {
   "cell_type": "markdown",
   "source": [
    "## Lab 2: Transistor superthreshold saturation current and drain characteristics"
   ],
   "metadata": {}
  },
  {
   "cell_type": "markdown",
   "source": [
    "Group number: 4.5\n",
    "\n",
    "Team member 1: Jan Hohenheim\n",
    "\n",
    "Team member 2: Maxim Gärtner\n",
    "\n",
    "Date: 12.10.2021"
   ],
   "metadata": {}
  },
  {
   "cell_type": "markdown",
   "source": [
    "-------------------------------------------------------------------------------------------------------------------"
   ],
   "metadata": {}
  },
  {
   "cell_type": "markdown",
   "source": [
    "The objective of this lab is to understand _super-threshold_ ( also called _above-threshold_ or _strong inversion_ ) transistor operation and to understand transistor drain conductance characteristics, particularly _channel length modulation_.\n",
    "\n",
    "The specific experimental **objectives of this lab**  are as follows: \n",
    "1. To characterize drain current of a transistor as a function of gate voltage in superthreshold operation in the ohmic (triode) and saturation regions.\n",
    "2. To characterize the drain saturation properties in super-threshold.\n",
    "3. To characterize drain conductance (the Early effect) and how it scales with transistor length (may not be possible this year) and saturation drain current."
   ],
   "metadata": {}
  },
  {
   "cell_type": "markdown",
   "source": [
    "An intuitive and quantitative understanding of all these effects, along with the subthreshold behavior (next week), is useful for the design of effective circuits, especially analog design of high performance amplifiers."
   ],
   "metadata": {}
  },
  {
   "cell_type": "markdown",
   "source": [
    "# 1 Terminology"
   ],
   "metadata": {}
  },
  {
   "cell_type": "markdown",
   "source": [
    "- above-threshold = super-threshold =  strong inversion\n",
    "- sub-threshold = below-threshold = weak inversion\n",
    "- triode region = ohmic region = linear drain conductance behavior with small drain-source voltage\n",
    "- saturation = large $V_{\\rm ds}$ \n",
    "- overdrive = $V_{\\rm g}-V_{\\rm T}$\n",
    "- $U_{\\rm T} = kT/q$ = thermal voltage = 25mV at room temperature\n",
    "- $V_{\\rm T}$ = threshold voltage = 0.4V to 0.8V depending on process\n"
   ],
   "metadata": {}
  },
  {
   "cell_type": "markdown",
   "source": [
    "# 2 Useful Quantities"
   ],
   "metadata": {}
  },
  {
   "cell_type": "markdown",
   "source": [
    "The following is a list of the physical parameters and constants we\n",
    "will be referring to in this lab, along with their values when\n",
    "appropriate. The units that are most natural for these quantities are\n",
    "also included; these units are not self--consistent, so make sure you\n",
    "convert the units when appropriate.\n"
   ],
   "metadata": {}
  },
  {
   "cell_type": "markdown",
   "source": [
    "$\\epsilon_0$ :  Permittivity of vacuum = $8.86\\times10^{-12} \\rm{ F/m}$ \n",
    "\n",
    "$\\epsilon_{Si}$ : Relative permittivity of ${\\rm Si}$ = $11.7\\epsilon_0$ \n",
    "\n",
    "$\\epsilon_{ox}$ : Relative permittivity of ${\\rm SiO_2}$ = $3.9\\epsilon_0$ \n",
    "\n",
    "$\\mu_n$ : electron surface mobility, ${\\rm cm^2/V/s}$ \n",
    " \n",
    "$\\mu_p$ : hole surface mobility, ${\\rm cm^2/V/s}$\n",
    "\n",
    "$C_{ox}$ : gate capacitance across the oxide per unit area,\n",
    "\t${\\rm fF/\\mu m^{2}}$ \n",
    "\n",
    "$C_{dep}$ : capacitance of depletion region per unit area,\n",
    "\t${\\rm fF/\\mu m^{2}}$ \n",
    "\n",
    "$t_{ox}$ : gate oxide thickness $\\approx$\n",
    "\t3.8 nm for the class chip in 180 nm techology.\n",
    "\t\n",
    "$V_T$ : threshold voltage, V ($V_{T0}$ is $V_T$ when $V_s$ = 0).\n",
    "\n",
    "\n",
    "$W$ : electrical width of transistor channel, $= 4~\\mu m$ for both devices in this lab \n",
    "\n",
    "$L$ : electrical length of transistor channel, $= 4~\\mu m$ for both devices in this lab\n",
    "\n",
    "$\\beta$ $\\equiv \\mu C_{ox} W/L,\\;\\mu{\\rm A/V^2}$ \n",
    "\n",
    "$V_E$ : Early voltage, characterizes drain conductance. \n"
   ],
   "metadata": {}
  },
  {
   "cell_type": "markdown",
   "source": [
    "# 3 Prelab"
   ],
   "metadata": {}
  },
  {
   "cell_type": "markdown",
   "source": [
    "Write the expressions/eqations in LaTeX, like $Vod$ = $V_{\\rm g}-V_{\\rm T}$, or upload the pictures of handwritten expressions."
   ],
   "metadata": {}
  },
  {
   "cell_type": "markdown",
   "source": [
    "* For nFET, write the most general expression for $I_{ds}$ above threshold in terms of $V_g,\\;V_s,\\;V_d$ (all voltages are referenced to the bulk), and the parameters and constants given above. Leave out the drain conductance Early effect in this equation. Assume $\\kappa=1$ and that $V_{Tn}>0$."
   ],
   "metadata": {}
  },
  {
   "cell_type": "markdown",
   "source": [
    "> For triode: $I_{ds} = \\beta(V_g - V_s - V_{Tn})(V_d - V_s)$  \n",
    "> For saturation: $I_{ds} = \\frac{1}{2}\\beta(V_g - V_s - V_{Tn})^2$"
   ],
   "metadata": {}
  },
  {
   "cell_type": "markdown",
   "source": [
    "* For pFET, write the most general expression for $I_{ds}$ above threshold in terms of $V_g,\\;V_s,\\;V_d$ (all voltages are referenced to the bulk), and the parameters and constants given above. Leave out the drain conductance Early effect in this equation. Assume $\\kappa=1$ and that $V_{Tp}<0$."
   ],
   "metadata": {}
  },
  {
   "cell_type": "markdown",
   "source": [
    "> For triode: $I_{ds} = \\beta(V_g - Vs - V_{Tp})(V_d - V_s)$  \n",
    "> For saturation: $I_{ds} = \\frac{1}{2}\\beta(V_g - Vs - V_{Tp})^2$  \n",
    "> The formulae are the same, but the resulting graph is mirrored!"
   ],
   "metadata": {}
  },
  {
   "cell_type": "markdown",
   "source": [
    "- For nFET, sketch graphs of $I_{ds}$ vs the $V_d$ for several gate voltages $V_g$ above threshold, with $V_s=0$. Indicate the ohmic and saturation regions and the behavior of the saturation voltage $V_{dsat}$ as the gate overdrive voltage increases. "
   ],
   "metadata": {}
  },
  {
   "cell_type": "code",
   "execution_count": 2,
   "source": [
    "import numpy as np\n",
    "import matplotlib.pyplot as plt\n",
    "v_t = 0.8\n",
    "v_s = 0\n",
    "beta = 1\n",
    "for v_g in np.arange(1, 2, 0.1):\n",
    "    v_d1 = np.arange(0, 1, 0.001)\n",
    "    v_d2 = np.arange(0, 1, 0.001)\n",
    "    i_ds1 = beta*(v_g - v_s - v_t)*(v_d1 - v_s)\n",
    "    i_ds2 = np.repeat(beta*0.5*(v_g - v_s - v_t)**2, 1/0.001)\n",
    "    index = next(filter(lambda i_ds: abs(i_ds[1][0]-i_ds[1][1]) < 0.0001, enumerate(zip(i_ds1, i_ds2))))[0]\n",
    "    plt.plot(v_d1[:index], i_ds1[:index], 'b')\n",
    "    plt.plot(v_d2[index:], i_ds2[index:], 'r')\n",
    "    plt.text(1.07, i_ds2[-1], f\"$V_g = {v_g:.2f}$V\")\n",
    "    plt.title(f\"$I_ds$ with $V_t = 0.8V, V_s = 0V, \\\\beta = 1$\")\n",
    "    plt.xlabel(\"$V_d[V]$\")\n",
    "    plt.ylabel(\"$I_{ds}[A]$\")\n",
    "    plt.legend([\"ohmic\", \"saturation\"])\n",
    "plt.show()"
   ],
   "outputs": [
    {
     "output_type": "display_data",
     "data": {
      "image/png": "[encoded data removed]",
      "text/plain": [
       "<Figure size 432x288 with 1 Axes>"
      ]
     },
     "metadata": {
      "needs_background": "light"
     }
    }
   ],
   "metadata": {}
  },
  {
   "cell_type": "markdown",
   "source": [
    "> The saturation voltage increases with the overdrive voltage"
   ],
   "metadata": {}
  },
  {
   "cell_type": "markdown",
   "source": [
    "- For nFET, derive an expression for the current $I_{ds}$ in the ohmic region in terms of $V_g$ and $V_{ds} \\equiv V_d-V_s,$. You may assume that $V_s=0.$ Sketch a graph of $I_{ds}$ vs $V_g,$ showing $V_{T0}$ and an expression for the slope."
   ],
   "metadata": {}
  },
  {
   "cell_type": "markdown",
   "source": [
    "> $I_{ds} = \\beta (V_g - V_{T0})V_d$"
   ],
   "metadata": {}
  },
  {
   "cell_type": "code",
   "execution_count": 67,
   "source": [
    "import numpy as np\n",
    "import matplotlib.pyplot as plt\n",
    "v_t = 0.8\n",
    "v_s = 0\n",
    "beta = 1\n",
    "v_d = 0.4\n",
    "v_g = np.arange(0.0, 2, 0.1)\n",
    "i_ds = beta*(v_g - v_s - v_t)*(v_d - v_s)\n",
    "i_ds = np.array([max(id, 0) for id in i_ds])\n",
    "plt.plot(v_g, i_ds, label=\"$I_{ds}$\")\n",
    "plt.vlines(v_t, -0.01, v_d, colors=\"y\", linestyles=\"dashed\", label=\"$V_{t0}$\")\n",
    "plt.xlabel(\"$V_g[V]$\")\n",
    "plt.ylabel(\"$I_{ds}[A]$\")\n",
    "plt.title(\"$I_{ds}$ for $V_t = 0.8V, V_d = 0.4V, V_s = 0V, \\\\beta = 1$. Slope is $V_d \\\\beta = 0.4$\")\n",
    "plt.legend()\n",
    "plt.show()"
   ],
   "outputs": [
    {
     "output_type": "display_data",
     "data": {
      "image/png": "[encoded data removed]",
      "text/plain": [
       "<Figure size 432x288 with 1 Axes>"
      ]
     },
     "metadata": {
      "needs_background": "light"
     }
    }
   ],
   "metadata": {}
  },
  {
   "cell_type": "markdown",
   "source": [
    "- For nFET, state the drain voltage condition for above-threshold saturation and derive an expression for the saturation current $I_{dsat}$ in terms of $V_g$. Sketch a graph of $\\sqrt{I_{dsat}}$ vs $V_g$ with $V_s=0,$ showing $V_{T0}$ and an expression for the slope. Do not consider the Early effect here."
   ],
   "metadata": {}
  },
  {
   "cell_type": "markdown",
   "source": [
    "> $I_{dsat} = \\frac{1}{2} \\beta(V_g - V_{T0})^2$"
   ],
   "metadata": {}
  },
  {
   "cell_type": "code",
   "execution_count": 84,
   "source": [
    "import numpy as np\n",
    "import matplotlib.pyplot as plt\n",
    "v_t = 0.8\n",
    "v_s = 0\n",
    "beta = 1\n",
    "v_g = np.arange(0.0, 2, 0.1)\n",
    "sqrt_i_dsat = np.sqrt(beta)*0.25*(v_g - v_s - v_t)\n",
    "sqrt_i_dsat = np.array([max(id, 0) for id in sqrt_i_dsat])\n",
    "plt.plot(v_g, sqrt_i_dsat, label=\"$\\\\sqrt{I_{dsat}}$\")\n",
    "plt.vlines(v_t, -0.01, v_d, colors=\"y\", linestyles=\"dashed\", label=\"$V_{t0}$\")\n",
    "plt.xlabel(\"$V_g[V]$\")\n",
    "plt.ylabel(r\"$\\sqrt{I_{dsat}}[\\sqrt{A}]$\")\n",
    "plt.title(r\"$I_{ds}$ for $V_t = 0.8V, V_s = 0V, \\beta = 1$. Slope is $\\frac{1}{4}\\sqrt{\\beta} = 0.25$\")\n",
    "plt.legend()\n",
    "plt.show()"
   ],
   "outputs": [
    {
     "output_type": "display_data",
     "data": {
      "image/png": "[encoded data removed]",
      "text/plain": [
       "<Figure size 432x288 with 1 Axes>"
      ]
     },
     "metadata": {
      "needs_background": "light"
     }
    }
   ],
   "metadata": {}
  },
  {
   "cell_type": "markdown",
   "source": [
    "- Calculate $C_{ox}$ for the classchip from the values given above. What is $C_{ox}$ per square micron in fF?\n"
   ],
   "metadata": {}
  },
  {
   "cell_type": "markdown",
   "source": [
    "> $C_{ox} = \\frac{\\epsilon_{ox}}{t_{ox}}$  \n",
    "> $C_{ox} = \\frac{3.9 \\times \\epsilon_{0}}{t_{ox}}$  \n",
    "> $C_{ox} = \\frac{3.9 \\times 8.86 \\times 10^{-12} \\frac{\\rm{F}}{\\rm{m}}}{3.8 \\times 10^{-9}\\rm{m}}$  \n",
    "> $C_{ox} = 0.009093\\frac{\\rm{F}}{\\rm{m}^2} = 9093 \\frac{\\rm{fF}}{\\mu \\rm{m}^2}$"
   ],
   "metadata": {}
  },
  {
   "cell_type": "markdown",
   "source": [
    "- Write the expression for the drain current in saturation including the Early effect, using $I_{dsat}$ to  represent the saturation current in the absence of the Early effect.  Use $V_E$ to represent the Early voltage."
   ],
   "metadata": {}
  },
  {
   "cell_type": "markdown",
   "source": [
    "> $I_{ds} = I_{dsat} (1+ \\frac{V_d - V_s}{V_E})$"
   ],
   "metadata": {}
  },
  {
   "cell_type": "markdown",
   "source": [
    "# 4 Setup"
   ],
   "metadata": {}
  },
  {
   "cell_type": "markdown",
   "source": [
    "## 4.1 Connect the device"
   ],
   "metadata": {}
  },
  {
   "cell_type": "code",
   "execution_count": 2,
   "source": [
    "# import the necessary library to communicate with the hardware\n",
    "#import sys\n",
    "#sys.path.append('/home/junren/software/CoACH_Teensy_interface/build/pc/pyplane')\n",
    "\n",
    "import pyplane\n",
    "import time"
   ],
   "outputs": [],
   "metadata": {}
  },
  {
   "cell_type": "code",
   "execution_count": 3,
   "source": [
    "# create a Plane object and open the communication\n",
    "if 'p' not in locals():\n",
    "    p = pyplane.Plane()\n",
    "    try:\n",
    "        p.open('/dev/ttyACM0') # Open the USB device ttyACM0 (the board). \n",
    "    except RuntimeError as e:\n",
    "        print(e)\n",
    "        \n",
    "# Note that if you plug out and plug in the USB device in a short time interval, the operating system might allocate a new name like ttyACM1, \n",
    "# then you may get error messages with open(...ttyACM0). So please avoid frenquently plugging in/out the board."
   ],
   "outputs": [],
   "metadata": {}
  },
  {
   "cell_type": "code",
   "execution_count": 4,
   "source": [
    "p.get_firmware_version()"
   ],
   "outputs": [
    {
     "output_type": "execute_result",
     "data": {
      "text/plain": [
       "(1, 8, 3)"
      ]
     },
     "metadata": {},
     "execution_count": 4
    }
   ],
   "metadata": {}
  },
  {
   "cell_type": "code",
   "execution_count": 5,
   "source": [
    "# Send a reset signal to the board, check if the LED blinks\n",
    "p.reset(pyplane.ResetType.Soft)"
   ],
   "outputs": [
    {
     "output_type": "execute_result",
     "data": {
      "text/plain": [
       "<TeensyStatus.Success: 0>"
      ]
     },
     "metadata": {},
     "execution_count": 5
    }
   ],
   "metadata": {}
  },
  {
   "cell_type": "code",
   "execution_count": 6,
   "source": [
    "# NOTE: You must send this request events every time you do a reset operetion, otherwise the recieved data is noisy.\n",
    "# Because the class chip need to handshake with some other devices to get the communication correct.\n",
    "p.request_events(1)"
   ],
   "outputs": [],
   "metadata": {}
  },
  {
   "cell_type": "code",
   "execution_count": 7,
   "source": [
    "# Try to read something, make sure the chip responses\n",
    "p.read_current(pyplane.AdcChannel.GO0_N)"
   ],
   "outputs": [
    {
     "output_type": "execute_result",
     "data": {
      "text/plain": [
       "1.8530273848682555e-07"
      ]
     },
     "metadata": {},
     "execution_count": 7
    }
   ],
   "metadata": {}
  },
  {
   "cell_type": "code",
   "execution_count": 7,
   "source": [
    "# If any of the above steps fail, delete the object, and restart the kernel\n",
    "\n",
    "# del p"
   ],
   "outputs": [],
   "metadata": {}
  },
  {
   "cell_type": "markdown",
   "source": [
    "<a id='config_nfet'></a>\n",
    "## 4.2 Configurations for N-FET"
   ],
   "metadata": {}
  },
  {
   "cell_type": "code",
   "execution_count": 8,
   "source": [
    "# uses schemdraw, you may have to install it in order to run it on your PC\n",
    "import schemdraw\n",
    "import schemdraw.elements as elm\n",
    "d = schemdraw.Drawing()\n",
    "Q = d.add(elm.NFet, reverse=True)\n",
    "d.add(elm.Dot, xy=Q.gate, lftlabel='gate=AIN0')\n",
    "d.add(elm.Dot, xy=Q.drain, toplabel='drain=GO22')\n",
    "d.add(elm.Dot, xy=Q.source, botlabel='source=GO20')\n",
    "d.draw()"
   ],
   "outputs": [
    {
     "output_type": "execute_result",
     "data": {
      "image/png": "[encoded data removed]",
      "image/svg+xml": "<?xml version=\"1.0\" encoding=\"utf-8\" standalone=\"no\"?>\n<!DOCTYPE svg PUBLIC \"-//W3C//DTD SVG 1.1//EN\"\n  \"http://www.w3.org/Graphics/SVG/1.1/DTD/svg11.dtd\">\n<svg height=\"105.35pt\" version=\"1.1\" viewBox=\"0 0 189.464375 105.35\" width=\"189.464375pt\" xmlns=\"http://www.w3.org/2000/svg\" xmlns:xlink=\"http://www.w3.org/1999/xlink\">\n <metadata>\n  <rdf:RDF xmlns:cc=\"http://creativecommons.org/ns#\" xmlns:dc=\"http://purl.org/dc/elements/1.1/\" xmlns:rdf=\"http://www.w3.org/1999/02/22-rdf-syntax-ns#\">\n   <cc:Work>\n    <dc:type rdf:resource=\"http://purl.org/dc/dcmitype/StillImage\"/>\n    <dc:date>2021-10-07T18:10:28.660698</dc:date>\n    <dc:format>image/svg+xml</dc:format>\n    <dc:creator>\n     <cc:Agent>\n      <dc:title>Matplotlib v3.4.3, https://matplotlib.org/</dc:title>\n     </cc:Agent>\n    </dc:creator>\n   </cc:Work>\n  </rdf:RDF>\n </metadata>\n <defs>\n  <style type=\"text/css\">*{stroke-linecap:butt;stroke-linejoin:round;}</style>\n </defs>\n <g id=\"figure_1\">\n  <g id=\"patch_1\">\n   <path d=\"M 0 105.35 \nL 189.464375 105.35 \nL 189.464375 0 \nL 0 0 \nz\n\" style=\"fill:none;\"/>\n  </g>\n  <g id=\"axes_1\">\n   <g id=\"line2d_1\">\n    <path clip-path=\"url(#p55dde5c751)\" d=\"M 133.314688 77.155 \nL 133.314688 64.405 \nL 112.914688 64.405 \nL 112.914688 44.005 \nL 133.314688 44.005 \nL 133.314688 31.255 \n\" style=\"fill:none;stroke:#000000;stroke-linecap:round;stroke-width:2;\"/>\n   </g>\n   <g id=\"line2d_2\">\n    <path clip-path=\"url(#p55dde5c751)\" d=\"M 105.264688 64.405 \nL 105.264688 44.005 \n\" style=\"fill:none;stroke:#000000;stroke-linecap:round;stroke-width:2;\"/>\n   </g>\n   <g id=\"line2d_3\">\n    <path clip-path=\"url(#p55dde5c751)\" d=\"M 88.944688 54.205 \nL 105.264688 54.205 \n\" style=\"fill:none;stroke:#000000;stroke-linecap:round;stroke-width:2;\"/>\n   </g>\n   <g id=\"patch_2\">\n    <path clip-path=\"url(#p55dde5c751)\" d=\"M 88.944688 56.5 \nC 89.553329 56.5 90.137123 56.258184 90.567498 55.82781 \nC 90.997872 55.397436 91.239688 54.813641 91.239688 54.205 \nC 91.239688 53.596359 90.997872 53.012564 90.567498 52.58219 \nC 90.137123 52.151816 89.553329 51.91 88.944688 51.91 \nC 88.336046 51.91 87.752252 52.151816 87.321877 52.58219 \nC 86.891503 53.012564 86.649688 53.596359 86.649688 54.205 \nC 86.649688 54.813641 86.891503 55.397436 87.321877 55.82781 \nC 87.752252 56.258184 88.336046 56.5 88.944688 56.5 \nz\n\" style=\"stroke:#000000;stroke-linejoin:miter;stroke-width:2;\"/>\n   </g>\n   <g id=\"patch_3\">\n    <path clip-path=\"url(#p55dde5c751)\" d=\"M 133.314688 33.55 \nC 133.923329 33.55 134.507123 33.308184 134.937498 32.87781 \nC 135.367872 32.447436 135.609688 31.863641 135.609688 31.255 \nC 135.609688 30.646359 135.367872 30.062564 134.937498 29.63219 \nC 134.507123 29.201816 133.923329 28.96 133.314688 28.96 \nC 132.706046 28.96 132.122252 29.201816 131.691877 29.63219 \nC 131.261503 30.062564 131.019688 30.646359 131.019688 31.255 \nC 131.019688 31.863641 131.261503 32.447436 131.691877 32.87781 \nC 132.122252 33.308184 132.706046 33.55 133.314688 33.55 \nz\n\" style=\"stroke:#000000;stroke-linejoin:miter;stroke-width:2;\"/>\n   </g>\n   <g id=\"patch_4\">\n    <path clip-path=\"url(#p55dde5c751)\" d=\"M 133.314688 79.45 \nC 133.923329 79.45 134.507123 79.208184 134.937498 78.77781 \nC 135.367872 78.347436 135.609688 77.763641 135.609688 77.155 \nC 135.609688 76.546359 135.367872 75.962564 134.937498 75.53219 \nC 134.507123 75.101816 133.923329 74.86 133.314688 74.86 \nC 132.706046 74.86 132.122252 75.101816 131.691877 75.53219 \nC 131.261503 75.962564 131.019688 76.546359 131.019688 77.155 \nC 131.019688 77.763641 131.261503 78.347436 131.691877 78.77781 \nC 132.122252 79.208184 132.706046 79.45 133.314688 79.45 \nz\n\" style=\"stroke:#000000;stroke-linejoin:miter;stroke-width:2;\"/>\n   </g>\n   <g id=\"text_1\">\n    <!-- gate=AIN0 -->\n    <g transform=\"translate(7.2 58.068125)scale(0.14 -0.14)\">\n     <defs>\n      <path d=\"M 2906 1791 \nQ 2906 2416 2648 2759 \nQ 2391 3103 1925 3103 \nQ 1463 3103 1205 2759 \nQ 947 2416 947 1791 \nQ 947 1169 1205 825 \nQ 1463 481 1925 481 \nQ 2391 481 2648 825 \nQ 2906 1169 2906 1791 \nz\nM 3481 434 \nQ 3481 -459 3084 -895 \nQ 2688 -1331 1869 -1331 \nQ 1566 -1331 1297 -1286 \nQ 1028 -1241 775 -1147 \nL 775 -588 \nQ 1028 -725 1275 -790 \nQ 1522 -856 1778 -856 \nQ 2344 -856 2625 -561 \nQ 2906 -266 2906 331 \nL 2906 616 \nQ 2728 306 2450 153 \nQ 2172 0 1784 0 \nQ 1141 0 747 490 \nQ 353 981 353 1791 \nQ 353 2603 747 3093 \nQ 1141 3584 1784 3584 \nQ 2172 3584 2450 3431 \nQ 2728 3278 2906 2969 \nL 2906 3500 \nL 3481 3500 \nL 3481 434 \nz\n\" id=\"DejaVuSans-67\" transform=\"scale(0.015625)\"/>\n      <path d=\"M 2194 1759 \nQ 1497 1759 1228 1600 \nQ 959 1441 959 1056 \nQ 959 750 1161 570 \nQ 1363 391 1709 391 \nQ 2188 391 2477 730 \nQ 2766 1069 2766 1631 \nL 2766 1759 \nL 2194 1759 \nz\nM 3341 1997 \nL 3341 0 \nL 2766 0 \nL 2766 531 \nQ 2569 213 2275 61 \nQ 1981 -91 1556 -91 \nQ 1019 -91 701 211 \nQ 384 513 384 1019 \nQ 384 1609 779 1909 \nQ 1175 2209 1959 2209 \nL 2766 2209 \nL 2766 2266 \nQ 2766 2663 2505 2880 \nQ 2244 3097 1772 3097 \nQ 1472 3097 1187 3025 \nQ 903 2953 641 2809 \nL 641 3341 \nQ 956 3463 1253 3523 \nQ 1550 3584 1831 3584 \nQ 2591 3584 2966 3190 \nQ 3341 2797 3341 1997 \nz\n\" id=\"DejaVuSans-61\" transform=\"scale(0.015625)\"/>\n      <path d=\"M 1172 4494 \nL 1172 3500 \nL 2356 3500 \nL 2356 3053 \nL 1172 3053 \nL 1172 1153 \nQ 1172 725 1289 603 \nQ 1406 481 1766 481 \nL 2356 481 \nL 2356 0 \nL 1766 0 \nQ 1100 0 847 248 \nQ 594 497 594 1153 \nL 594 3053 \nL 172 3053 \nL 172 3500 \nL 594 3500 \nL 594 4494 \nL 1172 4494 \nz\n\" id=\"DejaVuSans-74\" transform=\"scale(0.015625)\"/>\n      <path d=\"M 3597 1894 \nL 3597 1613 \nL 953 1613 \nQ 991 1019 1311 708 \nQ 1631 397 2203 397 \nQ 2534 397 2845 478 \nQ 3156 559 3463 722 \nL 3463 178 \nQ 3153 47 2828 -22 \nQ 2503 -91 2169 -91 \nQ 1331 -91 842 396 \nQ 353 884 353 1716 \nQ 353 2575 817 3079 \nQ 1281 3584 2069 3584 \nQ 2775 3584 3186 3129 \nQ 3597 2675 3597 1894 \nz\nM 3022 2063 \nQ 3016 2534 2758 2815 \nQ 2500 3097 2075 3097 \nQ 1594 3097 1305 2825 \nQ 1016 2553 972 2059 \nL 3022 2063 \nz\n\" id=\"DejaVuSans-65\" transform=\"scale(0.015625)\"/>\n      <path d=\"M 678 2906 \nL 4684 2906 \nL 4684 2381 \nL 678 2381 \nL 678 2906 \nz\nM 678 1631 \nL 4684 1631 \nL 4684 1100 \nL 678 1100 \nL 678 1631 \nz\n\" id=\"DejaVuSans-3d\" transform=\"scale(0.015625)\"/>\n      <path d=\"M 2188 4044 \nL 1331 1722 \nL 3047 1722 \nL 2188 4044 \nz\nM 1831 4666 \nL 2547 4666 \nL 4325 0 \nL 3669 0 \nL 3244 1197 \nL 1141 1197 \nL 716 0 \nL 50 0 \nL 1831 4666 \nz\n\" id=\"DejaVuSans-41\" transform=\"scale(0.015625)\"/>\n      <path d=\"M 628 4666 \nL 1259 4666 \nL 1259 0 \nL 628 0 \nL 628 4666 \nz\n\" id=\"DejaVuSans-49\" transform=\"scale(0.015625)\"/>\n      <path d=\"M 628 4666 \nL 1478 4666 \nL 3547 763 \nL 3547 4666 \nL 4159 4666 \nL 4159 0 \nL 3309 0 \nL 1241 3903 \nL 1241 0 \nL 628 0 \nL 628 4666 \nz\n\" id=\"DejaVuSans-4e\" transform=\"scale(0.015625)\"/>\n      <path d=\"M 2034 4250 \nQ 1547 4250 1301 3770 \nQ 1056 3291 1056 2328 \nQ 1056 1369 1301 889 \nQ 1547 409 2034 409 \nQ 2525 409 2770 889 \nQ 3016 1369 3016 2328 \nQ 3016 3291 2770 3770 \nQ 2525 4250 2034 4250 \nz\nM 2034 4750 \nQ 2819 4750 3233 4129 \nQ 3647 3509 3647 2328 \nQ 3647 1150 3233 529 \nQ 2819 -91 2034 -91 \nQ 1250 -91 836 529 \nQ 422 1150 422 2328 \nQ 422 3509 836 4129 \nQ 1250 4750 2034 4750 \nz\n\" id=\"DejaVuSans-30\" transform=\"scale(0.015625)\"/>\n     </defs>\n     <use xlink:href=\"#DejaVuSans-67\"/>\n     <use x=\"63.476562\" xlink:href=\"#DejaVuSans-61\"/>\n     <use x=\"124.755859\" xlink:href=\"#DejaVuSans-74\"/>\n     <use x=\"163.964844\" xlink:href=\"#DejaVuSans-65\"/>\n     <use x=\"225.488281\" xlink:href=\"#DejaVuSans-3d\"/>\n     <use x=\"309.277344\" xlink:href=\"#DejaVuSans-41\"/>\n     <use x=\"377.685547\" xlink:href=\"#DejaVuSans-49\"/>\n     <use x=\"407.177734\" xlink:href=\"#DejaVuSans-4e\"/>\n     <use x=\"481.982422\" xlink:href=\"#DejaVuSans-30\"/>\n    </g>\n   </g>\n   <g id=\"text_2\">\n    <!-- drain=GO22 -->\n    <g transform=\"translate(89.615 22.988437)scale(0.14 -0.14)\">\n     <defs>\n      <path d=\"M 2906 2969 \nL 2906 4863 \nL 3481 4863 \nL 3481 0 \nL 2906 0 \nL 2906 525 \nQ 2725 213 2448 61 \nQ 2172 -91 1784 -91 \nQ 1150 -91 751 415 \nQ 353 922 353 1747 \nQ 353 2572 751 3078 \nQ 1150 3584 1784 3584 \nQ 2172 3584 2448 3432 \nQ 2725 3281 2906 2969 \nz\nM 947 1747 \nQ 947 1113 1208 752 \nQ 1469 391 1925 391 \nQ 2381 391 2643 752 \nQ 2906 1113 2906 1747 \nQ 2906 2381 2643 2742 \nQ 2381 3103 1925 3103 \nQ 1469 3103 1208 2742 \nQ 947 2381 947 1747 \nz\n\" id=\"DejaVuSans-64\" transform=\"scale(0.015625)\"/>\n      <path d=\"M 2631 2963 \nQ 2534 3019 2420 3045 \nQ 2306 3072 2169 3072 \nQ 1681 3072 1420 2755 \nQ 1159 2438 1159 1844 \nL 1159 0 \nL 581 0 \nL 581 3500 \nL 1159 3500 \nL 1159 2956 \nQ 1341 3275 1631 3429 \nQ 1922 3584 2338 3584 \nQ 2397 3584 2469 3576 \nQ 2541 3569 2628 3553 \nL 2631 2963 \nz\n\" id=\"DejaVuSans-72\" transform=\"scale(0.015625)\"/>\n      <path d=\"M 603 3500 \nL 1178 3500 \nL 1178 0 \nL 603 0 \nL 603 3500 \nz\nM 603 4863 \nL 1178 4863 \nL 1178 4134 \nL 603 4134 \nL 603 4863 \nz\n\" id=\"DejaVuSans-69\" transform=\"scale(0.015625)\"/>\n      <path d=\"M 3513 2113 \nL 3513 0 \nL 2938 0 \nL 2938 2094 \nQ 2938 2591 2744 2837 \nQ 2550 3084 2163 3084 \nQ 1697 3084 1428 2787 \nQ 1159 2491 1159 1978 \nL 1159 0 \nL 581 0 \nL 581 3500 \nL 1159 3500 \nL 1159 2956 \nQ 1366 3272 1645 3428 \nQ 1925 3584 2291 3584 \nQ 2894 3584 3203 3211 \nQ 3513 2838 3513 2113 \nz\n\" id=\"DejaVuSans-6e\" transform=\"scale(0.015625)\"/>\n      <path d=\"M 3809 666 \nL 3809 1919 \nL 2778 1919 \nL 2778 2438 \nL 4434 2438 \nL 4434 434 \nQ 4069 175 3628 42 \nQ 3188 -91 2688 -91 \nQ 1594 -91 976 548 \nQ 359 1188 359 2328 \nQ 359 3472 976 4111 \nQ 1594 4750 2688 4750 \nQ 3144 4750 3555 4637 \nQ 3966 4525 4313 4306 \nL 4313 3634 \nQ 3963 3931 3569 4081 \nQ 3175 4231 2741 4231 \nQ 1884 4231 1454 3753 \nQ 1025 3275 1025 2328 \nQ 1025 1384 1454 906 \nQ 1884 428 2741 428 \nQ 3075 428 3337 486 \nQ 3600 544 3809 666 \nz\n\" id=\"DejaVuSans-47\" transform=\"scale(0.015625)\"/>\n      <path d=\"M 2522 4238 \nQ 1834 4238 1429 3725 \nQ 1025 3213 1025 2328 \nQ 1025 1447 1429 934 \nQ 1834 422 2522 422 \nQ 3209 422 3611 934 \nQ 4013 1447 4013 2328 \nQ 4013 3213 3611 3725 \nQ 3209 4238 2522 4238 \nz\nM 2522 4750 \nQ 3503 4750 4090 4092 \nQ 4678 3434 4678 2328 \nQ 4678 1225 4090 567 \nQ 3503 -91 2522 -91 \nQ 1538 -91 948 565 \nQ 359 1222 359 2328 \nQ 359 3434 948 4092 \nQ 1538 4750 2522 4750 \nz\n\" id=\"DejaVuSans-4f\" transform=\"scale(0.015625)\"/>\n      <path d=\"M 1228 531 \nL 3431 531 \nL 3431 0 \nL 469 0 \nL 469 531 \nQ 828 903 1448 1529 \nQ 2069 2156 2228 2338 \nQ 2531 2678 2651 2914 \nQ 2772 3150 2772 3378 \nQ 2772 3750 2511 3984 \nQ 2250 4219 1831 4219 \nQ 1534 4219 1204 4116 \nQ 875 4013 500 3803 \nL 500 4441 \nQ 881 4594 1212 4672 \nQ 1544 4750 1819 4750 \nQ 2544 4750 2975 4387 \nQ 3406 4025 3406 3419 \nQ 3406 3131 3298 2873 \nQ 3191 2616 2906 2266 \nQ 2828 2175 2409 1742 \nQ 1991 1309 1228 531 \nz\n\" id=\"DejaVuSans-32\" transform=\"scale(0.015625)\"/>\n     </defs>\n     <use xlink:href=\"#DejaVuSans-64\"/>\n     <use x=\"63.476562\" xlink:href=\"#DejaVuSans-72\"/>\n     <use x=\"104.589844\" xlink:href=\"#DejaVuSans-61\"/>\n     <use x=\"165.869141\" xlink:href=\"#DejaVuSans-69\"/>\n     <use x=\"193.652344\" xlink:href=\"#DejaVuSans-6e\"/>\n     <use x=\"257.03125\" xlink:href=\"#DejaVuSans-3d\"/>\n     <use x=\"340.820312\" xlink:href=\"#DejaVuSans-47\"/>\n     <use x=\"418.310547\" xlink:href=\"#DejaVuSans-4f\"/>\n     <use x=\"497.021484\" xlink:href=\"#DejaVuSans-32\"/>\n     <use x=\"560.644531\" xlink:href=\"#DejaVuSans-32\"/>\n    </g>\n   </g>\n   <g id=\"text_3\">\n    <!-- source=GO20 -->\n    <g transform=\"translate(84.365 93.147812)scale(0.14 -0.14)\">\n     <defs>\n      <path d=\"M 2834 3397 \nL 2834 2853 \nQ 2591 2978 2328 3040 \nQ 2066 3103 1784 3103 \nQ 1356 3103 1142 2972 \nQ 928 2841 928 2578 \nQ 928 2378 1081 2264 \nQ 1234 2150 1697 2047 \nL 1894 2003 \nQ 2506 1872 2764 1633 \nQ 3022 1394 3022 966 \nQ 3022 478 2636 193 \nQ 2250 -91 1575 -91 \nQ 1294 -91 989 -36 \nQ 684 19 347 128 \nL 347 722 \nQ 666 556 975 473 \nQ 1284 391 1588 391 \nQ 1994 391 2212 530 \nQ 2431 669 2431 922 \nQ 2431 1156 2273 1281 \nQ 2116 1406 1581 1522 \nL 1381 1569 \nQ 847 1681 609 1914 \nQ 372 2147 372 2553 \nQ 372 3047 722 3315 \nQ 1072 3584 1716 3584 \nQ 2034 3584 2315 3537 \nQ 2597 3491 2834 3397 \nz\n\" id=\"DejaVuSans-73\" transform=\"scale(0.015625)\"/>\n      <path d=\"M 1959 3097 \nQ 1497 3097 1228 2736 \nQ 959 2375 959 1747 \nQ 959 1119 1226 758 \nQ 1494 397 1959 397 \nQ 2419 397 2687 759 \nQ 2956 1122 2956 1747 \nQ 2956 2369 2687 2733 \nQ 2419 3097 1959 3097 \nz\nM 1959 3584 \nQ 2709 3584 3137 3096 \nQ 3566 2609 3566 1747 \nQ 3566 888 3137 398 \nQ 2709 -91 1959 -91 \nQ 1206 -91 779 398 \nQ 353 888 353 1747 \nQ 353 2609 779 3096 \nQ 1206 3584 1959 3584 \nz\n\" id=\"DejaVuSans-6f\" transform=\"scale(0.015625)\"/>\n      <path d=\"M 544 1381 \nL 544 3500 \nL 1119 3500 \nL 1119 1403 \nQ 1119 906 1312 657 \nQ 1506 409 1894 409 \nQ 2359 409 2629 706 \nQ 2900 1003 2900 1516 \nL 2900 3500 \nL 3475 3500 \nL 3475 0 \nL 2900 0 \nL 2900 538 \nQ 2691 219 2414 64 \nQ 2138 -91 1772 -91 \nQ 1169 -91 856 284 \nQ 544 659 544 1381 \nz\nM 1991 3584 \nL 1991 3584 \nz\n\" id=\"DejaVuSans-75\" transform=\"scale(0.015625)\"/>\n      <path d=\"M 3122 3366 \nL 3122 2828 \nQ 2878 2963 2633 3030 \nQ 2388 3097 2138 3097 \nQ 1578 3097 1268 2742 \nQ 959 2388 959 1747 \nQ 959 1106 1268 751 \nQ 1578 397 2138 397 \nQ 2388 397 2633 464 \nQ 2878 531 3122 666 \nL 3122 134 \nQ 2881 22 2623 -34 \nQ 2366 -91 2075 -91 \nQ 1284 -91 818 406 \nQ 353 903 353 1747 \nQ 353 2603 823 3093 \nQ 1294 3584 2113 3584 \nQ 2378 3584 2631 3529 \nQ 2884 3475 3122 3366 \nz\n\" id=\"DejaVuSans-63\" transform=\"scale(0.015625)\"/>\n     </defs>\n     <use xlink:href=\"#DejaVuSans-73\"/>\n     <use x=\"52.099609\" xlink:href=\"#DejaVuSans-6f\"/>\n     <use x=\"113.28125\" xlink:href=\"#DejaVuSans-75\"/>\n     <use x=\"176.660156\" xlink:href=\"#DejaVuSans-72\"/>\n     <use x=\"215.523438\" xlink:href=\"#DejaVuSans-63\"/>\n     <use x=\"270.503906\" xlink:href=\"#DejaVuSans-65\"/>\n     <use x=\"332.027344\" xlink:href=\"#DejaVuSans-3d\"/>\n     <use x=\"415.816406\" xlink:href=\"#DejaVuSans-47\"/>\n     <use x=\"493.306641\" xlink:href=\"#DejaVuSans-4f\"/>\n     <use x=\"572.017578\" xlink:href=\"#DejaVuSans-32\"/>\n     <use x=\"635.640625\" xlink:href=\"#DejaVuSans-30\"/>\n    </g>\n   </g>\n  </g>\n </g>\n <defs>\n  <clipPath id=\"p55dde5c751\">\n   <rect height=\"90.95\" width=\"160.6296\" x=\"20.421087\" y=\"7.2\"/>\n  </clipPath>\n </defs>\n</svg>\n",
      "text/plain": [
       "<schemdraw.backends.mpl.Figure object at 0x7f93a6fa3040>"
      ]
     },
     "metadata": {},
     "execution_count": 8
    }
   ],
   "metadata": {
    "scrolled": true
   }
  },
  {
   "cell_type": "markdown",
   "source": [
    "To cancel out the leakage current and shunt resistance, you may need to do a subtraction.\n",
    "\n",
    "$I_{ds} = I_{GO20} - I_{GO20}|_{V_{gs} = 0}$ "
   ],
   "metadata": {}
  },
  {
   "cell_type": "markdown",
   "source": [
    "Note: It's better to measure source because its leakage is constant in this lab"
   ],
   "metadata": {}
  },
  {
   "cell_type": "markdown",
   "source": [
    "* You have to set the input voltage demultiplexer by sending a configuration event:"
   ],
   "metadata": {}
  },
  {
   "cell_type": "code",
   "execution_count": 9,
   "source": [
    "# Configure NMOSFET, set the input voltage demultiplexer by AER. \n",
    "# Note selectlines we should choose for the NMOSFET\n",
    "\n",
    "events = [pyplane.Coach.generate_aerc_event( \\\n",
    "    pyplane.Coach.CurrentOutputSelect.SelectLine5, \\\n",
    "    pyplane.Coach.VoltageOutputSelect.NoneSelected, \\\n",
    "    pyplane.Coach.VoltageInputSelect.SelectLine2, \\\n",
    "    pyplane.Coach.SynapseSelect.NoneSelected, 0)]\n",
    "\n",
    "p.send_coach_events(events)"
   ],
   "outputs": [],
   "metadata": {}
  },
  {
   "cell_type": "markdown",
   "source": [
    "* Check the configuration is correct. If the measured result is not as expected, try sending the configration event again."
   ],
   "metadata": {}
  },
  {
   "cell_type": "code",
   "execution_count": 10,
   "source": [
    "# set source voltage\n",
    "vs = 0.0\n",
    "p.set_voltage(pyplane.DacChannel.GO20 , vs)\n",
    "print(f\"The source voltage is set to {vs:.2f} V\")"
   ],
   "outputs": [
    {
     "output_type": "stream",
     "name": "stdout",
     "text": [
      "The source voltage is set to 0.00 V\n"
     ]
    }
   ],
   "metadata": {}
  },
  {
   "cell_type": "code",
   "execution_count": 11,
   "source": [
    "# set drain voltage\n",
    "vd = 1.8\n",
    "p.set_voltage(pyplane.DacChannel.GO22 , vd)\n",
    "print(f\"The drain voltage is set to {vd:.2f} V\")"
   ],
   "outputs": [
    {
     "output_type": "stream",
     "name": "stdout",
     "text": [
      "The drain voltage is set to 1.80 V\n"
     ]
    }
   ],
   "metadata": {}
  },
  {
   "cell_type": "code",
   "execution_count": 12,
   "source": [
    "# set gate voltage\n",
    "vg = 1.0\n",
    "p.set_voltage(pyplane.DacChannel.AIN0, vg)\n",
    "print(f\"The gate voltage is set to {vg:.2f} V\")"
   ],
   "outputs": [
    {
     "output_type": "stream",
     "name": "stdout",
     "text": [
      "The gate voltage is set to 1.00 V\n"
     ]
    }
   ],
   "metadata": {}
  },
  {
   "cell_type": "code",
   "execution_count": 13,
   "source": [
    "# read I_{ds}\n",
    "I_s = p.read_current(pyplane.AdcChannel.GO20_N)      #source\n",
    "print(f\"The measured source current is {I_s} A\")\n",
    "I_d = p.read_current(pyplane.AdcChannel.GO22)       #drain\n",
    "print(f\"The measured drain current is {I_d} A\")"
   ],
   "outputs": [
    {
     "output_type": "stream",
     "name": "stdout",
     "text": [
      "The measured source current is 1.8554686903371476e-05 A\n",
      "The measured drain current is 2.0117187887080945e-05 A\n"
     ]
    }
   ],
   "metadata": {}
  },
  {
   "cell_type": "markdown",
   "source": [
    "* Question: Check if the measured currents change with different gate voltages?"
   ],
   "metadata": {}
  },
  {
   "cell_type": "markdown",
   "source": [
    "> Yes, a higher gate voltage will cause a higher current."
   ],
   "metadata": {}
  },
  {
   "cell_type": "markdown",
   "source": [
    "<a id='config_pfet'></a>\n",
    "## 4.3 Configurations for P-FET"
   ],
   "metadata": {}
  },
  {
   "cell_type": "code",
   "execution_count": 14,
   "source": [
    "# uses schemdraw, you may have to install it in order to run it on your PC\n",
    "import schemdraw\n",
    "import schemdraw.elements as elm\n",
    "d = schemdraw.Drawing()\n",
    "Q = d.add(elm.PFet, reverse=True, bulk=True)\n",
    "d.add(elm.Dot, xy=Q.gate, lftlabel='gate=AIN0')\n",
    "d.add(elm.Dot, xy=Q.bulk, rgtlabel='bulk=AIN1')\n",
    "d.add(elm.Dot, xy=Q.drain, botlabel='drain=GO21')\n",
    "d.add(elm.Dot, xy=Q.source, toplabel='source=GO23')\n",
    "d.draw()"
   ],
   "outputs": [
    {
     "output_type": "execute_result",
     "data": {
      "image/png": "[encoded data removed]",
      "image/svg+xml": "<?xml version=\"1.0\" encoding=\"utf-8\" standalone=\"no\"?>\n<!DOCTYPE svg PUBLIC \"-//W3C//DTD SVG 1.1//EN\"\n  \"http://www.w3.org/Graphics/SVG/1.1/DTD/svg11.dtd\">\n<svg height=\"105.35pt\" version=\"1.1\" viewBox=\"0 0 220.445938 105.35\" width=\"220.445938pt\" xmlns=\"http://www.w3.org/2000/svg\" xmlns:xlink=\"http://www.w3.org/1999/xlink\">\n <metadata>\n  <rdf:RDF xmlns:cc=\"http://creativecommons.org/ns#\" xmlns:dc=\"http://purl.org/dc/elements/1.1/\" xmlns:rdf=\"http://www.w3.org/1999/02/22-rdf-syntax-ns#\">\n   <cc:Work>\n    <dc:type rdf:resource=\"http://purl.org/dc/dcmitype/StillImage\"/>\n    <dc:date>2021-10-07T15:18:49.489142</dc:date>\n    <dc:format>image/svg+xml</dc:format>\n    <dc:creator>\n     <cc:Agent>\n      <dc:title>Matplotlib v3.4.3, https://matplotlib.org/</dc:title>\n     </cc:Agent>\n    </dc:creator>\n   </cc:Work>\n  </rdf:RDF>\n </metadata>\n <defs>\n  <style type=\"text/css\">*{stroke-linecap:butt;stroke-linejoin:round;}</style>\n </defs>\n <g id=\"figure_1\">\n  <g id=\"patch_1\">\n   <path d=\"M 0 105.35 \nL 220.445937 105.35 \nL 220.445937 0 \nL 0 0 \nz\n\" style=\"fill:none;\"/>\n  </g>\n  <g id=\"axes_1\">\n   <g id=\"patch_2\">\n    <path clip-path=\"url(#p42f077ba56)\" d=\"M 101.694688 57.775 \nC 102.641463 57.775 103.549588 57.398842 104.219059 56.729371 \nC 104.88853 56.0599 105.264688 55.151775 105.264688 54.205 \nC 105.264688 53.258225 104.88853 52.3501 104.219059 51.680629 \nC 103.549588 51.011158 102.641463 50.635 101.694688 50.635 \nC 100.747912 50.635 99.839787 51.011158 99.170316 51.680629 \nC 98.500845 52.3501 98.124688 53.258225 98.124688 54.205 \nC 98.124688 55.151775 98.500845 56.0599 99.170316 56.729371 \nC 99.839787 57.398842 100.747912 57.775 101.694688 57.775 \nz\n\" style=\"fill:none;stroke:#000000;stroke-linejoin:miter;stroke-width:2;\"/>\n   </g>\n   <g id=\"patch_3\">\n    <path clip-path=\"url(#p42f077ba56)\" d=\"M 119.034688 57.265 \nL 112.914688 54.205 \nL 119.034688 51.145 \nz\n\"/>\n   </g>\n   <g id=\"line2d_1\">\n    <path clip-path=\"url(#p42f077ba56)\" d=\"M 133.314688 77.155 \nL 133.314688 64.405 \nL 112.914688 64.405 \nL 112.914688 44.005 \nL 133.314688 44.005 \nL 133.314688 31.255 \n\" style=\"fill:none;stroke:#000000;stroke-linecap:round;stroke-width:2;\"/>\n   </g>\n   <g id=\"line2d_2\">\n    <path clip-path=\"url(#p42f077ba56)\" d=\"M 105.264688 64.405 \nL 105.264688 44.005 \n\" style=\"fill:none;stroke:#000000;stroke-linecap:round;stroke-width:2;\"/>\n   </g>\n   <g id=\"line2d_3\">\n    <path clip-path=\"url(#p42f077ba56)\" d=\"M 88.944688 54.205 \nL 98.124688 54.205 \n\" style=\"fill:none;stroke:#000000;stroke-linecap:round;stroke-width:2;\"/>\n   </g>\n   <g id=\"line2d_4\">\n    <path clip-path=\"url(#p42f077ba56)\" d=\"M 133.314688 54.205 \nL 119.034688 54.205 \n\" style=\"fill:none;stroke:#000000;stroke-linecap:square;stroke-width:2;\"/>\n   </g>\n   <g id=\"patch_4\">\n    <path clip-path=\"url(#p42f077ba56)\" d=\"M 88.944688 56.5 \nC 89.553329 56.5 90.137123 56.258184 90.567498 55.82781 \nC 90.997872 55.397436 91.239688 54.813641 91.239688 54.205 \nC 91.239688 53.596359 90.997872 53.012564 90.567498 52.58219 \nC 90.137123 52.151816 89.553329 51.91 88.944688 51.91 \nC 88.336046 51.91 87.752252 52.151816 87.321877 52.58219 \nC 86.891503 53.012564 86.649688 53.596359 86.649688 54.205 \nC 86.649688 54.813641 86.891503 55.397436 87.321877 55.82781 \nC 87.752252 56.258184 88.336046 56.5 88.944688 56.5 \nz\n\" style=\"stroke:#000000;stroke-linejoin:miter;stroke-width:2;\"/>\n   </g>\n   <g id=\"patch_5\">\n    <path clip-path=\"url(#p42f077ba56)\" d=\"M 133.314688 56.5 \nC 133.923329 56.5 134.507123 56.258184 134.937498 55.82781 \nC 135.367872 55.397436 135.609688 54.813641 135.609688 54.205 \nC 135.609688 53.596359 135.367872 53.012564 134.937498 52.58219 \nC 134.507123 52.151816 133.923329 51.91 133.314688 51.91 \nC 132.706046 51.91 132.122252 52.151816 131.691877 52.58219 \nC 131.261503 53.012564 131.019688 53.596359 131.019688 54.205 \nC 131.019688 54.813641 131.261503 55.397436 131.691877 55.82781 \nC 132.122252 56.258184 132.706046 56.5 133.314688 56.5 \nz\n\" style=\"stroke:#000000;stroke-linejoin:miter;stroke-width:2;\"/>\n   </g>\n   <g id=\"patch_6\">\n    <path clip-path=\"url(#p42f077ba56)\" d=\"M 133.314688 79.45 \nC 133.923329 79.45 134.507123 79.208184 134.937498 78.77781 \nC 135.367872 78.347436 135.609688 77.763641 135.609688 77.155 \nC 135.609688 76.546359 135.367872 75.962564 134.937498 75.53219 \nC 134.507123 75.101816 133.923329 74.86 133.314688 74.86 \nC 132.706046 74.86 132.122252 75.101816 131.691877 75.53219 \nC 131.261503 75.962564 131.019688 76.546359 131.019688 77.155 \nC 131.019688 77.763641 131.261503 78.347436 131.691877 78.77781 \nC 132.122252 79.208184 132.706046 79.45 133.314688 79.45 \nz\n\" style=\"stroke:#000000;stroke-linejoin:miter;stroke-width:2;\"/>\n   </g>\n   <g id=\"patch_7\">\n    <path clip-path=\"url(#p42f077ba56)\" d=\"M 133.314688 33.55 \nC 133.923329 33.55 134.507123 33.308184 134.937498 32.87781 \nC 135.367872 32.447436 135.609688 31.863641 135.609688 31.255 \nC 135.609688 30.646359 135.367872 30.062564 134.937498 29.63219 \nC 134.507123 29.201816 133.923329 28.96 133.314688 28.96 \nC 132.706046 28.96 132.122252 29.201816 131.691877 29.63219 \nC 131.261503 30.062564 131.019688 30.646359 131.019688 31.255 \nC 131.019688 31.863641 131.261503 32.447436 131.691877 32.87781 \nC 132.122252 33.308184 132.706046 33.55 133.314688 33.55 \nz\n\" style=\"stroke:#000000;stroke-linejoin:miter;stroke-width:2;\"/>\n   </g>\n   <g id=\"text_1\">\n    <!-- gate=AIN0 -->\n    <g transform=\"translate(7.2 58.068125)scale(0.14 -0.14)\">\n     <defs>\n      <path d=\"M 2906 1791 \nQ 2906 2416 2648 2759 \nQ 2391 3103 1925 3103 \nQ 1463 3103 1205 2759 \nQ 947 2416 947 1791 \nQ 947 1169 1205 825 \nQ 1463 481 1925 481 \nQ 2391 481 2648 825 \nQ 2906 1169 2906 1791 \nz\nM 3481 434 \nQ 3481 -459 3084 -895 \nQ 2688 -1331 1869 -1331 \nQ 1566 -1331 1297 -1286 \nQ 1028 -1241 775 -1147 \nL 775 -588 \nQ 1028 -725 1275 -790 \nQ 1522 -856 1778 -856 \nQ 2344 -856 2625 -561 \nQ 2906 -266 2906 331 \nL 2906 616 \nQ 2728 306 2450 153 \nQ 2172 0 1784 0 \nQ 1141 0 747 490 \nQ 353 981 353 1791 \nQ 353 2603 747 3093 \nQ 1141 3584 1784 3584 \nQ 2172 3584 2450 3431 \nQ 2728 3278 2906 2969 \nL 2906 3500 \nL 3481 3500 \nL 3481 434 \nz\n\" id=\"DejaVuSans-67\" transform=\"scale(0.015625)\"/>\n      <path d=\"M 2194 1759 \nQ 1497 1759 1228 1600 \nQ 959 1441 959 1056 \nQ 959 750 1161 570 \nQ 1363 391 1709 391 \nQ 2188 391 2477 730 \nQ 2766 1069 2766 1631 \nL 2766 1759 \nL 2194 1759 \nz\nM 3341 1997 \nL 3341 0 \nL 2766 0 \nL 2766 531 \nQ 2569 213 2275 61 \nQ 1981 -91 1556 -91 \nQ 1019 -91 701 211 \nQ 384 513 384 1019 \nQ 384 1609 779 1909 \nQ 1175 2209 1959 2209 \nL 2766 2209 \nL 2766 2266 \nQ 2766 2663 2505 2880 \nQ 2244 3097 1772 3097 \nQ 1472 3097 1187 3025 \nQ 903 2953 641 2809 \nL 641 3341 \nQ 956 3463 1253 3523 \nQ 1550 3584 1831 3584 \nQ 2591 3584 2966 3190 \nQ 3341 2797 3341 1997 \nz\n\" id=\"DejaVuSans-61\" transform=\"scale(0.015625)\"/>\n      <path d=\"M 1172 4494 \nL 1172 3500 \nL 2356 3500 \nL 2356 3053 \nL 1172 3053 \nL 1172 1153 \nQ 1172 725 1289 603 \nQ 1406 481 1766 481 \nL 2356 481 \nL 2356 0 \nL 1766 0 \nQ 1100 0 847 248 \nQ 594 497 594 1153 \nL 594 3053 \nL 172 3053 \nL 172 3500 \nL 594 3500 \nL 594 4494 \nL 1172 4494 \nz\n\" id=\"DejaVuSans-74\" transform=\"scale(0.015625)\"/>\n      <path d=\"M 3597 1894 \nL 3597 1613 \nL 953 1613 \nQ 991 1019 1311 708 \nQ 1631 397 2203 397 \nQ 2534 397 2845 478 \nQ 3156 559 3463 722 \nL 3463 178 \nQ 3153 47 2828 -22 \nQ 2503 -91 2169 -91 \nQ 1331 -91 842 396 \nQ 353 884 353 1716 \nQ 353 2575 817 3079 \nQ 1281 3584 2069 3584 \nQ 2775 3584 3186 3129 \nQ 3597 2675 3597 1894 \nz\nM 3022 2063 \nQ 3016 2534 2758 2815 \nQ 2500 3097 2075 3097 \nQ 1594 3097 1305 2825 \nQ 1016 2553 972 2059 \nL 3022 2063 \nz\n\" id=\"DejaVuSans-65\" transform=\"scale(0.015625)\"/>\n      <path d=\"M 678 2906 \nL 4684 2906 \nL 4684 2381 \nL 678 2381 \nL 678 2906 \nz\nM 678 1631 \nL 4684 1631 \nL 4684 1100 \nL 678 1100 \nL 678 1631 \nz\n\" id=\"DejaVuSans-3d\" transform=\"scale(0.015625)\"/>\n      <path d=\"M 2188 4044 \nL 1331 1722 \nL 3047 1722 \nL 2188 4044 \nz\nM 1831 4666 \nL 2547 4666 \nL 4325 0 \nL 3669 0 \nL 3244 1197 \nL 1141 1197 \nL 716 0 \nL 50 0 \nL 1831 4666 \nz\n\" id=\"DejaVuSans-41\" transform=\"scale(0.015625)\"/>\n      <path d=\"M 628 4666 \nL 1259 4666 \nL 1259 0 \nL 628 0 \nL 628 4666 \nz\n\" id=\"DejaVuSans-49\" transform=\"scale(0.015625)\"/>\n      <path d=\"M 628 4666 \nL 1478 4666 \nL 3547 763 \nL 3547 4666 \nL 4159 4666 \nL 4159 0 \nL 3309 0 \nL 1241 3903 \nL 1241 0 \nL 628 0 \nL 628 4666 \nz\n\" id=\"DejaVuSans-4e\" transform=\"scale(0.015625)\"/>\n      <path d=\"M 2034 4250 \nQ 1547 4250 1301 3770 \nQ 1056 3291 1056 2328 \nQ 1056 1369 1301 889 \nQ 1547 409 2034 409 \nQ 2525 409 2770 889 \nQ 3016 1369 3016 2328 \nQ 3016 3291 2770 3770 \nQ 2525 4250 2034 4250 \nz\nM 2034 4750 \nQ 2819 4750 3233 4129 \nQ 3647 3509 3647 2328 \nQ 3647 1150 3233 529 \nQ 2819 -91 2034 -91 \nQ 1250 -91 836 529 \nQ 422 1150 422 2328 \nQ 422 3509 836 4129 \nQ 1250 4750 2034 4750 \nz\n\" id=\"DejaVuSans-30\" transform=\"scale(0.015625)\"/>\n     </defs>\n     <use xlink:href=\"#DejaVuSans-67\"/>\n     <use x=\"63.476562\" xlink:href=\"#DejaVuSans-61\"/>\n     <use x=\"124.755859\" xlink:href=\"#DejaVuSans-74\"/>\n     <use x=\"163.964844\" xlink:href=\"#DejaVuSans-65\"/>\n     <use x=\"225.488281\" xlink:href=\"#DejaVuSans-3d\"/>\n     <use x=\"309.277344\" xlink:href=\"#DejaVuSans-41\"/>\n     <use x=\"377.685547\" xlink:href=\"#DejaVuSans-49\"/>\n     <use x=\"407.177734\" xlink:href=\"#DejaVuSans-4e\"/>\n     <use x=\"481.982422\" xlink:href=\"#DejaVuSans-30\"/>\n    </g>\n   </g>\n   <g id=\"text_2\">\n    <!-- bulk=AIN1 -->\n    <g transform=\"translate(138.669688 58.068125)scale(0.14 -0.14)\">\n     <defs>\n      <path d=\"M 3116 1747 \nQ 3116 2381 2855 2742 \nQ 2594 3103 2138 3103 \nQ 1681 3103 1420 2742 \nQ 1159 2381 1159 1747 \nQ 1159 1113 1420 752 \nQ 1681 391 2138 391 \nQ 2594 391 2855 752 \nQ 3116 1113 3116 1747 \nz\nM 1159 2969 \nQ 1341 3281 1617 3432 \nQ 1894 3584 2278 3584 \nQ 2916 3584 3314 3078 \nQ 3713 2572 3713 1747 \nQ 3713 922 3314 415 \nQ 2916 -91 2278 -91 \nQ 1894 -91 1617 61 \nQ 1341 213 1159 525 \nL 1159 0 \nL 581 0 \nL 581 4863 \nL 1159 4863 \nL 1159 2969 \nz\n\" id=\"DejaVuSans-62\" transform=\"scale(0.015625)\"/>\n      <path d=\"M 544 1381 \nL 544 3500 \nL 1119 3500 \nL 1119 1403 \nQ 1119 906 1312 657 \nQ 1506 409 1894 409 \nQ 2359 409 2629 706 \nQ 2900 1003 2900 1516 \nL 2900 3500 \nL 3475 3500 \nL 3475 0 \nL 2900 0 \nL 2900 538 \nQ 2691 219 2414 64 \nQ 2138 -91 1772 -91 \nQ 1169 -91 856 284 \nQ 544 659 544 1381 \nz\nM 1991 3584 \nL 1991 3584 \nz\n\" id=\"DejaVuSans-75\" transform=\"scale(0.015625)\"/>\n      <path d=\"M 603 4863 \nL 1178 4863 \nL 1178 0 \nL 603 0 \nL 603 4863 \nz\n\" id=\"DejaVuSans-6c\" transform=\"scale(0.015625)\"/>\n      <path d=\"M 581 4863 \nL 1159 4863 \nL 1159 1991 \nL 2875 3500 \nL 3609 3500 \nL 1753 1863 \nL 3688 0 \nL 2938 0 \nL 1159 1709 \nL 1159 0 \nL 581 0 \nL 581 4863 \nz\n\" id=\"DejaVuSans-6b\" transform=\"scale(0.015625)\"/>\n      <path d=\"M 794 531 \nL 1825 531 \nL 1825 4091 \nL 703 3866 \nL 703 4441 \nL 1819 4666 \nL 2450 4666 \nL 2450 531 \nL 3481 531 \nL 3481 0 \nL 794 0 \nL 794 531 \nz\n\" id=\"DejaVuSans-31\" transform=\"scale(0.015625)\"/>\n     </defs>\n     <use xlink:href=\"#DejaVuSans-62\"/>\n     <use x=\"63.476562\" xlink:href=\"#DejaVuSans-75\"/>\n     <use x=\"126.855469\" xlink:href=\"#DejaVuSans-6c\"/>\n     <use x=\"154.638672\" xlink:href=\"#DejaVuSans-6b\"/>\n     <use x=\"212.548828\" xlink:href=\"#DejaVuSans-3d\"/>\n     <use x=\"296.337891\" xlink:href=\"#DejaVuSans-41\"/>\n     <use x=\"364.746094\" xlink:href=\"#DejaVuSans-49\"/>\n     <use x=\"394.238281\" xlink:href=\"#DejaVuSans-4e\"/>\n     <use x=\"469.042969\" xlink:href=\"#DejaVuSans-31\"/>\n    </g>\n   </g>\n   <g id=\"text_3\">\n    <!-- drain=GO21 -->\n    <g transform=\"translate(89.615 93.147812)scale(0.14 -0.14)\">\n     <defs>\n      <path d=\"M 2906 2969 \nL 2906 4863 \nL 3481 4863 \nL 3481 0 \nL 2906 0 \nL 2906 525 \nQ 2725 213 2448 61 \nQ 2172 -91 1784 -91 \nQ 1150 -91 751 415 \nQ 353 922 353 1747 \nQ 353 2572 751 3078 \nQ 1150 3584 1784 3584 \nQ 2172 3584 2448 3432 \nQ 2725 3281 2906 2969 \nz\nM 947 1747 \nQ 947 1113 1208 752 \nQ 1469 391 1925 391 \nQ 2381 391 2643 752 \nQ 2906 1113 2906 1747 \nQ 2906 2381 2643 2742 \nQ 2381 3103 1925 3103 \nQ 1469 3103 1208 2742 \nQ 947 2381 947 1747 \nz\n\" id=\"DejaVuSans-64\" transform=\"scale(0.015625)\"/>\n      <path d=\"M 2631 2963 \nQ 2534 3019 2420 3045 \nQ 2306 3072 2169 3072 \nQ 1681 3072 1420 2755 \nQ 1159 2438 1159 1844 \nL 1159 0 \nL 581 0 \nL 581 3500 \nL 1159 3500 \nL 1159 2956 \nQ 1341 3275 1631 3429 \nQ 1922 3584 2338 3584 \nQ 2397 3584 2469 3576 \nQ 2541 3569 2628 3553 \nL 2631 2963 \nz\n\" id=\"DejaVuSans-72\" transform=\"scale(0.015625)\"/>\n      <path d=\"M 603 3500 \nL 1178 3500 \nL 1178 0 \nL 603 0 \nL 603 3500 \nz\nM 603 4863 \nL 1178 4863 \nL 1178 4134 \nL 603 4134 \nL 603 4863 \nz\n\" id=\"DejaVuSans-69\" transform=\"scale(0.015625)\"/>\n      <path d=\"M 3513 2113 \nL 3513 0 \nL 2938 0 \nL 2938 2094 \nQ 2938 2591 2744 2837 \nQ 2550 3084 2163 3084 \nQ 1697 3084 1428 2787 \nQ 1159 2491 1159 1978 \nL 1159 0 \nL 581 0 \nL 581 3500 \nL 1159 3500 \nL 1159 2956 \nQ 1366 3272 1645 3428 \nQ 1925 3584 2291 3584 \nQ 2894 3584 3203 3211 \nQ 3513 2838 3513 2113 \nz\n\" id=\"DejaVuSans-6e\" transform=\"scale(0.015625)\"/>\n      <path d=\"M 3809 666 \nL 3809 1919 \nL 2778 1919 \nL 2778 2438 \nL 4434 2438 \nL 4434 434 \nQ 4069 175 3628 42 \nQ 3188 -91 2688 -91 \nQ 1594 -91 976 548 \nQ 359 1188 359 2328 \nQ 359 3472 976 4111 \nQ 1594 4750 2688 4750 \nQ 3144 4750 3555 4637 \nQ 3966 4525 4313 4306 \nL 4313 3634 \nQ 3963 3931 3569 4081 \nQ 3175 4231 2741 4231 \nQ 1884 4231 1454 3753 \nQ 1025 3275 1025 2328 \nQ 1025 1384 1454 906 \nQ 1884 428 2741 428 \nQ 3075 428 3337 486 \nQ 3600 544 3809 666 \nz\n\" id=\"DejaVuSans-47\" transform=\"scale(0.015625)\"/>\n      <path d=\"M 2522 4238 \nQ 1834 4238 1429 3725 \nQ 1025 3213 1025 2328 \nQ 1025 1447 1429 934 \nQ 1834 422 2522 422 \nQ 3209 422 3611 934 \nQ 4013 1447 4013 2328 \nQ 4013 3213 3611 3725 \nQ 3209 4238 2522 4238 \nz\nM 2522 4750 \nQ 3503 4750 4090 4092 \nQ 4678 3434 4678 2328 \nQ 4678 1225 4090 567 \nQ 3503 -91 2522 -91 \nQ 1538 -91 948 565 \nQ 359 1222 359 2328 \nQ 359 3434 948 4092 \nQ 1538 4750 2522 4750 \nz\n\" id=\"DejaVuSans-4f\" transform=\"scale(0.015625)\"/>\n      <path d=\"M 1228 531 \nL 3431 531 \nL 3431 0 \nL 469 0 \nL 469 531 \nQ 828 903 1448 1529 \nQ 2069 2156 2228 2338 \nQ 2531 2678 2651 2914 \nQ 2772 3150 2772 3378 \nQ 2772 3750 2511 3984 \nQ 2250 4219 1831 4219 \nQ 1534 4219 1204 4116 \nQ 875 4013 500 3803 \nL 500 4441 \nQ 881 4594 1212 4672 \nQ 1544 4750 1819 4750 \nQ 2544 4750 2975 4387 \nQ 3406 4025 3406 3419 \nQ 3406 3131 3298 2873 \nQ 3191 2616 2906 2266 \nQ 2828 2175 2409 1742 \nQ 1991 1309 1228 531 \nz\n\" id=\"DejaVuSans-32\" transform=\"scale(0.015625)\"/>\n     </defs>\n     <use xlink:href=\"#DejaVuSans-64\"/>\n     <use x=\"63.476562\" xlink:href=\"#DejaVuSans-72\"/>\n     <use x=\"104.589844\" xlink:href=\"#DejaVuSans-61\"/>\n     <use x=\"165.869141\" xlink:href=\"#DejaVuSans-69\"/>\n     <use x=\"193.652344\" xlink:href=\"#DejaVuSans-6e\"/>\n     <use x=\"257.03125\" xlink:href=\"#DejaVuSans-3d\"/>\n     <use x=\"340.820312\" xlink:href=\"#DejaVuSans-47\"/>\n     <use x=\"418.310547\" xlink:href=\"#DejaVuSans-4f\"/>\n     <use x=\"497.021484\" xlink:href=\"#DejaVuSans-32\"/>\n     <use x=\"560.644531\" xlink:href=\"#DejaVuSans-31\"/>\n    </g>\n   </g>\n   <g id=\"text_4\">\n    <!-- source=GO23 -->\n    <g transform=\"translate(84.365 22.988437)scale(0.14 -0.14)\">\n     <defs>\n      <path d=\"M 2834 3397 \nL 2834 2853 \nQ 2591 2978 2328 3040 \nQ 2066 3103 1784 3103 \nQ 1356 3103 1142 2972 \nQ 928 2841 928 2578 \nQ 928 2378 1081 2264 \nQ 1234 2150 1697 2047 \nL 1894 2003 \nQ 2506 1872 2764 1633 \nQ 3022 1394 3022 966 \nQ 3022 478 2636 193 \nQ 2250 -91 1575 -91 \nQ 1294 -91 989 -36 \nQ 684 19 347 128 \nL 347 722 \nQ 666 556 975 473 \nQ 1284 391 1588 391 \nQ 1994 391 2212 530 \nQ 2431 669 2431 922 \nQ 2431 1156 2273 1281 \nQ 2116 1406 1581 1522 \nL 1381 1569 \nQ 847 1681 609 1914 \nQ 372 2147 372 2553 \nQ 372 3047 722 3315 \nQ 1072 3584 1716 3584 \nQ 2034 3584 2315 3537 \nQ 2597 3491 2834 3397 \nz\n\" id=\"DejaVuSans-73\" transform=\"scale(0.015625)\"/>\n      <path d=\"M 1959 3097 \nQ 1497 3097 1228 2736 \nQ 959 2375 959 1747 \nQ 959 1119 1226 758 \nQ 1494 397 1959 397 \nQ 2419 397 2687 759 \nQ 2956 1122 2956 1747 \nQ 2956 2369 2687 2733 \nQ 2419 3097 1959 3097 \nz\nM 1959 3584 \nQ 2709 3584 3137 3096 \nQ 3566 2609 3566 1747 \nQ 3566 888 3137 398 \nQ 2709 -91 1959 -91 \nQ 1206 -91 779 398 \nQ 353 888 353 1747 \nQ 353 2609 779 3096 \nQ 1206 3584 1959 3584 \nz\n\" id=\"DejaVuSans-6f\" transform=\"scale(0.015625)\"/>\n      <path d=\"M 3122 3366 \nL 3122 2828 \nQ 2878 2963 2633 3030 \nQ 2388 3097 2138 3097 \nQ 1578 3097 1268 2742 \nQ 959 2388 959 1747 \nQ 959 1106 1268 751 \nQ 1578 397 2138 397 \nQ 2388 397 2633 464 \nQ 2878 531 3122 666 \nL 3122 134 \nQ 2881 22 2623 -34 \nQ 2366 -91 2075 -91 \nQ 1284 -91 818 406 \nQ 353 903 353 1747 \nQ 353 2603 823 3093 \nQ 1294 3584 2113 3584 \nQ 2378 3584 2631 3529 \nQ 2884 3475 3122 3366 \nz\n\" id=\"DejaVuSans-63\" transform=\"scale(0.015625)\"/>\n      <path d=\"M 2597 2516 \nQ 3050 2419 3304 2112 \nQ 3559 1806 3559 1356 \nQ 3559 666 3084 287 \nQ 2609 -91 1734 -91 \nQ 1441 -91 1130 -33 \nQ 819 25 488 141 \nL 488 750 \nQ 750 597 1062 519 \nQ 1375 441 1716 441 \nQ 2309 441 2620 675 \nQ 2931 909 2931 1356 \nQ 2931 1769 2642 2001 \nQ 2353 2234 1838 2234 \nL 1294 2234 \nL 1294 2753 \nL 1863 2753 \nQ 2328 2753 2575 2939 \nQ 2822 3125 2822 3475 \nQ 2822 3834 2567 4026 \nQ 2313 4219 1838 4219 \nQ 1578 4219 1281 4162 \nQ 984 4106 628 3988 \nL 628 4550 \nQ 988 4650 1302 4700 \nQ 1616 4750 1894 4750 \nQ 2613 4750 3031 4423 \nQ 3450 4097 3450 3541 \nQ 3450 3153 3228 2886 \nQ 3006 2619 2597 2516 \nz\n\" id=\"DejaVuSans-33\" transform=\"scale(0.015625)\"/>\n     </defs>\n     <use xlink:href=\"#DejaVuSans-73\"/>\n     <use x=\"52.099609\" xlink:href=\"#DejaVuSans-6f\"/>\n     <use x=\"113.28125\" xlink:href=\"#DejaVuSans-75\"/>\n     <use x=\"176.660156\" xlink:href=\"#DejaVuSans-72\"/>\n     <use x=\"215.523438\" xlink:href=\"#DejaVuSans-63\"/>\n     <use x=\"270.503906\" xlink:href=\"#DejaVuSans-65\"/>\n     <use x=\"332.027344\" xlink:href=\"#DejaVuSans-3d\"/>\n     <use x=\"415.816406\" xlink:href=\"#DejaVuSans-47\"/>\n     <use x=\"493.306641\" xlink:href=\"#DejaVuSans-4f\"/>\n     <use x=\"572.017578\" xlink:href=\"#DejaVuSans-32\"/>\n     <use x=\"635.640625\" xlink:href=\"#DejaVuSans-33\"/>\n    </g>\n   </g>\n  </g>\n </g>\n <defs>\n  <clipPath id=\"p42f077ba56\">\n   <rect height=\"90.95\" width=\"182.835\" x=\"20.421087\" y=\"7.2\"/>\n  </clipPath>\n </defs>\n</svg>\n",
      "text/plain": [
       "<schemdraw.backends.mpl.Figure object at 0x7f36352ff850>"
      ]
     },
     "metadata": {},
     "execution_count": 14
    }
   ],
   "metadata": {
    "scrolled": true
   }
  },
  {
   "cell_type": "markdown",
   "source": [
    "Hint: To cancel out the leakage current and shunt resistance, you may need to do a subtraction:\n",
    "\n",
    "$I_{ds} = I_{GO23} - I_{GO23}|_{V_{gs} = 0} $"
   ],
   "metadata": {}
  },
  {
   "cell_type": "markdown",
   "source": [
    "Note: It's better to measure source because its leakage is constant in this lab. \n",
    "Also think about the difference of $V_{gs}$ between PMOS and NMOS?"
   ],
   "metadata": {}
  },
  {
   "cell_type": "markdown",
   "source": [
    "* You have to choose the input voltage demultiplexer by sending a configuration event (make sure LED1 blinks):"
   ],
   "metadata": {}
  },
  {
   "cell_type": "code",
   "execution_count": 15,
   "source": [
    "# Configure PMOS, set the demultiplexer\n",
    "# Note selectlines we should choose for the PMOSFET\n",
    "# Note that SelectLine2 became SelectLine3. See the on page 12 of the manual.\n",
    "events = [pyplane.Coach.generate_aerc_event( \\\n",
    "    pyplane.Coach.CurrentOutputSelect.SelectLine5, \\\n",
    "    pyplane.Coach.VoltageOutputSelect.NoneSelected, \\\n",
    "    pyplane.Coach.VoltageInputSelect.SelectLine1, \\\n",
    "    pyplane.Coach.SynapseSelect.NoneSelected, 0)]\n",
    "\n",
    "p.send_coach_events(events)"
   ],
   "outputs": [],
   "metadata": {}
  },
  {
   "cell_type": "markdown",
   "source": [
    "* Check the configuration is correct. If the measured result is not as expected, try sending the event again."
   ],
   "metadata": {}
  },
  {
   "cell_type": "code",
   "execution_count": 16,
   "source": [
    "# set trial voltages\n",
    "Vs_p = 1.8\n",
    "Vd_p = 0.0\n",
    "Vg_p = 1.0\n",
    "\n",
    "# set bulk voltage\n",
    "# If the bulk voltage is not the source voltage, we will get an np junction\n",
    "# If the bulk is lower than the source voltage, we will get the wrong flow of current\n",
    "# So if we want to change the threshold, we could set the bulk voltage a bit higher than the source voltage\n",
    "# But the bulk voltage should always be the highest (in PFET)\n",
    "Vb_p = Vs_p\n",
    "\n",
    "\n",
    "print(\"The bulk voltage is set to {} V\".format(Vb_p))\n",
    "p.set_voltage(pyplane.DacChannel.AIN1, Vb_p)\n",
    "time.sleep(0.05)  # wait 0.05s for it to settle\n",
    "\n",
    "# set source voltage\n",
    "p.set_voltage(pyplane.DacChannel.GO23 , Vs_p)\n",
    "print(\"The source voltage is set to {} V\".format(Vs_p))\n",
    "time.sleep(0.05)  # wait 0.05s for it to settle\n",
    "\n",
    "# set drain voltage\n",
    "p.set_voltage(pyplane.DacChannel.GO21 , Vd_p)\n",
    "print(\"The drain voltage is set to {} V\".format(Vd_p))\n",
    "time.sleep(0.05)  # wait for it to settle\n",
    "\n",
    "# set gate voltage\n",
    "p.set_voltage(pyplane.DacChannel.AIN0, Vg_p)\n",
    "print(\"The gate voltage is set to {} V\".format(Vg_p))"
   ],
   "outputs": [
    {
     "output_type": "stream",
     "name": "stdout",
     "text": [
      "The bulk voltage is set to 1.8 V\n",
      "The source voltage is set to 1.8 V\n",
      "The drain voltage is set to 0.0 V\n",
      "The gate voltage is set to 1.0 V\n"
     ]
    }
   ],
   "metadata": {}
  },
  {
   "cell_type": "code",
   "execution_count": 17,
   "source": [
    "# read I_{ds}\n",
    "Is_p = p.read_current(pyplane.AdcChannel.GO23)      #source\n",
    "print(f\"The measured source current of PMOS is {Is_p} A\")\n",
    "\n",
    "Id_p = p.read_current(pyplane.AdcChannel.GO21_N)       #drain\n",
    "print(f\"The measured drain current of PMOS is {Id_p} A\")"
   ],
   "outputs": [
    {
     "output_type": "stream",
     "name": "stdout",
     "text": [
      "The measured source current of PMOS is 9.992675768444315e-05 A\n",
      "The measured drain current of PMOS is 8.544922138753464e-07 A\n"
     ]
    }
   ],
   "metadata": {}
  },
  {
   "cell_type": "markdown",
   "source": [
    "> Correction: The two currents should be about the same. "
   ],
   "metadata": {}
  },
  {
   "cell_type": "markdown",
   "source": [
    "# 5 Ohmic region"
   ],
   "metadata": {}
  },
  {
   "cell_type": "markdown",
   "source": [
    "In this experiment you will characterize the *linear* dependence of the current on the gate\n",
    "voltage in the strong-inversion ohmic region."
   ],
   "metadata": {}
  },
  {
   "cell_type": "markdown",
   "source": [
    "## 5.1 N-FET"
   ],
   "metadata": {}
  },
  {
   "cell_type": "code",
   "execution_count": 18,
   "source": [
    "# uses schemdraw, you may have to install it in order to run it on your PC\n",
    "import schemdraw\n",
    "import schemdraw.elements as elm\n",
    "d = schemdraw.Drawing()\n",
    "Q = d.add(elm.NFet, reverse=True)\n",
    "d.add(elm.Dot, xy=Q.gate, lftlabel='gate=AIN0')\n",
    "d.add(elm.Dot, xy=Q.drain, toplabel='drain=GO22')\n",
    "d.add(elm.Dot, xy=Q.source, botlabel='source=GO20')\n",
    "d.draw()"
   ],
   "outputs": [
    {
     "output_type": "execute_result",
     "data": {
      "image/png": "[encoded data removed]",
      "image/svg+xml": "<?xml version=\"1.0\" encoding=\"utf-8\" standalone=\"no\"?>\n<!DOCTYPE svg PUBLIC \"-//W3C//DTD SVG 1.1//EN\"\n  \"http://www.w3.org/Graphics/SVG/1.1/DTD/svg11.dtd\">\n<svg height=\"105.35pt\" version=\"1.1\" viewBox=\"0 0 189.464375 105.35\" width=\"189.464375pt\" xmlns=\"http://www.w3.org/2000/svg\" xmlns:xlink=\"http://www.w3.org/1999/xlink\">\n <metadata>\n  <rdf:RDF xmlns:cc=\"http://creativecommons.org/ns#\" xmlns:dc=\"http://purl.org/dc/elements/1.1/\" xmlns:rdf=\"http://www.w3.org/1999/02/22-rdf-syntax-ns#\">\n   <cc:Work>\n    <dc:type rdf:resource=\"http://purl.org/dc/dcmitype/StillImage\"/>\n    <dc:date>2021-10-07T15:18:56.513702</dc:date>\n    <dc:format>image/svg+xml</dc:format>\n    <dc:creator>\n     <cc:Agent>\n      <dc:title>Matplotlib v3.4.3, https://matplotlib.org/</dc:title>\n     </cc:Agent>\n    </dc:creator>\n   </cc:Work>\n  </rdf:RDF>\n </metadata>\n <defs>\n  <style type=\"text/css\">*{stroke-linecap:butt;stroke-linejoin:round;}</style>\n </defs>\n <g id=\"figure_1\">\n  <g id=\"patch_1\">\n   <path d=\"M 0 105.35 \nL 189.464375 105.35 \nL 189.464375 0 \nL 0 0 \nz\n\" style=\"fill:none;\"/>\n  </g>\n  <g id=\"axes_1\">\n   <g id=\"line2d_1\">\n    <path clip-path=\"url(#p89a64d24a4)\" d=\"M 133.314688 77.155 \nL 133.314688 64.405 \nL 112.914688 64.405 \nL 112.914688 44.005 \nL 133.314688 44.005 \nL 133.314688 31.255 \n\" style=\"fill:none;stroke:#000000;stroke-linecap:round;stroke-width:2;\"/>\n   </g>\n   <g id=\"line2d_2\">\n    <path clip-path=\"url(#p89a64d24a4)\" d=\"M 105.264688 64.405 \nL 105.264688 44.005 \n\" style=\"fill:none;stroke:#000000;stroke-linecap:round;stroke-width:2;\"/>\n   </g>\n   <g id=\"line2d_3\">\n    <path clip-path=\"url(#p89a64d24a4)\" d=\"M 88.944688 54.205 \nL 105.264688 54.205 \n\" style=\"fill:none;stroke:#000000;stroke-linecap:round;stroke-width:2;\"/>\n   </g>\n   <g id=\"patch_2\">\n    <path clip-path=\"url(#p89a64d24a4)\" d=\"M 88.944688 56.5 \nC 89.553329 56.5 90.137123 56.258184 90.567498 55.82781 \nC 90.997872 55.397436 91.239688 54.813641 91.239688 54.205 \nC 91.239688 53.596359 90.997872 53.012564 90.567498 52.58219 \nC 90.137123 52.151816 89.553329 51.91 88.944688 51.91 \nC 88.336046 51.91 87.752252 52.151816 87.321877 52.58219 \nC 86.891503 53.012564 86.649688 53.596359 86.649688 54.205 \nC 86.649688 54.813641 86.891503 55.397436 87.321877 55.82781 \nC 87.752252 56.258184 88.336046 56.5 88.944688 56.5 \nz\n\" style=\"stroke:#000000;stroke-linejoin:miter;stroke-width:2;\"/>\n   </g>\n   <g id=\"patch_3\">\n    <path clip-path=\"url(#p89a64d24a4)\" d=\"M 133.314688 33.55 \nC 133.923329 33.55 134.507123 33.308184 134.937498 32.87781 \nC 135.367872 32.447436 135.609688 31.863641 135.609688 31.255 \nC 135.609688 30.646359 135.367872 30.062564 134.937498 29.63219 \nC 134.507123 29.201816 133.923329 28.96 133.314688 28.96 \nC 132.706046 28.96 132.122252 29.201816 131.691877 29.63219 \nC 131.261503 30.062564 131.019688 30.646359 131.019688 31.255 \nC 131.019688 31.863641 131.261503 32.447436 131.691877 32.87781 \nC 132.122252 33.308184 132.706046 33.55 133.314688 33.55 \nz\n\" style=\"stroke:#000000;stroke-linejoin:miter;stroke-width:2;\"/>\n   </g>\n   <g id=\"patch_4\">\n    <path clip-path=\"url(#p89a64d24a4)\" d=\"M 133.314688 79.45 \nC 133.923329 79.45 134.507123 79.208184 134.937498 78.77781 \nC 135.367872 78.347436 135.609688 77.763641 135.609688 77.155 \nC 135.609688 76.546359 135.367872 75.962564 134.937498 75.53219 \nC 134.507123 75.101816 133.923329 74.86 133.314688 74.86 \nC 132.706046 74.86 132.122252 75.101816 131.691877 75.53219 \nC 131.261503 75.962564 131.019688 76.546359 131.019688 77.155 \nC 131.019688 77.763641 131.261503 78.347436 131.691877 78.77781 \nC 132.122252 79.208184 132.706046 79.45 133.314688 79.45 \nz\n\" style=\"stroke:#000000;stroke-linejoin:miter;stroke-width:2;\"/>\n   </g>\n   <g id=\"text_1\">\n    <!-- gate=AIN0 -->\n    <g transform=\"translate(7.2 58.068125)scale(0.14 -0.14)\">\n     <defs>\n      <path d=\"M 2906 1791 \nQ 2906 2416 2648 2759 \nQ 2391 3103 1925 3103 \nQ 1463 3103 1205 2759 \nQ 947 2416 947 1791 \nQ 947 1169 1205 825 \nQ 1463 481 1925 481 \nQ 2391 481 2648 825 \nQ 2906 1169 2906 1791 \nz\nM 3481 434 \nQ 3481 -459 3084 -895 \nQ 2688 -1331 1869 -1331 \nQ 1566 -1331 1297 -1286 \nQ 1028 -1241 775 -1147 \nL 775 -588 \nQ 1028 -725 1275 -790 \nQ 1522 -856 1778 -856 \nQ 2344 -856 2625 -561 \nQ 2906 -266 2906 331 \nL 2906 616 \nQ 2728 306 2450 153 \nQ 2172 0 1784 0 \nQ 1141 0 747 490 \nQ 353 981 353 1791 \nQ 353 2603 747 3093 \nQ 1141 3584 1784 3584 \nQ 2172 3584 2450 3431 \nQ 2728 3278 2906 2969 \nL 2906 3500 \nL 3481 3500 \nL 3481 434 \nz\n\" id=\"DejaVuSans-67\" transform=\"scale(0.015625)\"/>\n      <path d=\"M 2194 1759 \nQ 1497 1759 1228 1600 \nQ 959 1441 959 1056 \nQ 959 750 1161 570 \nQ 1363 391 1709 391 \nQ 2188 391 2477 730 \nQ 2766 1069 2766 1631 \nL 2766 1759 \nL 2194 1759 \nz\nM 3341 1997 \nL 3341 0 \nL 2766 0 \nL 2766 531 \nQ 2569 213 2275 61 \nQ 1981 -91 1556 -91 \nQ 1019 -91 701 211 \nQ 384 513 384 1019 \nQ 384 1609 779 1909 \nQ 1175 2209 1959 2209 \nL 2766 2209 \nL 2766 2266 \nQ 2766 2663 2505 2880 \nQ 2244 3097 1772 3097 \nQ 1472 3097 1187 3025 \nQ 903 2953 641 2809 \nL 641 3341 \nQ 956 3463 1253 3523 \nQ 1550 3584 1831 3584 \nQ 2591 3584 2966 3190 \nQ 3341 2797 3341 1997 \nz\n\" id=\"DejaVuSans-61\" transform=\"scale(0.015625)\"/>\n      <path d=\"M 1172 4494 \nL 1172 3500 \nL 2356 3500 \nL 2356 3053 \nL 1172 3053 \nL 1172 1153 \nQ 1172 725 1289 603 \nQ 1406 481 1766 481 \nL 2356 481 \nL 2356 0 \nL 1766 0 \nQ 1100 0 847 248 \nQ 594 497 594 1153 \nL 594 3053 \nL 172 3053 \nL 172 3500 \nL 594 3500 \nL 594 4494 \nL 1172 4494 \nz\n\" id=\"DejaVuSans-74\" transform=\"scale(0.015625)\"/>\n      <path d=\"M 3597 1894 \nL 3597 1613 \nL 953 1613 \nQ 991 1019 1311 708 \nQ 1631 397 2203 397 \nQ 2534 397 2845 478 \nQ 3156 559 3463 722 \nL 3463 178 \nQ 3153 47 2828 -22 \nQ 2503 -91 2169 -91 \nQ 1331 -91 842 396 \nQ 353 884 353 1716 \nQ 353 2575 817 3079 \nQ 1281 3584 2069 3584 \nQ 2775 3584 3186 3129 \nQ 3597 2675 3597 1894 \nz\nM 3022 2063 \nQ 3016 2534 2758 2815 \nQ 2500 3097 2075 3097 \nQ 1594 3097 1305 2825 \nQ 1016 2553 972 2059 \nL 3022 2063 \nz\n\" id=\"DejaVuSans-65\" transform=\"scale(0.015625)\"/>\n      <path d=\"M 678 2906 \nL 4684 2906 \nL 4684 2381 \nL 678 2381 \nL 678 2906 \nz\nM 678 1631 \nL 4684 1631 \nL 4684 1100 \nL 678 1100 \nL 678 1631 \nz\n\" id=\"DejaVuSans-3d\" transform=\"scale(0.015625)\"/>\n      <path d=\"M 2188 4044 \nL 1331 1722 \nL 3047 1722 \nL 2188 4044 \nz\nM 1831 4666 \nL 2547 4666 \nL 4325 0 \nL 3669 0 \nL 3244 1197 \nL 1141 1197 \nL 716 0 \nL 50 0 \nL 1831 4666 \nz\n\" id=\"DejaVuSans-41\" transform=\"scale(0.015625)\"/>\n      <path d=\"M 628 4666 \nL 1259 4666 \nL 1259 0 \nL 628 0 \nL 628 4666 \nz\n\" id=\"DejaVuSans-49\" transform=\"scale(0.015625)\"/>\n      <path d=\"M 628 4666 \nL 1478 4666 \nL 3547 763 \nL 3547 4666 \nL 4159 4666 \nL 4159 0 \nL 3309 0 \nL 1241 3903 \nL 1241 0 \nL 628 0 \nL 628 4666 \nz\n\" id=\"DejaVuSans-4e\" transform=\"scale(0.015625)\"/>\n      <path d=\"M 2034 4250 \nQ 1547 4250 1301 3770 \nQ 1056 3291 1056 2328 \nQ 1056 1369 1301 889 \nQ 1547 409 2034 409 \nQ 2525 409 2770 889 \nQ 3016 1369 3016 2328 \nQ 3016 3291 2770 3770 \nQ 2525 4250 2034 4250 \nz\nM 2034 4750 \nQ 2819 4750 3233 4129 \nQ 3647 3509 3647 2328 \nQ 3647 1150 3233 529 \nQ 2819 -91 2034 -91 \nQ 1250 -91 836 529 \nQ 422 1150 422 2328 \nQ 422 3509 836 4129 \nQ 1250 4750 2034 4750 \nz\n\" id=\"DejaVuSans-30\" transform=\"scale(0.015625)\"/>\n     </defs>\n     <use xlink:href=\"#DejaVuSans-67\"/>\n     <use x=\"63.476562\" xlink:href=\"#DejaVuSans-61\"/>\n     <use x=\"124.755859\" xlink:href=\"#DejaVuSans-74\"/>\n     <use x=\"163.964844\" xlink:href=\"#DejaVuSans-65\"/>\n     <use x=\"225.488281\" xlink:href=\"#DejaVuSans-3d\"/>\n     <use x=\"309.277344\" xlink:href=\"#DejaVuSans-41\"/>\n     <use x=\"377.685547\" xlink:href=\"#DejaVuSans-49\"/>\n     <use x=\"407.177734\" xlink:href=\"#DejaVuSans-4e\"/>\n     <use x=\"481.982422\" xlink:href=\"#DejaVuSans-30\"/>\n    </g>\n   </g>\n   <g id=\"text_2\">\n    <!-- drain=GO22 -->\n    <g transform=\"translate(89.615 22.988437)scale(0.14 -0.14)\">\n     <defs>\n      <path d=\"M 2906 2969 \nL 2906 4863 \nL 3481 4863 \nL 3481 0 \nL 2906 0 \nL 2906 525 \nQ 2725 213 2448 61 \nQ 2172 -91 1784 -91 \nQ 1150 -91 751 415 \nQ 353 922 353 1747 \nQ 353 2572 751 3078 \nQ 1150 3584 1784 3584 \nQ 2172 3584 2448 3432 \nQ 2725 3281 2906 2969 \nz\nM 947 1747 \nQ 947 1113 1208 752 \nQ 1469 391 1925 391 \nQ 2381 391 2643 752 \nQ 2906 1113 2906 1747 \nQ 2906 2381 2643 2742 \nQ 2381 3103 1925 3103 \nQ 1469 3103 1208 2742 \nQ 947 2381 947 1747 \nz\n\" id=\"DejaVuSans-64\" transform=\"scale(0.015625)\"/>\n      <path d=\"M 2631 2963 \nQ 2534 3019 2420 3045 \nQ 2306 3072 2169 3072 \nQ 1681 3072 1420 2755 \nQ 1159 2438 1159 1844 \nL 1159 0 \nL 581 0 \nL 581 3500 \nL 1159 3500 \nL 1159 2956 \nQ 1341 3275 1631 3429 \nQ 1922 3584 2338 3584 \nQ 2397 3584 2469 3576 \nQ 2541 3569 2628 3553 \nL 2631 2963 \nz\n\" id=\"DejaVuSans-72\" transform=\"scale(0.015625)\"/>\n      <path d=\"M 603 3500 \nL 1178 3500 \nL 1178 0 \nL 603 0 \nL 603 3500 \nz\nM 603 4863 \nL 1178 4863 \nL 1178 4134 \nL 603 4134 \nL 603 4863 \nz\n\" id=\"DejaVuSans-69\" transform=\"scale(0.015625)\"/>\n      <path d=\"M 3513 2113 \nL 3513 0 \nL 2938 0 \nL 2938 2094 \nQ 2938 2591 2744 2837 \nQ 2550 3084 2163 3084 \nQ 1697 3084 1428 2787 \nQ 1159 2491 1159 1978 \nL 1159 0 \nL 581 0 \nL 581 3500 \nL 1159 3500 \nL 1159 2956 \nQ 1366 3272 1645 3428 \nQ 1925 3584 2291 3584 \nQ 2894 3584 3203 3211 \nQ 3513 2838 3513 2113 \nz\n\" id=\"DejaVuSans-6e\" transform=\"scale(0.015625)\"/>\n      <path d=\"M 3809 666 \nL 3809 1919 \nL 2778 1919 \nL 2778 2438 \nL 4434 2438 \nL 4434 434 \nQ 4069 175 3628 42 \nQ 3188 -91 2688 -91 \nQ 1594 -91 976 548 \nQ 359 1188 359 2328 \nQ 359 3472 976 4111 \nQ 1594 4750 2688 4750 \nQ 3144 4750 3555 4637 \nQ 3966 4525 4313 4306 \nL 4313 3634 \nQ 3963 3931 3569 4081 \nQ 3175 4231 2741 4231 \nQ 1884 4231 1454 3753 \nQ 1025 3275 1025 2328 \nQ 1025 1384 1454 906 \nQ 1884 428 2741 428 \nQ 3075 428 3337 486 \nQ 3600 544 3809 666 \nz\n\" id=\"DejaVuSans-47\" transform=\"scale(0.015625)\"/>\n      <path d=\"M 2522 4238 \nQ 1834 4238 1429 3725 \nQ 1025 3213 1025 2328 \nQ 1025 1447 1429 934 \nQ 1834 422 2522 422 \nQ 3209 422 3611 934 \nQ 4013 1447 4013 2328 \nQ 4013 3213 3611 3725 \nQ 3209 4238 2522 4238 \nz\nM 2522 4750 \nQ 3503 4750 4090 4092 \nQ 4678 3434 4678 2328 \nQ 4678 1225 4090 567 \nQ 3503 -91 2522 -91 \nQ 1538 -91 948 565 \nQ 359 1222 359 2328 \nQ 359 3434 948 4092 \nQ 1538 4750 2522 4750 \nz\n\" id=\"DejaVuSans-4f\" transform=\"scale(0.015625)\"/>\n      <path d=\"M 1228 531 \nL 3431 531 \nL 3431 0 \nL 469 0 \nL 469 531 \nQ 828 903 1448 1529 \nQ 2069 2156 2228 2338 \nQ 2531 2678 2651 2914 \nQ 2772 3150 2772 3378 \nQ 2772 3750 2511 3984 \nQ 2250 4219 1831 4219 \nQ 1534 4219 1204 4116 \nQ 875 4013 500 3803 \nL 500 4441 \nQ 881 4594 1212 4672 \nQ 1544 4750 1819 4750 \nQ 2544 4750 2975 4387 \nQ 3406 4025 3406 3419 \nQ 3406 3131 3298 2873 \nQ 3191 2616 2906 2266 \nQ 2828 2175 2409 1742 \nQ 1991 1309 1228 531 \nz\n\" id=\"DejaVuSans-32\" transform=\"scale(0.015625)\"/>\n     </defs>\n     <use xlink:href=\"#DejaVuSans-64\"/>\n     <use x=\"63.476562\" xlink:href=\"#DejaVuSans-72\"/>\n     <use x=\"104.589844\" xlink:href=\"#DejaVuSans-61\"/>\n     <use x=\"165.869141\" xlink:href=\"#DejaVuSans-69\"/>\n     <use x=\"193.652344\" xlink:href=\"#DejaVuSans-6e\"/>\n     <use x=\"257.03125\" xlink:href=\"#DejaVuSans-3d\"/>\n     <use x=\"340.820312\" xlink:href=\"#DejaVuSans-47\"/>\n     <use x=\"418.310547\" xlink:href=\"#DejaVuSans-4f\"/>\n     <use x=\"497.021484\" xlink:href=\"#DejaVuSans-32\"/>\n     <use x=\"560.644531\" xlink:href=\"#DejaVuSans-32\"/>\n    </g>\n   </g>\n   <g id=\"text_3\">\n    <!-- source=GO20 -->\n    <g transform=\"translate(84.365 93.147812)scale(0.14 -0.14)\">\n     <defs>\n      <path d=\"M 2834 3397 \nL 2834 2853 \nQ 2591 2978 2328 3040 \nQ 2066 3103 1784 3103 \nQ 1356 3103 1142 2972 \nQ 928 2841 928 2578 \nQ 928 2378 1081 2264 \nQ 1234 2150 1697 2047 \nL 1894 2003 \nQ 2506 1872 2764 1633 \nQ 3022 1394 3022 966 \nQ 3022 478 2636 193 \nQ 2250 -91 1575 -91 \nQ 1294 -91 989 -36 \nQ 684 19 347 128 \nL 347 722 \nQ 666 556 975 473 \nQ 1284 391 1588 391 \nQ 1994 391 2212 530 \nQ 2431 669 2431 922 \nQ 2431 1156 2273 1281 \nQ 2116 1406 1581 1522 \nL 1381 1569 \nQ 847 1681 609 1914 \nQ 372 2147 372 2553 \nQ 372 3047 722 3315 \nQ 1072 3584 1716 3584 \nQ 2034 3584 2315 3537 \nQ 2597 3491 2834 3397 \nz\n\" id=\"DejaVuSans-73\" transform=\"scale(0.015625)\"/>\n      <path d=\"M 1959 3097 \nQ 1497 3097 1228 2736 \nQ 959 2375 959 1747 \nQ 959 1119 1226 758 \nQ 1494 397 1959 397 \nQ 2419 397 2687 759 \nQ 2956 1122 2956 1747 \nQ 2956 2369 2687 2733 \nQ 2419 3097 1959 3097 \nz\nM 1959 3584 \nQ 2709 3584 3137 3096 \nQ 3566 2609 3566 1747 \nQ 3566 888 3137 398 \nQ 2709 -91 1959 -91 \nQ 1206 -91 779 398 \nQ 353 888 353 1747 \nQ 353 2609 779 3096 \nQ 1206 3584 1959 3584 \nz\n\" id=\"DejaVuSans-6f\" transform=\"scale(0.015625)\"/>\n      <path d=\"M 544 1381 \nL 544 3500 \nL 1119 3500 \nL 1119 1403 \nQ 1119 906 1312 657 \nQ 1506 409 1894 409 \nQ 2359 409 2629 706 \nQ 2900 1003 2900 1516 \nL 2900 3500 \nL 3475 3500 \nL 3475 0 \nL 2900 0 \nL 2900 538 \nQ 2691 219 2414 64 \nQ 2138 -91 1772 -91 \nQ 1169 -91 856 284 \nQ 544 659 544 1381 \nz\nM 1991 3584 \nL 1991 3584 \nz\n\" id=\"DejaVuSans-75\" transform=\"scale(0.015625)\"/>\n      <path d=\"M 3122 3366 \nL 3122 2828 \nQ 2878 2963 2633 3030 \nQ 2388 3097 2138 3097 \nQ 1578 3097 1268 2742 \nQ 959 2388 959 1747 \nQ 959 1106 1268 751 \nQ 1578 397 2138 397 \nQ 2388 397 2633 464 \nQ 2878 531 3122 666 \nL 3122 134 \nQ 2881 22 2623 -34 \nQ 2366 -91 2075 -91 \nQ 1284 -91 818 406 \nQ 353 903 353 1747 \nQ 353 2603 823 3093 \nQ 1294 3584 2113 3584 \nQ 2378 3584 2631 3529 \nQ 2884 3475 3122 3366 \nz\n\" id=\"DejaVuSans-63\" transform=\"scale(0.015625)\"/>\n     </defs>\n     <use xlink:href=\"#DejaVuSans-73\"/>\n     <use x=\"52.099609\" xlink:href=\"#DejaVuSans-6f\"/>\n     <use x=\"113.28125\" xlink:href=\"#DejaVuSans-75\"/>\n     <use x=\"176.660156\" xlink:href=\"#DejaVuSans-72\"/>\n     <use x=\"215.523438\" xlink:href=\"#DejaVuSans-63\"/>\n     <use x=\"270.503906\" xlink:href=\"#DejaVuSans-65\"/>\n     <use x=\"332.027344\" xlink:href=\"#DejaVuSans-3d\"/>\n     <use x=\"415.816406\" xlink:href=\"#DejaVuSans-47\"/>\n     <use x=\"493.306641\" xlink:href=\"#DejaVuSans-4f\"/>\n     <use x=\"572.017578\" xlink:href=\"#DejaVuSans-32\"/>\n     <use x=\"635.640625\" xlink:href=\"#DejaVuSans-30\"/>\n    </g>\n   </g>\n  </g>\n </g>\n <defs>\n  <clipPath id=\"p89a64d24a4\">\n   <rect height=\"90.95\" width=\"160.6296\" x=\"20.421087\" y=\"7.2\"/>\n  </clipPath>\n </defs>\n</svg>\n",
      "text/plain": [
       "<schemdraw.backends.mpl.Figure object at 0x7f3634188460>"
      ]
     },
     "metadata": {},
     "execution_count": 18
    }
   ],
   "metadata": {}
  },
  {
   "cell_type": "markdown",
   "source": [
    "**(a)** Configure the chip following [Section 4.2](#config_nfet) if you haven't"
   ],
   "metadata": {}
  },
  {
   "cell_type": "markdown",
   "source": [
    "**(b)** Measure $I_{ds}$ as a function of $V_g$ in ohmic region"
   ],
   "metadata": {}
  },
  {
   "cell_type": "code",
   "execution_count": 67,
   "source": [
    "# set the demultiplexer, NMOS\n",
    "events = [pyplane.Coach.generate_aerc_event( \\\n",
    "    pyplane.Coach.CurrentOutputSelect.SelectLine5, \\\n",
    "    pyplane.Coach.VoltageOutputSelect.NoneSelected, \\\n",
    "    pyplane.Coach.VoltageInputSelect.SelectLine2, \\\n",
    "    pyplane.Coach.SynapseSelect.NoneSelected, 0)]\n",
    "\n",
    "p.send_coach_events(events)"
   ],
   "outputs": [],
   "metadata": {}
  },
  {
   "cell_type": "markdown",
   "source": [
    "* What will be the fixed value for source and drain voltages?\n",
    "\n",
    "Answer: "
   ],
   "metadata": {}
  },
  {
   "cell_type": "code",
   "execution_count": 148,
   "source": [
    "# set source voltage\n",
    "Vs = 0.0\n",
    "p.set_voltage(pyplane.DacChannel.GO20 , Vs)"
   ],
   "outputs": [
    {
     "output_type": "execute_result",
     "data": {
      "text/plain": [
       "0.0"
      ]
     },
     "metadata": {},
     "execution_count": 148
    }
   ],
   "metadata": {}
  },
  {
   "cell_type": "code",
   "execution_count": 152,
   "source": [
    "# set drain voltage\n",
    "Vd = 0.2\n",
    "p.set_voltage(pyplane.DacChannel.GO22 , Vd)"
   ],
   "outputs": [
    {
     "output_type": "execute_result",
     "data": {
      "text/plain": [
       "0.19882699847221375"
      ]
     },
     "metadata": {},
     "execution_count": 152
    }
   ],
   "metadata": {}
  },
  {
   "cell_type": "markdown",
   "source": [
    "* For very close voltages, you may want to call `get_set_voltage` to check the actual output of the DAC."
   ],
   "metadata": {}
  },
  {
   "cell_type": "code",
   "execution_count": 128,
   "source": [
    "# get set voltage\n",
    "Vs_n = p.get_set_voltage(pyplane.DacChannel.GO20)\n",
    "print(\"The source voltage is set to {} V\".format(Vs_n))\n",
    "\n",
    "# get set voltage\n",
    "Vd_n = p.get_set_voltage(pyplane.DacChannel.GO22)\n",
    "print(\"The drain voltage is set to {} V\".format(Vd_n))"
   ],
   "outputs": [
    {
     "output_type": "stream",
     "name": "stdout",
     "text": [
      "The source voltage is set to 0.49970680475234985 V\n",
      "The drain voltage is set to 1.7982406616210938 V\n"
     ]
    }
   ],
   "metadata": {}
  },
  {
   "cell_type": "markdown",
   "source": [
    "> Correction: The source and drain voltages were changed in between measurements. The original settings would have been more accurate, since the body effect raises Vt. Vs = Vbulk = GND with Vd = 0.2 V would have been more accurate."
   ],
   "metadata": {}
  },
  {
   "cell_type": "markdown",
   "source": [
    "* Data aquisition"
   ],
   "metadata": {}
  },
  {
   "cell_type": "code",
   "execution_count": 153,
   "source": [
    "# sweep gate voltage\n",
    "import time\n",
    "import numpy as np \n",
    "\n",
    "# Get the leakage current, Read Ids=Ids0 at Vg = 0\n",
    "p.set_voltage(pyplane.DacChannel.AIN0, 0.0)\n",
    "time.sleep(0.5) # wait 0.5 second for it to settle\n",
    "Is0_n = p.read_current(pyplane.AdcChannel.GO20_N)\n",
    "print(f\"Offset Is0_n: {Is0_n} A\")\n",
    "\n",
    "Vgs = np.arange(0.0, 1.8, 0.1)\n",
    "Ids = []\n",
    "\n",
    "for Vg in Vgs:\n",
    "    # set gate voltage\n",
    "    p.set_voltage(pyplane.DacChannel.AIN0, Vg)\n",
    "    \n",
    "    print(f\"The gate voltage is set to {Vg:.2f} V\")   ## print the gate voltage\n",
    "    \n",
    "    time.sleep(0.05)  # wait for it to settle\n",
    "    # read I_{ds}\n",
    "    Id = p.read_current(pyplane.AdcChannel.GO20_N)\n",
    "    \n",
    "    print(f\"The measured source current is {Id} A\")  ## print the raw data\n",
    "    \n",
    "    # substract leakage current    \n",
    "    Id -= Is0_n\n",
    "    print(f\"The leakage corrected Ids is {Id}\")\n",
    "    Ids.append(Id)\n",
    "\n",
    "        "
   ],
   "outputs": [
    {
     "output_type": "stream",
     "name": "stdout",
     "text": [
      "Offset Is0_n: 1.367187451251084e-06 A\n",
      "The gate voltage is set to 0.00 V\n",
      "The measured source current is 1.6601562720097718e-06 A\n",
      "The leakage corrected Ids is 2.929688207586878e-07\n",
      "The gate voltage is set to 0.10 V\n",
      "The measured source current is 7.080078034960025e-07 A\n",
      "The leakage corrected Ids is -6.591796477550815e-07\n",
      "The gate voltage is set to 0.20 V\n",
      "The measured source current is 4.1503906800244295e-07 A\n",
      "The leakage corrected Ids is -9.52148383248641e-07\n",
      "The gate voltage is set to 0.30 V\n",
      "The measured source current is 8.78906234902388e-07 A\n",
      "The leakage corrected Ids is -4.88281216348696e-07\n",
      "The gate voltage is set to 0.40 V\n",
      "The measured source current is 2.19726558725597e-07 A\n",
      "The leakage corrected Ids is -1.147460892525487e-06\n",
      "The gate voltage is set to 0.50 V\n",
      "The measured source current is 3.41796862812771e-07 A\n",
      "The leakage corrected Ids is -1.025390588438313e-06\n",
      "The gate voltage is set to 0.60 V\n",
      "The measured source current is 7.568359592369234e-07 A\n",
      "The leakage corrected Ids is -6.103514920141606e-07\n",
      "The gate voltage is set to 0.70 V\n",
      "The measured source current is 6.83593725625542e-07 A\n",
      "The leakage corrected Ids is -6.83593725625542e-07\n",
      "The gate voltage is set to 0.80 V\n",
      "The measured source current is 5.102539034851361e-06 A\n",
      "The leakage corrected Ids is 3.735351583600277e-06\n",
      "The gate voltage is set to 0.90 V\n",
      "The measured source current is 7.69042981119128e-06 A\n",
      "The leakage corrected Ids is 6.3232423599401955e-06\n",
      "The gate voltage is set to 1.00 V\n",
      "The measured source current is 1.3720703464059625e-05 A\n",
      "The leakage corrected Ids is 1.235351601280854e-05\n",
      "The gate voltage is set to 1.10 V\n",
      "The measured source current is 1.7797850887291133e-05 A\n",
      "The leakage corrected Ids is 1.643066343604005e-05\n",
      "The gate voltage is set to 1.20 V\n",
      "The measured source current is 2.2045898731448688e-05 A\n",
      "The leakage corrected Ids is 2.0678711280197604e-05\n",
      "The gate voltage is set to 1.30 V\n",
      "The measured source current is 2.4243163352366537e-05 A\n",
      "The leakage corrected Ids is 2.2875975901115453e-05\n",
      "The gate voltage is set to 1.40 V\n",
      "The measured source current is 2.8271484552533366e-05 A\n",
      "The leakage corrected Ids is 2.6904297101282282e-05\n",
      "The gate voltage is set to 1.50 V\n",
      "The measured source current is 3.059082155232318e-05 A\n",
      "The leakage corrected Ids is 2.9223634101072093e-05\n",
      "The gate voltage is set to 1.60 V\n",
      "The measured source current is 3.427734554861672e-05 A\n",
      "The leakage corrected Ids is 3.291015809736564e-05\n",
      "The gate voltage is set to 1.70 V\n",
      "The measured source current is 3.527832086547278e-05 A\n",
      "The leakage corrected Ids is 3.3911133414221695e-05\n"
     ]
    }
   ],
   "metadata": {}
  },
  {
   "cell_type": "code",
   "execution_count": 8,
   "source": [
    "# plot \n",
    "from matplotlib import pyplot as plt\n",
    "\n",
    "plt.plot(Vgs, Ids, \"o-\", label=\"$I_{ds}$\")\n",
    "plt.legend()\n",
    "plt.ylabel(\"$I_{ds}[A]$\")\n",
    "plt.xlabel(\"$V_{g}[V]$\")\n",
    "plt.show()"
   ],
   "outputs": [
    {
     "output_type": "display_data",
     "data": {
      "image/png": "[encoded data removed]",
      "text/plain": [
       "<Figure size 432x288 with 1 Axes>"
      ]
     },
     "metadata": {
      "needs_background": "light"
     }
    }
   ],
   "metadata": {}
  },
  {
   "cell_type": "code",
   "execution_count": 155,
   "source": [
    "# if the data looks nice, save it!\n",
    "\n",
    "# example :\n",
    "Lab2_data_nFETVgIds = [Vgs,Ids]\n",
    "# save to csv file\n",
    "np.savetxt('./data/Lab2_data_nFETVgIds.csv', Lab2_data_nFETVgIds, delimiter=',')"
   ],
   "outputs": [],
   "metadata": {}
  },
  {
   "cell_type": "code",
   "execution_count": 1,
   "source": [
    "Vgs, Ids = np.loadtxt('./data/Lab2_data_nFETVgIds.csv', delimiter=',')"
   ],
   "outputs": [],
   "metadata": {}
  },
  {
   "cell_type": "code",
   "execution_count": 9,
   "source": [
    "# extract the valid range\n",
    "v_t0 = next(Vg for Vg, Id in zip(Vgs, Ids) if Id > 1e-6)\n",
    "print(f\"Threshold value is at Vg = {v_t0}\")\n",
    "ohmic_start_index = Vgs.tolist().index(v_t0)\n"
   ],
   "outputs": [
    {
     "output_type": "stream",
     "name": "stdout",
     "text": [
      "Threshold value is at Vg = 0.8\n"
     ]
    }
   ],
   "metadata": {}
  },
  {
   "cell_type": "markdown",
   "source": [
    "> Correction: The real Vt is lower. The body effect makes Vt higher, use Vs = Vbulk = GND for a more accurate measurement."
   ],
   "metadata": {}
  },
  {
   "cell_type": "code",
   "execution_count": 10,
   "source": [
    "# fit in the valid range (you may want to go back and add the fitted line in the plot)\n",
    "plt.plot(Vgs[ohmic_start_index:], Ids[ohmic_start_index:], \"o-\", label=\"$I_{ds}$\")\n",
    "plt.legend()\n",
    "plt.ylabel(\"$I_{ds}[A]$\")\n",
    "plt.xlabel(\"$V_{g}[V]$\")\n",
    "plt.show()"
   ],
   "outputs": [
    {
     "output_type": "display_data",
     "data": {
      "image/png": "[encoded data removed]",
      "text/plain": [
       "<Figure size 432x288 with 1 Axes>"
      ]
     },
     "metadata": {
      "needs_background": "light"
     }
    }
   ],
   "metadata": {}
  },
  {
   "cell_type": "markdown",
   "source": [
    "**(c)** Determine $V_{T0}$ and $\\beta$ for both devices by fitting your data to the expression derived in the prelab"
   ],
   "metadata": {}
  },
  {
   "cell_type": "code",
   "execution_count": 11,
   "source": [
    "# V_T0\n",
    "v_t0 = Vgs[ohmic_start_index]\n",
    "print(f\"v_t0: {v_t0}\")"
   ],
   "outputs": [
    {
     "output_type": "stream",
     "name": "stdout",
     "text": [
      "v_t0: 0.8\n"
     ]
    }
   ],
   "metadata": {}
  },
  {
   "cell_type": "markdown",
   "source": [
    "> Correction: Vgs is just Vs, we should have subtracted Vs (0.5 V)"
   ],
   "metadata": {}
  },
  {
   "cell_type": "code",
   "execution_count": 12,
   "source": [
    "# beta => m/Vd\n",
    "delta_Ids = Ids[-1] - Ids[ohmic_start_index]\n",
    "delta_Vgs = Vgs[-1] - Vgs[ohmic_start_index]\n",
    "m = delta_Ids / delta_Vgs\n",
    "Vd = 1.8\n",
    "Vs = 0.5\n",
    "Vds = Vd - Vs\n",
    "beta_n = m/Vds\n",
    "\n",
    "print(f\"Beta: {beta_n}\")"
   ],
   "outputs": [
    {
     "output_type": "stream",
     "name": "stdout",
     "text": [
      "Beta: 2.5791266521898644e-05\n"
     ]
    }
   ],
   "metadata": {}
  },
  {
   "cell_type": "markdown",
   "source": [
    "> Correction: Beta must be wrong since we used Vg instead of Vgs. Should have subtracted Vs = 0.5 V"
   ],
   "metadata": {}
  },
  {
   "cell_type": "markdown",
   "source": [
    "> For triode: $I_{ds} = \\beta(V_g - V_s - V_{Tn})(V_d - V_s)$  \n",
    "> For saturation: $I_{ds} = \\frac{1}{2}\\beta(V_g - V_s - V_{Tn})^2$"
   ],
   "metadata": {}
  },
  {
   "cell_type": "code",
   "execution_count": 14,
   "source": [
    "plt.plot(Vgs[ohmic_start_index:], Ids[ohmic_start_index:], \"o-\", label=\"real $I_{ds}$\")\n",
    "Vs = 0.5\n",
    "Ids_approx = m*(Vgs[ohmic_start_index:] - Vs - v_t0) + Ids[ohmic_start_index + 4]\n",
    "plt.plot(Vgs[ohmic_start_index:], Ids_approx, label=\"approximate $I_{ds}$\")\n",
    "plt.legend()\n",
    "plt.ylabel(\"$I_{ds}[A]$\")\n",
    "plt.xlabel(\"$V_{g}[V]$\")\n",
    "plt.show()"
   ],
   "outputs": [
    {
     "output_type": "display_data",
     "data": {
      "image/png": "[encoded data removed]",
      "text/plain": [
       "<Figure size 432x288 with 1 Axes>"
      ]
     },
     "metadata": {
      "needs_background": "light"
     }
    }
   ],
   "metadata": {}
  },
  {
   "cell_type": "markdown",
   "source": [
    "## 5.2 P-FET"
   ],
   "metadata": {}
  },
  {
   "cell_type": "markdown",
   "source": [
    "**(a)** Configure the chip following [Section 4.3](#config_pfet) if you haven't"
   ],
   "metadata": {}
  },
  {
   "cell_type": "markdown",
   "source": [
    "**(b)** Measure $I_{ds}$ as a function of $V_g$ in ohmic region"
   ],
   "metadata": {}
  },
  {
   "cell_type": "markdown",
   "source": [
    "* What will be the fixed value for bulk, source and drain voltages?"
   ],
   "metadata": {}
  },
  {
   "cell_type": "code",
   "execution_count": 6,
   "source": [
    "# uses schemdraw, you may have to install it in order to run it on your PC\n",
    "import schemdraw\n",
    "import schemdraw.elements as elm\n",
    "d = schemdraw.Drawing()\n",
    "Q = d.add(elm.PFet, reverse=True, bulk=True)\n",
    "d.add(elm.Dot, xy=Q.gate, lftlabel='gate=AIN0')\n",
    "d.add(elm.Dot, xy=Q.bulk, rgtlabel='bulk=AIN1')\n",
    "d.add(elm.Dot, xy=Q.drain, botlabel='drain=GO21')\n",
    "d.add(elm.Dot, xy=Q.source, toplabel='source=GO23')\n",
    "d.draw()"
   ],
   "outputs": [
    {
     "output_type": "execute_result",
     "data": {
      "image/png": "[encoded data removed]",
      "image/svg+xml": "<?xml version=\"1.0\" encoding=\"utf-8\" standalone=\"no\"?>\n<!DOCTYPE svg PUBLIC \"-//W3C//DTD SVG 1.1//EN\"\n  \"http://www.w3.org/Graphics/SVG/1.1/DTD/svg11.dtd\">\n<svg height=\"105.35pt\" version=\"1.1\" viewBox=\"0 0 220.445938 105.35\" width=\"220.445938pt\" xmlns=\"http://www.w3.org/2000/svg\" xmlns:xlink=\"http://www.w3.org/1999/xlink\">\n <metadata>\n  <rdf:RDF xmlns:cc=\"http://creativecommons.org/ns#\" xmlns:dc=\"http://purl.org/dc/elements/1.1/\" xmlns:rdf=\"http://www.w3.org/1999/02/22-rdf-syntax-ns#\">\n   <cc:Work>\n    <dc:type rdf:resource=\"http://purl.org/dc/dcmitype/StillImage\"/>\n    <dc:date>2021-10-07T16:32:10.914758</dc:date>\n    <dc:format>image/svg+xml</dc:format>\n    <dc:creator>\n     <cc:Agent>\n      <dc:title>Matplotlib v3.4.3, https://matplotlib.org/</dc:title>\n     </cc:Agent>\n    </dc:creator>\n   </cc:Work>\n  </rdf:RDF>\n </metadata>\n <defs>\n  <style type=\"text/css\">*{stroke-linecap:butt;stroke-linejoin:round;}</style>\n </defs>\n <g id=\"figure_1\">\n  <g id=\"patch_1\">\n   <path d=\"M 0 105.35 \nL 220.445937 105.35 \nL 220.445937 0 \nL 0 0 \nz\n\" style=\"fill:none;\"/>\n  </g>\n  <g id=\"axes_1\">\n   <g id=\"patch_2\">\n    <path clip-path=\"url(#pbe0355f186)\" d=\"M 101.694688 57.775 \nC 102.641463 57.775 103.549588 57.398842 104.219059 56.729371 \nC 104.88853 56.0599 105.264688 55.151775 105.264688 54.205 \nC 105.264688 53.258225 104.88853 52.3501 104.219059 51.680629 \nC 103.549588 51.011158 102.641463 50.635 101.694688 50.635 \nC 100.747912 50.635 99.839787 51.011158 99.170316 51.680629 \nC 98.500845 52.3501 98.124688 53.258225 98.124688 54.205 \nC 98.124688 55.151775 98.500845 56.0599 99.170316 56.729371 \nC 99.839787 57.398842 100.747912 57.775 101.694688 57.775 \nz\n\" style=\"fill:none;stroke:#000000;stroke-linejoin:miter;stroke-width:2;\"/>\n   </g>\n   <g id=\"patch_3\">\n    <path clip-path=\"url(#pbe0355f186)\" d=\"M 119.034688 57.265 \nL 112.914688 54.205 \nL 119.034688 51.145 \nz\n\"/>\n   </g>\n   <g id=\"line2d_1\">\n    <path clip-path=\"url(#pbe0355f186)\" d=\"M 133.314688 77.155 \nL 133.314688 64.405 \nL 112.914688 64.405 \nL 112.914688 44.005 \nL 133.314688 44.005 \nL 133.314688 31.255 \n\" style=\"fill:none;stroke:#000000;stroke-linecap:round;stroke-width:2;\"/>\n   </g>\n   <g id=\"line2d_2\">\n    <path clip-path=\"url(#pbe0355f186)\" d=\"M 105.264688 64.405 \nL 105.264688 44.005 \n\" style=\"fill:none;stroke:#000000;stroke-linecap:round;stroke-width:2;\"/>\n   </g>\n   <g id=\"line2d_3\">\n    <path clip-path=\"url(#pbe0355f186)\" d=\"M 88.944688 54.205 \nL 98.124688 54.205 \n\" style=\"fill:none;stroke:#000000;stroke-linecap:round;stroke-width:2;\"/>\n   </g>\n   <g id=\"line2d_4\">\n    <path clip-path=\"url(#pbe0355f186)\" d=\"M 133.314688 54.205 \nL 119.034688 54.205 \n\" style=\"fill:none;stroke:#000000;stroke-linecap:square;stroke-width:2;\"/>\n   </g>\n   <g id=\"patch_4\">\n    <path clip-path=\"url(#pbe0355f186)\" d=\"M 88.944688 56.5 \nC 89.553329 56.5 90.137123 56.258184 90.567498 55.82781 \nC 90.997872 55.397436 91.239688 54.813641 91.239688 54.205 \nC 91.239688 53.596359 90.997872 53.012564 90.567498 52.58219 \nC 90.137123 52.151816 89.553329 51.91 88.944688 51.91 \nC 88.336046 51.91 87.752252 52.151816 87.321877 52.58219 \nC 86.891503 53.012564 86.649688 53.596359 86.649688 54.205 \nC 86.649688 54.813641 86.891503 55.397436 87.321877 55.82781 \nC 87.752252 56.258184 88.336046 56.5 88.944688 56.5 \nz\n\" style=\"stroke:#000000;stroke-linejoin:miter;stroke-width:2;\"/>\n   </g>\n   <g id=\"patch_5\">\n    <path clip-path=\"url(#pbe0355f186)\" d=\"M 133.314688 56.5 \nC 133.923329 56.5 134.507123 56.258184 134.937498 55.82781 \nC 135.367872 55.397436 135.609688 54.813641 135.609688 54.205 \nC 135.609688 53.596359 135.367872 53.012564 134.937498 52.58219 \nC 134.507123 52.151816 133.923329 51.91 133.314688 51.91 \nC 132.706046 51.91 132.122252 52.151816 131.691877 52.58219 \nC 131.261503 53.012564 131.019688 53.596359 131.019688 54.205 \nC 131.019688 54.813641 131.261503 55.397436 131.691877 55.82781 \nC 132.122252 56.258184 132.706046 56.5 133.314688 56.5 \nz\n\" style=\"stroke:#000000;stroke-linejoin:miter;stroke-width:2;\"/>\n   </g>\n   <g id=\"patch_6\">\n    <path clip-path=\"url(#pbe0355f186)\" d=\"M 133.314688 79.45 \nC 133.923329 79.45 134.507123 79.208184 134.937498 78.77781 \nC 135.367872 78.347436 135.609688 77.763641 135.609688 77.155 \nC 135.609688 76.546359 135.367872 75.962564 134.937498 75.53219 \nC 134.507123 75.101816 133.923329 74.86 133.314688 74.86 \nC 132.706046 74.86 132.122252 75.101816 131.691877 75.53219 \nC 131.261503 75.962564 131.019688 76.546359 131.019688 77.155 \nC 131.019688 77.763641 131.261503 78.347436 131.691877 78.77781 \nC 132.122252 79.208184 132.706046 79.45 133.314688 79.45 \nz\n\" style=\"stroke:#000000;stroke-linejoin:miter;stroke-width:2;\"/>\n   </g>\n   <g id=\"patch_7\">\n    <path clip-path=\"url(#pbe0355f186)\" d=\"M 133.314688 33.55 \nC 133.923329 33.55 134.507123 33.308184 134.937498 32.87781 \nC 135.367872 32.447436 135.609688 31.863641 135.609688 31.255 \nC 135.609688 30.646359 135.367872 30.062564 134.937498 29.63219 \nC 134.507123 29.201816 133.923329 28.96 133.314688 28.96 \nC 132.706046 28.96 132.122252 29.201816 131.691877 29.63219 \nC 131.261503 30.062564 131.019688 30.646359 131.019688 31.255 \nC 131.019688 31.863641 131.261503 32.447436 131.691877 32.87781 \nC 132.122252 33.308184 132.706046 33.55 133.314688 33.55 \nz\n\" style=\"stroke:#000000;stroke-linejoin:miter;stroke-width:2;\"/>\n   </g>\n   <g id=\"text_1\">\n    <!-- gate=AIN0 -->\n    <g transform=\"translate(7.2 58.068125)scale(0.14 -0.14)\">\n     <defs>\n      <path d=\"M 2906 1791 \nQ 2906 2416 2648 2759 \nQ 2391 3103 1925 3103 \nQ 1463 3103 1205 2759 \nQ 947 2416 947 1791 \nQ 947 1169 1205 825 \nQ 1463 481 1925 481 \nQ 2391 481 2648 825 \nQ 2906 1169 2906 1791 \nz\nM 3481 434 \nQ 3481 -459 3084 -895 \nQ 2688 -1331 1869 -1331 \nQ 1566 -1331 1297 -1286 \nQ 1028 -1241 775 -1147 \nL 775 -588 \nQ 1028 -725 1275 -790 \nQ 1522 -856 1778 -856 \nQ 2344 -856 2625 -561 \nQ 2906 -266 2906 331 \nL 2906 616 \nQ 2728 306 2450 153 \nQ 2172 0 1784 0 \nQ 1141 0 747 490 \nQ 353 981 353 1791 \nQ 353 2603 747 3093 \nQ 1141 3584 1784 3584 \nQ 2172 3584 2450 3431 \nQ 2728 3278 2906 2969 \nL 2906 3500 \nL 3481 3500 \nL 3481 434 \nz\n\" id=\"DejaVuSans-67\" transform=\"scale(0.015625)\"/>\n      <path d=\"M 2194 1759 \nQ 1497 1759 1228 1600 \nQ 959 1441 959 1056 \nQ 959 750 1161 570 \nQ 1363 391 1709 391 \nQ 2188 391 2477 730 \nQ 2766 1069 2766 1631 \nL 2766 1759 \nL 2194 1759 \nz\nM 3341 1997 \nL 3341 0 \nL 2766 0 \nL 2766 531 \nQ 2569 213 2275 61 \nQ 1981 -91 1556 -91 \nQ 1019 -91 701 211 \nQ 384 513 384 1019 \nQ 384 1609 779 1909 \nQ 1175 2209 1959 2209 \nL 2766 2209 \nL 2766 2266 \nQ 2766 2663 2505 2880 \nQ 2244 3097 1772 3097 \nQ 1472 3097 1187 3025 \nQ 903 2953 641 2809 \nL 641 3341 \nQ 956 3463 1253 3523 \nQ 1550 3584 1831 3584 \nQ 2591 3584 2966 3190 \nQ 3341 2797 3341 1997 \nz\n\" id=\"DejaVuSans-61\" transform=\"scale(0.015625)\"/>\n      <path d=\"M 1172 4494 \nL 1172 3500 \nL 2356 3500 \nL 2356 3053 \nL 1172 3053 \nL 1172 1153 \nQ 1172 725 1289 603 \nQ 1406 481 1766 481 \nL 2356 481 \nL 2356 0 \nL 1766 0 \nQ 1100 0 847 248 \nQ 594 497 594 1153 \nL 594 3053 \nL 172 3053 \nL 172 3500 \nL 594 3500 \nL 594 4494 \nL 1172 4494 \nz\n\" id=\"DejaVuSans-74\" transform=\"scale(0.015625)\"/>\n      <path d=\"M 3597 1894 \nL 3597 1613 \nL 953 1613 \nQ 991 1019 1311 708 \nQ 1631 397 2203 397 \nQ 2534 397 2845 478 \nQ 3156 559 3463 722 \nL 3463 178 \nQ 3153 47 2828 -22 \nQ 2503 -91 2169 -91 \nQ 1331 -91 842 396 \nQ 353 884 353 1716 \nQ 353 2575 817 3079 \nQ 1281 3584 2069 3584 \nQ 2775 3584 3186 3129 \nQ 3597 2675 3597 1894 \nz\nM 3022 2063 \nQ 3016 2534 2758 2815 \nQ 2500 3097 2075 3097 \nQ 1594 3097 1305 2825 \nQ 1016 2553 972 2059 \nL 3022 2063 \nz\n\" id=\"DejaVuSans-65\" transform=\"scale(0.015625)\"/>\n      <path d=\"M 678 2906 \nL 4684 2906 \nL 4684 2381 \nL 678 2381 \nL 678 2906 \nz\nM 678 1631 \nL 4684 1631 \nL 4684 1100 \nL 678 1100 \nL 678 1631 \nz\n\" id=\"DejaVuSans-3d\" transform=\"scale(0.015625)\"/>\n      <path d=\"M 2188 4044 \nL 1331 1722 \nL 3047 1722 \nL 2188 4044 \nz\nM 1831 4666 \nL 2547 4666 \nL 4325 0 \nL 3669 0 \nL 3244 1197 \nL 1141 1197 \nL 716 0 \nL 50 0 \nL 1831 4666 \nz\n\" id=\"DejaVuSans-41\" transform=\"scale(0.015625)\"/>\n      <path d=\"M 628 4666 \nL 1259 4666 \nL 1259 0 \nL 628 0 \nL 628 4666 \nz\n\" id=\"DejaVuSans-49\" transform=\"scale(0.015625)\"/>\n      <path d=\"M 628 4666 \nL 1478 4666 \nL 3547 763 \nL 3547 4666 \nL 4159 4666 \nL 4159 0 \nL 3309 0 \nL 1241 3903 \nL 1241 0 \nL 628 0 \nL 628 4666 \nz\n\" id=\"DejaVuSans-4e\" transform=\"scale(0.015625)\"/>\n      <path d=\"M 2034 4250 \nQ 1547 4250 1301 3770 \nQ 1056 3291 1056 2328 \nQ 1056 1369 1301 889 \nQ 1547 409 2034 409 \nQ 2525 409 2770 889 \nQ 3016 1369 3016 2328 \nQ 3016 3291 2770 3770 \nQ 2525 4250 2034 4250 \nz\nM 2034 4750 \nQ 2819 4750 3233 4129 \nQ 3647 3509 3647 2328 \nQ 3647 1150 3233 529 \nQ 2819 -91 2034 -91 \nQ 1250 -91 836 529 \nQ 422 1150 422 2328 \nQ 422 3509 836 4129 \nQ 1250 4750 2034 4750 \nz\n\" id=\"DejaVuSans-30\" transform=\"scale(0.015625)\"/>\n     </defs>\n     <use xlink:href=\"#DejaVuSans-67\"/>\n     <use x=\"63.476562\" xlink:href=\"#DejaVuSans-61\"/>\n     <use x=\"124.755859\" xlink:href=\"#DejaVuSans-74\"/>\n     <use x=\"163.964844\" xlink:href=\"#DejaVuSans-65\"/>\n     <use x=\"225.488281\" xlink:href=\"#DejaVuSans-3d\"/>\n     <use x=\"309.277344\" xlink:href=\"#DejaVuSans-41\"/>\n     <use x=\"377.685547\" xlink:href=\"#DejaVuSans-49\"/>\n     <use x=\"407.177734\" xlink:href=\"#DejaVuSans-4e\"/>\n     <use x=\"481.982422\" xlink:href=\"#DejaVuSans-30\"/>\n    </g>\n   </g>\n   <g id=\"text_2\">\n    <!-- bulk=AIN1 -->\n    <g transform=\"translate(138.669688 58.068125)scale(0.14 -0.14)\">\n     <defs>\n      <path d=\"M 3116 1747 \nQ 3116 2381 2855 2742 \nQ 2594 3103 2138 3103 \nQ 1681 3103 1420 2742 \nQ 1159 2381 1159 1747 \nQ 1159 1113 1420 752 \nQ 1681 391 2138 391 \nQ 2594 391 2855 752 \nQ 3116 1113 3116 1747 \nz\nM 1159 2969 \nQ 1341 3281 1617 3432 \nQ 1894 3584 2278 3584 \nQ 2916 3584 3314 3078 \nQ 3713 2572 3713 1747 \nQ 3713 922 3314 415 \nQ 2916 -91 2278 -91 \nQ 1894 -91 1617 61 \nQ 1341 213 1159 525 \nL 1159 0 \nL 581 0 \nL 581 4863 \nL 1159 4863 \nL 1159 2969 \nz\n\" id=\"DejaVuSans-62\" transform=\"scale(0.015625)\"/>\n      <path d=\"M 544 1381 \nL 544 3500 \nL 1119 3500 \nL 1119 1403 \nQ 1119 906 1312 657 \nQ 1506 409 1894 409 \nQ 2359 409 2629 706 \nQ 2900 1003 2900 1516 \nL 2900 3500 \nL 3475 3500 \nL 3475 0 \nL 2900 0 \nL 2900 538 \nQ 2691 219 2414 64 \nQ 2138 -91 1772 -91 \nQ 1169 -91 856 284 \nQ 544 659 544 1381 \nz\nM 1991 3584 \nL 1991 3584 \nz\n\" id=\"DejaVuSans-75\" transform=\"scale(0.015625)\"/>\n      <path d=\"M 603 4863 \nL 1178 4863 \nL 1178 0 \nL 603 0 \nL 603 4863 \nz\n\" id=\"DejaVuSans-6c\" transform=\"scale(0.015625)\"/>\n      <path d=\"M 581 4863 \nL 1159 4863 \nL 1159 1991 \nL 2875 3500 \nL 3609 3500 \nL 1753 1863 \nL 3688 0 \nL 2938 0 \nL 1159 1709 \nL 1159 0 \nL 581 0 \nL 581 4863 \nz\n\" id=\"DejaVuSans-6b\" transform=\"scale(0.015625)\"/>\n      <path d=\"M 794 531 \nL 1825 531 \nL 1825 4091 \nL 703 3866 \nL 703 4441 \nL 1819 4666 \nL 2450 4666 \nL 2450 531 \nL 3481 531 \nL 3481 0 \nL 794 0 \nL 794 531 \nz\n\" id=\"DejaVuSans-31\" transform=\"scale(0.015625)\"/>\n     </defs>\n     <use xlink:href=\"#DejaVuSans-62\"/>\n     <use x=\"63.476562\" xlink:href=\"#DejaVuSans-75\"/>\n     <use x=\"126.855469\" xlink:href=\"#DejaVuSans-6c\"/>\n     <use x=\"154.638672\" xlink:href=\"#DejaVuSans-6b\"/>\n     <use x=\"212.548828\" xlink:href=\"#DejaVuSans-3d\"/>\n     <use x=\"296.337891\" xlink:href=\"#DejaVuSans-41\"/>\n     <use x=\"364.746094\" xlink:href=\"#DejaVuSans-49\"/>\n     <use x=\"394.238281\" xlink:href=\"#DejaVuSans-4e\"/>\n     <use x=\"469.042969\" xlink:href=\"#DejaVuSans-31\"/>\n    </g>\n   </g>\n   <g id=\"text_3\">\n    <!-- drain=GO21 -->\n    <g transform=\"translate(89.615 93.147812)scale(0.14 -0.14)\">\n     <defs>\n      <path d=\"M 2906 2969 \nL 2906 4863 \nL 3481 4863 \nL 3481 0 \nL 2906 0 \nL 2906 525 \nQ 2725 213 2448 61 \nQ 2172 -91 1784 -91 \nQ 1150 -91 751 415 \nQ 353 922 353 1747 \nQ 353 2572 751 3078 \nQ 1150 3584 1784 3584 \nQ 2172 3584 2448 3432 \nQ 2725 3281 2906 2969 \nz\nM 947 1747 \nQ 947 1113 1208 752 \nQ 1469 391 1925 391 \nQ 2381 391 2643 752 \nQ 2906 1113 2906 1747 \nQ 2906 2381 2643 2742 \nQ 2381 3103 1925 3103 \nQ 1469 3103 1208 2742 \nQ 947 2381 947 1747 \nz\n\" id=\"DejaVuSans-64\" transform=\"scale(0.015625)\"/>\n      <path d=\"M 2631 2963 \nQ 2534 3019 2420 3045 \nQ 2306 3072 2169 3072 \nQ 1681 3072 1420 2755 \nQ 1159 2438 1159 1844 \nL 1159 0 \nL 581 0 \nL 581 3500 \nL 1159 3500 \nL 1159 2956 \nQ 1341 3275 1631 3429 \nQ 1922 3584 2338 3584 \nQ 2397 3584 2469 3576 \nQ 2541 3569 2628 3553 \nL 2631 2963 \nz\n\" id=\"DejaVuSans-72\" transform=\"scale(0.015625)\"/>\n      <path d=\"M 603 3500 \nL 1178 3500 \nL 1178 0 \nL 603 0 \nL 603 3500 \nz\nM 603 4863 \nL 1178 4863 \nL 1178 4134 \nL 603 4134 \nL 603 4863 \nz\n\" id=\"DejaVuSans-69\" transform=\"scale(0.015625)\"/>\n      <path d=\"M 3513 2113 \nL 3513 0 \nL 2938 0 \nL 2938 2094 \nQ 2938 2591 2744 2837 \nQ 2550 3084 2163 3084 \nQ 1697 3084 1428 2787 \nQ 1159 2491 1159 1978 \nL 1159 0 \nL 581 0 \nL 581 3500 \nL 1159 3500 \nL 1159 2956 \nQ 1366 3272 1645 3428 \nQ 1925 3584 2291 3584 \nQ 2894 3584 3203 3211 \nQ 3513 2838 3513 2113 \nz\n\" id=\"DejaVuSans-6e\" transform=\"scale(0.015625)\"/>\n      <path d=\"M 3809 666 \nL 3809 1919 \nL 2778 1919 \nL 2778 2438 \nL 4434 2438 \nL 4434 434 \nQ 4069 175 3628 42 \nQ 3188 -91 2688 -91 \nQ 1594 -91 976 548 \nQ 359 1188 359 2328 \nQ 359 3472 976 4111 \nQ 1594 4750 2688 4750 \nQ 3144 4750 3555 4637 \nQ 3966 4525 4313 4306 \nL 4313 3634 \nQ 3963 3931 3569 4081 \nQ 3175 4231 2741 4231 \nQ 1884 4231 1454 3753 \nQ 1025 3275 1025 2328 \nQ 1025 1384 1454 906 \nQ 1884 428 2741 428 \nQ 3075 428 3337 486 \nQ 3600 544 3809 666 \nz\n\" id=\"DejaVuSans-47\" transform=\"scale(0.015625)\"/>\n      <path d=\"M 2522 4238 \nQ 1834 4238 1429 3725 \nQ 1025 3213 1025 2328 \nQ 1025 1447 1429 934 \nQ 1834 422 2522 422 \nQ 3209 422 3611 934 \nQ 4013 1447 4013 2328 \nQ 4013 3213 3611 3725 \nQ 3209 4238 2522 4238 \nz\nM 2522 4750 \nQ 3503 4750 4090 4092 \nQ 4678 3434 4678 2328 \nQ 4678 1225 4090 567 \nQ 3503 -91 2522 -91 \nQ 1538 -91 948 565 \nQ 359 1222 359 2328 \nQ 359 3434 948 4092 \nQ 1538 4750 2522 4750 \nz\n\" id=\"DejaVuSans-4f\" transform=\"scale(0.015625)\"/>\n      <path d=\"M 1228 531 \nL 3431 531 \nL 3431 0 \nL 469 0 \nL 469 531 \nQ 828 903 1448 1529 \nQ 2069 2156 2228 2338 \nQ 2531 2678 2651 2914 \nQ 2772 3150 2772 3378 \nQ 2772 3750 2511 3984 \nQ 2250 4219 1831 4219 \nQ 1534 4219 1204 4116 \nQ 875 4013 500 3803 \nL 500 4441 \nQ 881 4594 1212 4672 \nQ 1544 4750 1819 4750 \nQ 2544 4750 2975 4387 \nQ 3406 4025 3406 3419 \nQ 3406 3131 3298 2873 \nQ 3191 2616 2906 2266 \nQ 2828 2175 2409 1742 \nQ 1991 1309 1228 531 \nz\n\" id=\"DejaVuSans-32\" transform=\"scale(0.015625)\"/>\n     </defs>\n     <use xlink:href=\"#DejaVuSans-64\"/>\n     <use x=\"63.476562\" xlink:href=\"#DejaVuSans-72\"/>\n     <use x=\"104.589844\" xlink:href=\"#DejaVuSans-61\"/>\n     <use x=\"165.869141\" xlink:href=\"#DejaVuSans-69\"/>\n     <use x=\"193.652344\" xlink:href=\"#DejaVuSans-6e\"/>\n     <use x=\"257.03125\" xlink:href=\"#DejaVuSans-3d\"/>\n     <use x=\"340.820312\" xlink:href=\"#DejaVuSans-47\"/>\n     <use x=\"418.310547\" xlink:href=\"#DejaVuSans-4f\"/>\n     <use x=\"497.021484\" xlink:href=\"#DejaVuSans-32\"/>\n     <use x=\"560.644531\" xlink:href=\"#DejaVuSans-31\"/>\n    </g>\n   </g>\n   <g id=\"text_4\">\n    <!-- source=GO23 -->\n    <g transform=\"translate(84.365 22.988437)scale(0.14 -0.14)\">\n     <defs>\n      <path d=\"M 2834 3397 \nL 2834 2853 \nQ 2591 2978 2328 3040 \nQ 2066 3103 1784 3103 \nQ 1356 3103 1142 2972 \nQ 928 2841 928 2578 \nQ 928 2378 1081 2264 \nQ 1234 2150 1697 2047 \nL 1894 2003 \nQ 2506 1872 2764 1633 \nQ 3022 1394 3022 966 \nQ 3022 478 2636 193 \nQ 2250 -91 1575 -91 \nQ 1294 -91 989 -36 \nQ 684 19 347 128 \nL 347 722 \nQ 666 556 975 473 \nQ 1284 391 1588 391 \nQ 1994 391 2212 530 \nQ 2431 669 2431 922 \nQ 2431 1156 2273 1281 \nQ 2116 1406 1581 1522 \nL 1381 1569 \nQ 847 1681 609 1914 \nQ 372 2147 372 2553 \nQ 372 3047 722 3315 \nQ 1072 3584 1716 3584 \nQ 2034 3584 2315 3537 \nQ 2597 3491 2834 3397 \nz\n\" id=\"DejaVuSans-73\" transform=\"scale(0.015625)\"/>\n      <path d=\"M 1959 3097 \nQ 1497 3097 1228 2736 \nQ 959 2375 959 1747 \nQ 959 1119 1226 758 \nQ 1494 397 1959 397 \nQ 2419 397 2687 759 \nQ 2956 1122 2956 1747 \nQ 2956 2369 2687 2733 \nQ 2419 3097 1959 3097 \nz\nM 1959 3584 \nQ 2709 3584 3137 3096 \nQ 3566 2609 3566 1747 \nQ 3566 888 3137 398 \nQ 2709 -91 1959 -91 \nQ 1206 -91 779 398 \nQ 353 888 353 1747 \nQ 353 2609 779 3096 \nQ 1206 3584 1959 3584 \nz\n\" id=\"DejaVuSans-6f\" transform=\"scale(0.015625)\"/>\n      <path d=\"M 3122 3366 \nL 3122 2828 \nQ 2878 2963 2633 3030 \nQ 2388 3097 2138 3097 \nQ 1578 3097 1268 2742 \nQ 959 2388 959 1747 \nQ 959 1106 1268 751 \nQ 1578 397 2138 397 \nQ 2388 397 2633 464 \nQ 2878 531 3122 666 \nL 3122 134 \nQ 2881 22 2623 -34 \nQ 2366 -91 2075 -91 \nQ 1284 -91 818 406 \nQ 353 903 353 1747 \nQ 353 2603 823 3093 \nQ 1294 3584 2113 3584 \nQ 2378 3584 2631 3529 \nQ 2884 3475 3122 3366 \nz\n\" id=\"DejaVuSans-63\" transform=\"scale(0.015625)\"/>\n      <path d=\"M 2597 2516 \nQ 3050 2419 3304 2112 \nQ 3559 1806 3559 1356 \nQ 3559 666 3084 287 \nQ 2609 -91 1734 -91 \nQ 1441 -91 1130 -33 \nQ 819 25 488 141 \nL 488 750 \nQ 750 597 1062 519 \nQ 1375 441 1716 441 \nQ 2309 441 2620 675 \nQ 2931 909 2931 1356 \nQ 2931 1769 2642 2001 \nQ 2353 2234 1838 2234 \nL 1294 2234 \nL 1294 2753 \nL 1863 2753 \nQ 2328 2753 2575 2939 \nQ 2822 3125 2822 3475 \nQ 2822 3834 2567 4026 \nQ 2313 4219 1838 4219 \nQ 1578 4219 1281 4162 \nQ 984 4106 628 3988 \nL 628 4550 \nQ 988 4650 1302 4700 \nQ 1616 4750 1894 4750 \nQ 2613 4750 3031 4423 \nQ 3450 4097 3450 3541 \nQ 3450 3153 3228 2886 \nQ 3006 2619 2597 2516 \nz\n\" id=\"DejaVuSans-33\" transform=\"scale(0.015625)\"/>\n     </defs>\n     <use xlink:href=\"#DejaVuSans-73\"/>\n     <use x=\"52.099609\" xlink:href=\"#DejaVuSans-6f\"/>\n     <use x=\"113.28125\" xlink:href=\"#DejaVuSans-75\"/>\n     <use x=\"176.660156\" xlink:href=\"#DejaVuSans-72\"/>\n     <use x=\"215.523438\" xlink:href=\"#DejaVuSans-63\"/>\n     <use x=\"270.503906\" xlink:href=\"#DejaVuSans-65\"/>\n     <use x=\"332.027344\" xlink:href=\"#DejaVuSans-3d\"/>\n     <use x=\"415.816406\" xlink:href=\"#DejaVuSans-47\"/>\n     <use x=\"493.306641\" xlink:href=\"#DejaVuSans-4f\"/>\n     <use x=\"572.017578\" xlink:href=\"#DejaVuSans-32\"/>\n     <use x=\"635.640625\" xlink:href=\"#DejaVuSans-33\"/>\n    </g>\n   </g>\n  </g>\n </g>\n <defs>\n  <clipPath id=\"pbe0355f186\">\n   <rect height=\"90.95\" width=\"182.835\" x=\"20.421087\" y=\"7.2\"/>\n  </clipPath>\n </defs>\n</svg>\n",
      "text/plain": [
       "<schemdraw.backends.mpl.Figure object at 0x7f60545f8cd0>"
      ]
     },
     "metadata": {},
     "execution_count": 6
    }
   ],
   "metadata": {}
  },
  {
   "cell_type": "code",
   "execution_count": 7,
   "source": [
    "# Send a reset signal to the board, check if the LED blinks\n",
    "p.reset(pyplane.ResetType.Soft)"
   ],
   "outputs": [
    {
     "output_type": "execute_result",
     "data": {
      "text/plain": [
       "<TeensyStatus.Success: 0>"
      ]
     },
     "metadata": {},
     "execution_count": 7
    }
   ],
   "metadata": {}
  },
  {
   "cell_type": "code",
   "execution_count": 8,
   "source": [
    "# Configure PMOS, set the demultiplexer\n",
    "events = [pyplane.Coach.generate_aerc_event( \\\n",
    "    pyplane.Coach.CurrentOutputSelect.SelectLine5, \\\n",
    "    pyplane.Coach.VoltageOutputSelect.NoneSelected, \\\n",
    "    pyplane.Coach.VoltageInputSelect.SelectLine1, \\\n",
    "    pyplane.Coach.SynapseSelect.NoneSelected, 0)]\n",
    "\n",
    "p.send_coach_events(events)"
   ],
   "outputs": [],
   "metadata": {}
  },
  {
   "cell_type": "code",
   "execution_count": 38,
   "source": [
    "# set bulk voltage\n",
    "p.set_voltage(pyplane.DacChannel.AIN1, 1.8)\n",
    "\n",
    "time.sleep(0.05)  # wait for it to settle\n",
    "\n",
    "# set source voltage\n",
    "p.set_voltage(pyplane.DacChannel.GO23, 1.8)\n",
    "\n",
    "# set drain voltage\n",
    "vd = p.set_voltage(pyplane.DacChannel.GO21, 0.8)\n",
    "\n",
    "# Print I_ds for checking \n",
    "Ids = p.read_current(pyplane.AdcChannel.GO21_N)\n",
    "print(f\"Ids: {Ids}\")"
   ],
   "outputs": [
    {
     "output_type": "error",
     "ename": "NameError",
     "evalue": "name 'p' is not defined",
     "traceback": [
      "\u001b[0;31m---------------------------------------------------------------------------\u001b[0m",
      "\u001b[0;31mNameError\u001b[0m                                 Traceback (most recent call last)",
      "\u001b[0;32m<ipython-input-38-0da704bf3153>\u001b[0m in \u001b[0;36m<module>\u001b[0;34m\u001b[0m\n\u001b[1;32m      1\u001b[0m \u001b[0;31m# set bulk voltage\u001b[0m\u001b[0;34m\u001b[0m\u001b[0;34m\u001b[0m\u001b[0;34m\u001b[0m\u001b[0m\n\u001b[0;32m----> 2\u001b[0;31m \u001b[0mp\u001b[0m\u001b[0;34m.\u001b[0m\u001b[0mset_voltage\u001b[0m\u001b[0;34m(\u001b[0m\u001b[0mpyplane\u001b[0m\u001b[0;34m.\u001b[0m\u001b[0mDacChannel\u001b[0m\u001b[0;34m.\u001b[0m\u001b[0mAIN1\u001b[0m\u001b[0;34m,\u001b[0m \u001b[0;36m1.8\u001b[0m\u001b[0;34m)\u001b[0m\u001b[0;34m\u001b[0m\u001b[0;34m\u001b[0m\u001b[0m\n\u001b[0m\u001b[1;32m      3\u001b[0m \u001b[0;34m\u001b[0m\u001b[0m\n\u001b[1;32m      4\u001b[0m \u001b[0mtime\u001b[0m\u001b[0;34m.\u001b[0m\u001b[0msleep\u001b[0m\u001b[0;34m(\u001b[0m\u001b[0;36m0.05\u001b[0m\u001b[0;34m)\u001b[0m  \u001b[0;31m# wait for it to settle\u001b[0m\u001b[0;34m\u001b[0m\u001b[0;34m\u001b[0m\u001b[0m\n\u001b[1;32m      5\u001b[0m \u001b[0;34m\u001b[0m\u001b[0m\n",
      "\u001b[0;31mNameError\u001b[0m: name 'p' is not defined"
     ]
    }
   ],
   "metadata": {
    "tags": []
   }
  },
  {
   "cell_type": "markdown",
   "source": [
    "> Correction: Should have reloaded notebook, Vd and Vs are not set"
   ],
   "metadata": {}
  },
  {
   "cell_type": "markdown",
   "source": [
    "* For very close voltages, you may want to call `get_set_voltage` to check the actual output of the DAC."
   ],
   "metadata": {}
  },
  {
   "cell_type": "code",
   "execution_count": 37,
   "source": [
    "# get set voltage\n",
    "Vs_n = p.get_set_voltage(pyplane.DacChannel.GO23)\n",
    "print(\"The source voltage is set to {} V\".format(Vs_n))\n",
    "\n",
    "# get set voltage\n",
    "Vd_n = p.get_set_voltage(pyplane.DacChannel.GO21)\n",
    "print(\"The drain voltage is set to {} V\".format(Vd_n))"
   ],
   "outputs": [
    {
     "output_type": "error",
     "ename": "NameError",
     "evalue": "name 'p' is not defined",
     "traceback": [
      "\u001b[0;31m---------------------------------------------------------------------------\u001b[0m",
      "\u001b[0;31mNameError\u001b[0m                                 Traceback (most recent call last)",
      "\u001b[0;32m<ipython-input-37-ca4dc64ea83c>\u001b[0m in \u001b[0;36m<module>\u001b[0;34m\u001b[0m\n\u001b[1;32m      1\u001b[0m \u001b[0;31m# get set voltage\u001b[0m\u001b[0;34m\u001b[0m\u001b[0;34m\u001b[0m\u001b[0;34m\u001b[0m\u001b[0m\n\u001b[0;32m----> 2\u001b[0;31m \u001b[0mVs_n\u001b[0m \u001b[0;34m=\u001b[0m \u001b[0mp\u001b[0m\u001b[0;34m.\u001b[0m\u001b[0mget_set_voltage\u001b[0m\u001b[0;34m(\u001b[0m\u001b[0mpyplane\u001b[0m\u001b[0;34m.\u001b[0m\u001b[0mDacChannel\u001b[0m\u001b[0;34m.\u001b[0m\u001b[0mGO23\u001b[0m\u001b[0;34m)\u001b[0m\u001b[0;34m\u001b[0m\u001b[0;34m\u001b[0m\u001b[0m\n\u001b[0m\u001b[1;32m      3\u001b[0m \u001b[0mprint\u001b[0m\u001b[0;34m(\u001b[0m\u001b[0;34m\"The source voltage is set to {} V\"\u001b[0m\u001b[0;34m.\u001b[0m\u001b[0mformat\u001b[0m\u001b[0;34m(\u001b[0m\u001b[0mVs_n\u001b[0m\u001b[0;34m)\u001b[0m\u001b[0;34m)\u001b[0m\u001b[0;34m\u001b[0m\u001b[0;34m\u001b[0m\u001b[0m\n\u001b[1;32m      4\u001b[0m \u001b[0;34m\u001b[0m\u001b[0m\n\u001b[1;32m      5\u001b[0m \u001b[0;31m# get set voltage\u001b[0m\u001b[0;34m\u001b[0m\u001b[0;34m\u001b[0m\u001b[0;34m\u001b[0m\u001b[0m\n",
      "\u001b[0;31mNameError\u001b[0m: name 'p' is not defined"
     ]
    }
   ],
   "metadata": {}
  },
  {
   "cell_type": "markdown",
   "source": [
    "> Correction: Should have reloaded notebook, Vd and Vs are not set"
   ],
   "metadata": {}
  },
  {
   "cell_type": "markdown",
   "source": [
    "* Data aquisition"
   ],
   "metadata": {}
  },
  {
   "cell_type": "code",
   "execution_count": 45,
   "source": [
    "# sweep gate voltage\n",
    "# sweep gate voltage\n",
    "import time\n",
    "import numpy as np \n",
    "\n",
    "# Get the leakage current, Read Ids=Ids0 at Vg = 0\n",
    "p.set_voltage(pyplane.DacChannel.AIN0, 0.0)\n",
    "time.sleep(0.5) # wait 0.5 second for it to settle\n",
    "Is0_n = p.read_current(pyplane.AdcChannel.GO21_N)\n",
    "print(f\"Offset Is0_n: {Is0_n} A\")\n",
    "\n",
    "Vgs = np.arange(0.0, 1.8, 0.1)\n",
    "Ids = []\n",
    "\n",
    "for Vg in Vgs:\n",
    "    # set gate voltage\n",
    "    p.set_voltage(pyplane.DacChannel.AIN0, Vg)\n",
    "    \n",
    "    print(f\"The gate voltage is set to {Vg:.2f} V\")   ## print the gate voltage\n",
    "    \n",
    "    time.sleep(0.05)  # wait for it to settle\n",
    "    # read I_{ds}\n",
    "    Id = p.read_current(pyplane.AdcChannel.GO21_N)\n",
    "    \n",
    "    print(f\"The measured source current is {Id} A\")  ## print the raw data\n",
    "    \n",
    "    # substract leakage current    \n",
    "    Id -= Is0_n\n",
    "    print(f\"The leakage corrected Ids is {Id}\")\n",
    "    Ids.append(Id)\n"
   ],
   "outputs": [
    {
     "output_type": "stream",
     "name": "stdout",
     "text": [
      "Offset Is0_n: 2.6977539164363407e-05 A\n",
      "The gate voltage is set to 0.00 V\n",
      "The measured source current is 2.8588867280632257e-05 A\n",
      "The leakage corrected Ids is 1.6113281162688509e-06\n",
      "The gate voltage is set to 0.10 V\n",
      "The measured source current is 2.5219726012437604e-05 A\n",
      "The leakage corrected Ids is -1.7578131519258022e-06\n",
      "The gate voltage is set to 0.20 V\n",
      "The measured source current is 2.2167969291331246e-05 A\n",
      "The leakage corrected Ids is -4.80956987303216e-06\n",
      "The gate voltage is set to 0.30 V\n",
      "The measured source current is 1.4868163816572633e-05 A\n",
      "The leakage corrected Ids is -1.2109375347790774e-05\n",
      "The gate voltage is set to 0.40 V\n",
      "The measured source current is 1.540527409815695e-05 A\n",
      "The leakage corrected Ids is -1.1572265066206455e-05\n",
      "The gate voltage is set to 0.50 V\n",
      "The measured source current is 1.220703143189894e-05 A\n",
      "The leakage corrected Ids is -1.4770507732464466e-05\n",
      "The gate voltage is set to 0.60 V\n",
      "The measured source current is 8.15429666545242e-06 A\n",
      "The leakage corrected Ids is -1.8823242498910986e-05\n",
      "The gate voltage is set to 0.70 V\n",
      "The measured source current is 6.665039109066129e-06 A\n",
      "The leakage corrected Ids is -2.0312500055297278e-05\n",
      "The gate voltage is set to 0.80 V\n",
      "The measured source current is 4.638671725842869e-06 A\n",
      "The leakage corrected Ids is -2.2338867438520538e-05\n",
      "The gate voltage is set to 0.90 V\n",
      "The measured source current is 2.050781176876626e-06 A\n",
      "The leakage corrected Ids is -2.492675798748678e-05\n",
      "The gate voltage is set to 1.00 V\n",
      "The measured source current is 2.6855468604480848e-06 A\n",
      "The leakage corrected Ids is -2.4291992303915322e-05\n",
      "The gate voltage is set to 1.10 V\n",
      "The measured source current is 3.8818361645098776e-06 A\n",
      "The leakage corrected Ids is -2.309570299985353e-05\n",
      "The gate voltage is set to 1.20 V\n",
      "The measured source current is 3.5400389606365934e-06 A\n",
      "The leakage corrected Ids is -2.3437500203726813e-05\n",
      "The gate voltage is set to 1.30 V\n",
      "The measured source current is 3.344726565046585e-06 A\n",
      "The leakage corrected Ids is -2.363281259931682e-05\n",
      "The gate voltage is set to 1.40 V\n",
      "The measured source current is 4.1259763747802936e-06 A\n",
      "The leakage corrected Ids is -2.2851562789583113e-05\n",
      "The gate voltage is set to 1.50 V\n",
      "The measured source current is 5.859375050931703e-06 A\n",
      "The leakage corrected Ids is -2.1118164113431703e-05\n",
      "The gate voltage is set to 1.60 V\n",
      "The measured source current is 6.127929736976512e-06 A\n",
      "The leakage corrected Ids is -2.0849609427386895e-05\n",
      "The gate voltage is set to 1.70 V\n",
      "The measured source current is 2.6855468604480848e-06 A\n",
      "The leakage corrected Ids is -2.4291992303915322e-05\n"
     ]
    }
   ],
   "metadata": {}
  },
  {
   "cell_type": "code",
   "execution_count": 16,
   "source": [
    "# plot \n",
    "from matplotlib import pyplot as plt\n",
    "\n",
    "plt.plot(Vgs, Ids, \"o-\", label=\"$I_{ds}$\")\n",
    "plt.legend()\n",
    "plt.ylabel(\"$I_{ds}[A]$\")\n",
    "plt.xlabel(\"$V_{g}[V]$\")\n",
    "plt.show()"
   ],
   "outputs": [
    {
     "output_type": "display_data",
     "data": {
      "image/png": "[encoded data removed]",
      "text/plain": [
       "<Figure size 432x288 with 1 Axes>"
      ]
     },
     "metadata": {
      "needs_background": "light"
     }
    }
   ],
   "metadata": {}
  },
  {
   "cell_type": "markdown",
   "source": [
    "> Correction: Currents are negative because we measured an invalid leakage current. Measured at Vg = 0 V, should have measured at Vg = Vbulk = Vdd = 1.8 V"
   ],
   "metadata": {}
  },
  {
   "cell_type": "code",
   "execution_count": 47,
   "source": [
    "# if the data looks nice, save it!\n",
    "# example :\n",
    "Lab2_data_pFETVgIds = [Vgs,Ids]\n",
    "# save to csv file\n",
    "np.savetxt('./data/Lab2_data_pFETVgIds.csv', Lab2_data_pFETVgIds, delimiter=',')"
   ],
   "outputs": [],
   "metadata": {}
  },
  {
   "cell_type": "code",
   "execution_count": 11,
   "source": [
    "import numpy as np\n",
    "import matplotlib.pyplot as plt\n",
    "\n",
    "Vgs, Ids = np.loadtxt('./data/Lab2_data_pFETVgIds.csv', delimiter=',')"
   ],
   "outputs": [],
   "metadata": {}
  },
  {
   "cell_type": "code",
   "execution_count": 7,
   "source": [
    "# extract the valid range\n",
    "v_t0 = next(Vg for Vg, Id in zip(Vgs, Ids) if Id < -2.3e-5)\n",
    "print(f\"Threshold value is at Vg = {v_t0}\")\n",
    "ohmic_end_index = Vgs.tolist().index(v_t0)"
   ],
   "outputs": [
    {
     "output_type": "stream",
     "name": "stdout",
     "text": [
      "Threshold value is at Vg = 0.9\n"
     ]
    }
   ],
   "metadata": {}
  },
  {
   "cell_type": "code",
   "execution_count": 19,
   "source": [
    "# fit in the valid range (you may want to go back and add the fitted line in the plot)\n",
    "plt.plot(Vgs[:ohmic_end_index], Ids[:ohmic_end_index], \"o-\", label=\"$I_{ds}$\")\n",
    "plt.legend()\n",
    "plt.ylabel(\"$I_{ds}[A]$\")\n",
    "plt.xlabel(\"$V_{g}[V]$\")\n",
    "plt.show()"
   ],
   "outputs": [
    {
     "output_type": "display_data",
     "data": {
      "image/png": "[encoded data removed]",
      "text/plain": [
       "<Figure size 432x288 with 1 Axes>"
      ]
     },
     "metadata": {
      "needs_background": "light"
     }
    }
   ],
   "metadata": {}
  },
  {
   "cell_type": "markdown",
   "source": [
    "**(c)** Determine $V_{T0}$ and $\\beta$ for both devices by fitting your data to the expression derived in the prelab"
   ],
   "metadata": {}
  },
  {
   "cell_type": "code",
   "execution_count": 8,
   "source": [
    "# V_T0\n",
    "v_t0 = Vgs[ohmic_end_index]\n",
    "print(f\"v_t0: {v_t0}\")"
   ],
   "outputs": [
    {
     "output_type": "stream",
     "name": "stdout",
     "text": [
      "v_t0: 0.9\n"
     ]
    }
   ],
   "metadata": {}
  },
  {
   "cell_type": "code",
   "execution_count": 12,
   "source": [
    "# Correction:\n",
    "Vs = 1.8\n",
    "Vgs = Vs - Vgs\n",
    "# V_T0\n",
    "v_t0 = Vgs[ohmic_end_index]\n",
    "print(f\"v_t0: {v_t0}\")"
   ],
   "outputs": [
    {
     "output_type": "stream",
     "name": "stdout",
     "text": [
      "v_t0: 0.9\n"
     ]
    }
   ],
   "metadata": {}
  },
  {
   "cell_type": "code",
   "execution_count": 16,
   "source": [
    "# beta => m/Vd\n",
    "delta_Ids = Ids[ohmic_end_index] - Ids[0]\n",
    "delta_Vgs = Vgs[ohmic_end_index] - Vgs[0]\n",
    "m = delta_Ids / delta_Vgs\n",
    "Vs = 1.8\n",
    "Vd = 0.8\n",
    "Vds = Vs - Vd\n",
    "beta_p = m / Vds\n",
    "print(f\"Beta: {beta_p}\")"
   ],
   "outputs": [
    {
     "output_type": "stream",
     "name": "stdout",
     "text": [
      "Beta: 2.9486762337506258e-05\n"
     ]
    }
   ],
   "metadata": {}
  },
  {
   "cell_type": "markdown",
   "source": [
    "> Correction: Using Vg instead of Vgs"
   ],
   "metadata": {}
  },
  {
   "cell_type": "markdown",
   "source": [
    "> For triode: $I_{ds} = \\beta(V_g - V_s - V_{Tp})(V_d - V_s)$  \n",
    "> For saturation: $I_{ds} = \\frac{1}{2}\\beta(V_g - V_s - V_{Tp})^2$"
   ],
   "metadata": {}
  },
  {
   "cell_type": "code",
   "execution_count": 17,
   "source": [
    "plt.plot(Vgs[:ohmic_end_index], Ids[:ohmic_end_index], \"o-\", label=\"real $I_{ds}$\")\n",
    "# + v_t0 since v_t0 > 0\n",
    "Ids_approx = m*(Vgs[:ohmic_end_index] - Vs + v_t0) - abs(Ids[ohmic_end_index])\n",
    "plt.plot(Vgs[:ohmic_end_index], Ids_approx, label=\"approximate $I_{ds}$\")\n",
    "plt.legend()\n",
    "plt.ylabel(\"$I_{ds}[A]$\")\n",
    "plt.xlabel(\"$V_{gs}[V]$\")\n",
    "plt.show()"
   ],
   "outputs": [
    {
     "output_type": "display_data",
     "data": {
      "image/png": "[encoded data removed]",
      "text/plain": [
       "<Figure size 432x288 with 1 Axes>"
      ]
     },
     "metadata": {
      "needs_background": "light"
     }
    }
   ],
   "metadata": {}
  },
  {
   "cell_type": "markdown",
   "source": [
    "## 5.3 Comparisons"
   ],
   "metadata": {}
  },
  {
   "cell_type": "markdown",
   "source": [
    "* Include a single plot showing the curves for both devices."
   ],
   "metadata": {}
  },
  {
   "cell_type": "code",
   "execution_count": 2,
   "source": [
    "# Correction:\n",
    "# plot both Ids vs |Vgs|\n",
    "Vs_p = 1.8\n",
    "Vgs, Ids_n = np.loadtxt('./data/Lab2_data_nFETVgIds.csv', delimiter=',')\n",
    "Vgs_p, Ids_p = np.loadtxt('./data/Lab2_data_pFETVgIds.csv', delimiter=',')\n",
    "guesstimated_p_leakage = abs(Ids_n[-1] - Ids_p[-1]) / 2\n",
    "Ids_p += guesstimated_p_leakage\n",
    "Vgs_p = abs(Vgs_p - Vs_p)\n",
    "plt.plot(Vgs, Ids_n, \"o-\", label=\"nFET\")\n",
    "plt.plot(Vgs_p, Ids_p, \"^-\", label=\"pFET\")\n",
    "plt.xlabel(\"$|V_{gs}|$\")\n",
    "plt.ylabel(\"$I_{ds}$\")\n",
    "plt.vlines(0.85, min(Ids_p), max(Ids_n), linestyles='dashed', colors=\"g\", label=\"Averaged $V_{t0}$\")\n",
    "plt.legend()\n",
    "plt.grid()\n",
    "plt.show()"
   ],
   "outputs": [
    {
     "output_type": "display_data",
     "data": {
      "image/png": "[encoded data removed]",
      "text/plain": [
       "<Figure size 432x288 with 1 Axes>"
      ]
     },
     "metadata": {
      "needs_background": "light"
     }
    }
   ],
   "metadata": {}
  },
  {
   "cell_type": "markdown",
   "source": [
    "* What is the ratio between $\\beta$ for the 2 devices? Does it make sense?"
   ],
   "metadata": {}
  },
  {
   "cell_type": "code",
   "execution_count": 188,
   "source": [
    "ratio = beta_n / beta_p\n",
    "print(f\"Beta_n: {beta_n}\")\n",
    "print(f\"Beta_p: {beta_p}\")\n",
    "print(f\"Ratio: {ratio}\")"
   ],
   "outputs": [
    {
     "output_type": "stream",
     "name": "stdout",
     "text": [
      "Beta_n: 2.5791266521898644e-05\n",
      "Beta_p: 2.9486762337506258e-05\n",
      "Ratio: 0.8746727167496766\n"
     ]
    }
   ],
   "metadata": {}
  },
  {
   "cell_type": "markdown",
   "source": [
    "> Ideally, the ratio should be 1. It is not however, since our pFET measurements suffered from multiple hardware defects, according to our TA."
   ],
   "metadata": {}
  },
  {
   "cell_type": "markdown",
   "source": [
    "* Is the relationship between $I_{ds}$ and $V_{gs}-V_T$ really linear? What is likely the cause of any discrepancy?"
   ],
   "metadata": {}
  },
  {
   "cell_type": "markdown",
   "source": [
    "> It seems to form a slight parabola. I guess this happens because we are getting close to the maximum current that can flow to the channel. At some point, the gate is bound to have diminishing returns."
   ],
   "metadata": {}
  },
  {
   "cell_type": "markdown",
   "source": [
    "## 5.4 Effective surface mobility (optional)"
   ],
   "metadata": {}
  },
  {
   "cell_type": "markdown",
   "source": [
    "Hint: Use the $V_{T0}$ you obtained in the last experiments but assume $\\beta$ changes with $V_{gs}$ (thus $\\mu_n$ and $\\mu_p$ changes). **No need to measure again.**"
   ],
   "metadata": {}
  },
  {
   "cell_type": "code",
   "execution_count": null,
   "source": [
    "# plot mu vs Vgs for both devices in the same figure"
   ],
   "outputs": [],
   "metadata": {}
  },
  {
   "cell_type": "markdown",
   "source": [
    "- Why does the mobility peak and then decay instead of remaining constant? "
   ],
   "metadata": {}
  },
  {
   "cell_type": "markdown",
   "source": [],
   "metadata": {}
  },
  {
   "cell_type": "markdown",
   "source": [
    "- What is the ratio between the peak mobilities for electrons and holes?"
   ],
   "metadata": {}
  },
  {
   "cell_type": "markdown",
   "source": [],
   "metadata": {}
  },
  {
   "cell_type": "markdown",
   "source": [
    "- How different are these values from the bulk mobilities for electrons (1350 ${\\rm cm^2/V/s}$) and holes (480 ${\\rm cm^2/V/s}$)? "
   ],
   "metadata": {}
  },
  {
   "cell_type": "markdown",
   "source": [],
   "metadata": {}
  },
  {
   "cell_type": "markdown",
   "source": [
    "# 6 Drain Current in the saturation region"
   ],
   "metadata": {}
  },
  {
   "cell_type": "markdown",
   "source": [
    "In this experiment you will characterize the _quadratic_ dependence of the current on the gate\n",
    "voltage in the saturation region. "
   ],
   "metadata": {}
  },
  {
   "cell_type": "markdown",
   "source": [
    "## 6.1 N-FET"
   ],
   "metadata": {}
  },
  {
   "cell_type": "markdown",
   "source": [
    "**(a)** Configure the chip following [Section 4.2](#config_nfet) if you haven't"
   ],
   "metadata": {}
  },
  {
   "cell_type": "markdown",
   "source": [
    "**(b)** Measure $I_{ds}$ as a function of $V_g$ in saturation region"
   ],
   "metadata": {}
  },
  {
   "cell_type": "markdown",
   "source": [
    "* What will be the fixed value for source and drain voltages?"
   ],
   "metadata": {}
  },
  {
   "cell_type": "code",
   "execution_count": 21,
   "source": [
    "## configure NMOS\n",
    "# set the demultiplexer, NMOS\n",
    "events = [pyplane.Coach.generate_aerc_event( \\\n",
    "    pyplane.Coach.CurrentOutputSelect.SelectLine5, \\\n",
    "    pyplane.Coach.VoltageOutputSelect.NoneSelected, \\\n",
    "    pyplane.Coach.VoltageInputSelect.SelectLine2, \\\n",
    "    pyplane.Coach.SynapseSelect.NoneSelected, 0)]\n",
    "\n",
    "p.send_coach_events(events)"
   ],
   "outputs": [],
   "metadata": {}
  },
  {
   "cell_type": "code",
   "execution_count": 22,
   "source": [
    "# set source voltage\n",
    "p.set_voltage(pyplane.DacChannel.GO20, 0.0)"
   ],
   "outputs": [
    {
     "output_type": "execute_result",
     "data": {
      "text/plain": [
       "0.0"
      ]
     },
     "metadata": {},
     "execution_count": 22
    }
   ],
   "metadata": {}
  },
  {
   "cell_type": "code",
   "execution_count": 23,
   "source": [
    "# set drain voltage     #######1.8\n",
    "p.set_voltage(pyplane.DacChannel.GO22, 1.8)\n"
   ],
   "outputs": [
    {
     "output_type": "execute_result",
     "data": {
      "text/plain": [
       "1.7982406616210938"
      ]
     },
     "metadata": {},
     "execution_count": 23
    }
   ],
   "metadata": {}
  },
  {
   "cell_type": "markdown",
   "source": [
    "* Data aquisition"
   ],
   "metadata": {}
  },
  {
   "cell_type": "code",
   "execution_count": 24,
   "source": [
    "# sweep gate voltage\n",
    "# sweep gate voltage\n",
    "import time\n",
    "import numpy as np \n",
    "\n",
    "# Get the leakage current, Read Ids=Ids0 at Vg = 0\n",
    "p.set_voltage(pyplane.DacChannel.AIN0, 0.0)\n",
    "time.sleep(0.5) # wait 0.5 second for it to settle\n",
    "Is0_n = p.read_current(pyplane.AdcChannel.GO20_N)\n",
    "print(f\"Offset Is0_n: {Is0_n} A\")\n",
    "\n",
    "Vgs = np.arange(0.0, 1.8, 0.1)\n",
    "Ids = []\n",
    "\n",
    "for Vg in Vgs:\n",
    "    # set gate voltage\n",
    "    p.set_voltage(pyplane.DacChannel.AIN0, Vg)\n",
    "    \n",
    "    print(f\"The gate voltage is set to {Vg:.2f} V\")   ## print the gate voltage\n",
    "    \n",
    "    time.sleep(0.05)  # wait for it to settle\n",
    "    # read I_{ds}\n",
    "    Id = p.read_current(pyplane.AdcChannel.GO20_N)\n",
    "    \n",
    "    print(f\"The measured source current is {Id} A\")  ## print the raw data\n",
    "    \n",
    "    # substract leakage current    \n",
    "    Id -= Is0_n\n",
    "    print(f\"The leakage corrected Ids is {Id}\")\n",
    "    Ids.append(Id)\n"
   ],
   "outputs": [
    {
     "output_type": "stream",
     "name": "stdout",
     "text": [
      "Offset Is0_n: 2.4414063659605745e-07 A\n",
      "The gate voltage is set to 0.00 V\n",
      "The measured source current is 7.568359592369234e-07 A\n",
      "The leakage corrected Ids is 5.126953226408659e-07\n",
      "The gate voltage is set to 0.10 V\n",
      "The measured source current is 1.4892577837599674e-06 A\n",
      "The leakage corrected Ids is 1.24511714716391e-06\n",
      "The gate voltage is set to 0.20 V\n",
      "The measured source current is 4.6386719532165444e-07 A\n",
      "The leakage corrected Ids is 2.19726558725597e-07\n",
      "The gate voltage is set to 0.30 V\n",
      "The measured source current is 1.8310546465727384e-06 A\n",
      "The leakage corrected Ids is 1.586914009976681e-06\n",
      "The gate voltage is set to 0.40 V\n",
      "The measured source current is 2.5390625069121597e-06 A\n",
      "The leakage corrected Ids is 2.2949218703161023e-06\n",
      "The gate voltage is set to 0.50 V\n",
      "The measured source current is 1.56249996052793e-06 A\n",
      "The leakage corrected Ids is 1.3183593239318725e-06\n",
      "The gate voltage is set to 0.60 V\n",
      "The measured source current is 3.344726565046585e-06 A\n",
      "The leakage corrected Ids is 3.1005859284505277e-06\n",
      "The gate voltage is set to 0.70 V\n",
      "The measured source current is 1.3916015859649633e-06 A\n",
      "The leakage corrected Ids is 1.1474609493689059e-06\n",
      "The gate voltage is set to 0.80 V\n",
      "The measured source current is 6.6162110670120455e-06 A\n",
      "The leakage corrected Ids is 6.372070430415988e-06\n",
      "The gate voltage is set to 0.90 V\n",
      "The measured source current is 1.0498047231521923e-05 A\n",
      "The leakage corrected Ids is 1.0253906594925866e-05\n",
      "The gate voltage is set to 1.00 V\n",
      "The measured source current is 1.799316487449687e-05 A\n",
      "The leakage corrected Ids is 1.7749024237900812e-05\n",
      "The gate voltage is set to 1.10 V\n",
      "The measured source current is 2.426757782814093e-05 A\n",
      "The leakage corrected Ids is 2.4023437191544872e-05\n",
      "The gate voltage is set to 1.20 V\n",
      "The measured source current is 3.752441261895001e-05 A\n",
      "The leakage corrected Ids is 3.728027198235395e-05\n",
      "The gate voltage is set to 1.30 V\n",
      "The measured source current is 4.9194335588254035e-05 A\n",
      "The leakage corrected Ids is 4.895019495165798e-05\n",
      "The gate voltage is set to 1.40 V\n",
      "The measured source current is 6.0913087509106845e-05 A\n",
      "The leakage corrected Ids is 6.066894687251079e-05\n",
      "The gate voltage is set to 1.50 V\n",
      "The measured source current is 7.68554673413746e-05 A\n",
      "The leakage corrected Ids is 7.661132670477855e-05\n",
      "The gate voltage is set to 1.60 V\n",
      "The measured source current is 9.09912123461254e-05 A\n",
      "The leakage corrected Ids is 9.074707170952934e-05\n",
      "The gate voltage is set to 1.70 V\n",
      "The measured source current is 9.912109089782462e-05 A\n",
      "The leakage corrected Ids is 9.887695026122856e-05\n"
     ]
    }
   ],
   "metadata": {}
  },
  {
   "cell_type": "code",
   "execution_count": 5,
   "source": [
    "# plot \n",
    "plt.plot(Vgs, Ids, \"o-\", label=\"$I_{ds}$\")\n",
    "plt.legend()\n",
    "plt.ylabel(\"$I_{ds}[A]$\")\n",
    "plt.xlabel(\"$V_{g}[V]$\")\n",
    "plt.show()"
   ],
   "outputs": [
    {
     "output_type": "display_data",
     "data": {
      "image/png": "[encoded data removed]",
      "text/plain": [
       "<Figure size 432x288 with 1 Axes>"
      ]
     },
     "metadata": {
      "needs_background": "light"
     }
    }
   ],
   "metadata": {}
  },
  {
   "cell_type": "code",
   "execution_count": 99,
   "source": [
    "# if the data looks nice, save it!\n",
    "# example :\n",
    "Lab2_data_nFETVgIds = [Vgs,Ids]\n",
    "# save to csv file\n",
    "np.savetxt('./data/Lab2_data_nFETVgIds_saturated.csv', Lab2_data_nFETVgIds, delimiter=',')"
   ],
   "outputs": [],
   "metadata": {}
  },
  {
   "cell_type": "code",
   "execution_count": 12,
   "source": [
    "Vgs, Ids = np.loadtxt('./data/Lab2_data_nFETVgIds_saturated.csv', delimiter=',')"
   ],
   "outputs": [],
   "metadata": {}
  },
  {
   "cell_type": "code",
   "execution_count": 13,
   "source": [
    "# extract the valid range and plot sqrt(Ids) vs Vgs\n",
    "v_t0 = next(Vg for Vg, Id in zip(Vgs, Ids) if Id > 1e-5)\n",
    "print(f\"Threshold value is at Vg = {v_t0}\")\n",
    "sat_start_index = Vgs.tolist().index(v_t0)\n"
   ],
   "outputs": [
    {
     "output_type": "stream",
     "name": "stdout",
     "text": [
      "Threshold value is at Vg = 0.9\n"
     ]
    }
   ],
   "metadata": {}
  },
  {
   "cell_type": "code",
   "execution_count": 15,
   "source": [
    "# Correction:\n",
    "# fit in the valid range (you may want to go back and add the fitted line in the plot)\n",
    "plt.plot(Vgs[sat_start_index:], Ids[sat_start_index:], \"o-\", label=\"$I_{ds}$\")\n",
    "m, b = np.polyfit(Vgs[sat_start_index:], Ids[sat_start_index:], 1)\n",
    "x = np.linspace(Vgs[sat_start_index], Vgs[-1], 100)\n",
    "plt.plot(x, m*x + b, label=\"fit\")\n",
    "plt.legend()\n",
    "plt.ylabel(\"$I_{ds}[A]$\")\n",
    "plt.xlabel(\"$V_{g}[V]$\")\n",
    "plt.show()"
   ],
   "outputs": [
    {
     "output_type": "display_data",
     "data": {
      "image/png": "[encoded data removed]",
      "text/plain": [
       "<Figure size 432x288 with 1 Axes>"
      ]
     },
     "metadata": {
      "needs_background": "light"
     }
    }
   ],
   "metadata": {}
  },
  {
   "cell_type": "markdown",
   "source": [
    "**(c)** Determine $V_{T0}$ and $\\beta$ for both devices by fitting your data to the expression derived in the prelab"
   ],
   "metadata": {}
  },
  {
   "cell_type": "code",
   "execution_count": 8,
   "source": [
    "# V_T0 \n",
    "v_t0 = Vgs[sat_start_index]\n",
    "print(f\"v_t0: {v_t0}\")"
   ],
   "outputs": [
    {
     "output_type": "stream",
     "name": "stdout",
     "text": [
      "v_t0: 0.9\n"
     ]
    }
   ],
   "metadata": {}
  },
  {
   "cell_type": "markdown",
   "source": [
    "> For triode: $I_{ds} = \\beta(V_g - V_s - V_{Tn})(V_d - V_s)$  \n",
    "> For saturation: $I_{ds} = \\frac{1}{2}\\beta(V_g - V_s - V_{Tn})^2$"
   ],
   "metadata": {}
  },
  {
   "cell_type": "markdown",
   "source": [
    "> $I_{dsat} = \\frac{1}{2} \\beta(V_g - V_s - V_{T0})^2$   \n",
    "> $\\Rightarrow \\sqrt{I_{dsat}} = \\frac{1}{\\sqrt{2}} \\sqrt{\\beta}(V_g - V_s - V_{T0})$  \n",
    "> $m := \\rm{slope\\ of\\ } \\sqrt{I_{dsat}}(V_g)   = \\frac{1}{\\sqrt{2}} \\sqrt{\\beta}$  \n",
    "> $\\Rightarrow \\beta = 2m^2$\n"
   ],
   "metadata": {}
  },
  {
   "cell_type": "code",
   "execution_count": 8,
   "source": [
    "# beta\n",
    "delta_Ids = np.sqrt(Ids[-1]) - np.sqrt(Ids[sat_start_index])\n",
    "delta_Vgs = Vgs[-1] - Vgs[sat_start_index]\n",
    "m = delta_Ids / delta_Vgs\n",
    "beta_n_sat = 2*m**2\n",
    "\n",
    "print(f\"Beta: {beta_n_sat}\")"
   ],
   "outputs": [
    {
     "output_type": "stream",
     "name": "stdout",
     "text": [
      "Beta: 0.00014202515231445965\n"
     ]
    }
   ],
   "metadata": {}
  },
  {
   "cell_type": "code",
   "execution_count": 10,
   "source": [
    "plt.plot(Vgs[sat_start_index:], Ids[sat_start_index:], \"o-\", label=\"real $I_{ds}$\")\n",
    "Ids_approx = 0.5*beta_n_sat*(Vgs[sat_start_index:] - v_t0)**2 + Ids[sat_start_index]\n",
    "plt.plot(Vgs[sat_start_index:], Ids_approx, label=\"approximate $I_{ds}$\")\n",
    "\n",
    "plt.legend()\n",
    "plt.ylabel(\"$I_{ds}[A]$\")\n",
    "plt.xlabel(\"$V_{g}[V]$\")\n",
    "plt.show()"
   ],
   "outputs": [
    {
     "output_type": "display_data",
     "data": {
      "image/png": "[encoded data removed]",
      "text/plain": [
       "<Figure size 432x288 with 1 Axes>"
      ]
     },
     "metadata": {
      "needs_background": "light"
     }
    }
   ],
   "metadata": {}
  },
  {
   "cell_type": "markdown",
   "source": [
    "## 6.2 P-FET"
   ],
   "metadata": {}
  },
  {
   "cell_type": "markdown",
   "source": [
    "**(a)** Configure the chip following [Section 4.3](#config_pfet) if you haven't"
   ],
   "metadata": {}
  },
  {
   "cell_type": "markdown",
   "source": [
    "**(b)** Measure $I_{ds}$ as a function of $V_g$ in ohmic region"
   ],
   "metadata": {}
  },
  {
   "cell_type": "markdown",
   "source": [
    "* What will be the fixed value for bulk, source and drain voltages?"
   ],
   "metadata": {}
  },
  {
   "cell_type": "code",
   "execution_count": 27,
   "source": [
    "# Send a reset signal to the board, check if the LED blinks\n",
    "p.reset(pyplane.ResetType.Soft)"
   ],
   "outputs": [
    {
     "output_type": "execute_result",
     "data": {
      "text/plain": [
       "<TeensyStatus.Success: 0>"
      ]
     },
     "metadata": {},
     "execution_count": 27
    }
   ],
   "metadata": {}
  },
  {
   "cell_type": "code",
   "execution_count": 28,
   "source": [
    "# Configure PMOS, set the demultiplexer\n",
    "events = [pyplane.Coach.generate_aerc_event( \\\n",
    "    pyplane.Coach.CurrentOutputSelect.SelectLine5, \\\n",
    "    pyplane.Coach.VoltageOutputSelect.NoneSelected, \\\n",
    "    pyplane.Coach.VoltageInputSelect.SelectLine1, \\\n",
    "    pyplane.Coach.SynapseSelect.NoneSelected, 0)]\n",
    "\n",
    "p.send_coach_events(events)"
   ],
   "outputs": [],
   "metadata": {}
  },
  {
   "cell_type": "code",
   "execution_count": 29,
   "source": [
    "# set bulk voltage\n",
    "p.set_voltage(pyplane.DacChannel.AIN1, 1.8)\n",
    "\n",
    "time.sleep(0.05)  # wait for it to settle\n",
    "\n",
    "# set source voltage\n",
    "p.set_voltage(pyplane.DacChannel.GO23, 1.8)\n",
    "\n",
    "# set drain voltage\n",
    "p.set_voltage(pyplane.DacChannel.GO21, 0.0)\n",
    "\n",
    "# Print I_ds for checking \n",
    "Ids = p.read_current(pyplane.AdcChannel.GO21_N)\n",
    "print(f\"Ids: {Ids}\")"
   ],
   "outputs": [
    {
     "output_type": "stream",
     "name": "stdout",
     "text": [
      "Ids: 2.8686523364740424e-05\n"
     ]
    }
   ],
   "metadata": {
    "tags": []
   }
  },
  {
   "cell_type": "markdown",
   "source": [
    "* For very close voltages, you may want to call `get_set_voltage` to check the actual output of the DAC."
   ],
   "metadata": {}
  },
  {
   "cell_type": "code",
   "execution_count": 30,
   "source": [
    "# get set voltage\n",
    "Vs_n = p.get_set_voltage(pyplane.DacChannel.GO23)\n",
    "print(\"The source voltage is set to {} V\".format(Vs_n))\n",
    "\n",
    "# get set voltage\n",
    "Vd_n = p.get_set_voltage(pyplane.DacChannel.GO21)\n",
    "print(\"The drain voltage is set to {} V\".format(Vd_n))"
   ],
   "outputs": [
    {
     "output_type": "stream",
     "name": "stdout",
     "text": [
      "The source voltage is set to 1.7982406616210938 V\n",
      "The drain voltage is set to 0.0 V\n"
     ]
    }
   ],
   "metadata": {}
  },
  {
   "cell_type": "markdown",
   "source": [
    "* Data aquisition"
   ],
   "metadata": {}
  },
  {
   "cell_type": "code",
   "execution_count": 31,
   "source": [
    "# sweep gate voltage\n",
    "import time\n",
    "import numpy as np \n",
    "\n",
    "# Get the leakage current, Read Ids=Ids0 at Vg = 0\n",
    "p.set_voltage(pyplane.DacChannel.AIN0, 0.0)\n",
    "time.sleep(0.5) # wait 0.5 second for it to settle\n",
    "Is0_n = p.read_current(pyplane.AdcChannel.GO21_N)\n",
    "print(f\"Offset Is0_n: {Is0_n} A\")\n",
    "\n",
    "Vgs = np.arange(0.0, 1.8, 0.1)\n",
    "Ids = []\n",
    "\n",
    "for Vg in Vgs:\n",
    "    # set gate voltage\n",
    "    p.set_voltage(pyplane.DacChannel.AIN0, Vg)\n",
    "    \n",
    "    print(f\"The gate voltage is set to {Vg:.2f} V\")   ## print the gate voltage\n",
    "    \n",
    "    time.sleep(0.05)  # wait for it to settle\n",
    "    # read I_{ds}\n",
    "    Id = p.read_current(pyplane.AdcChannel.GO21_N)\n",
    "    \n",
    "    print(f\"The measured source current is {Id} A\")  ## print the raw data\n",
    "    \n",
    "    # substract leakage current    \n",
    "    Id -= Is0_n\n",
    "    print(f\"The leakage corrected Ids is {Id}\")\n",
    "    Ids.append(Id)\n"
   ],
   "outputs": [
    {
     "output_type": "stream",
     "name": "stdout",
     "text": [
      "Offset Is0_n: 2.9443359380820766e-05 A\n",
      "The gate voltage is set to 0.00 V\n",
      "The measured source current is 2.922363273683004e-05 A\n",
      "The leakage corrected Ids is -2.1972664399072528e-07\n",
      "The gate voltage is set to 0.10 V\n",
      "The measured source current is 2.4047851184150204e-05 A\n",
      "The leakage corrected Ids is -5.395508196670562e-06\n",
      "The gate voltage is set to 0.20 V\n",
      "The measured source current is 2.2167969291331246e-05 A\n",
      "The leakage corrected Ids is -7.27539008948952e-06\n",
      "The gate voltage is set to 0.30 V\n",
      "The measured source current is 1.6674805010552518e-05 A\n",
      "The leakage corrected Ids is -1.2768554370268248e-05\n",
      "The gate voltage is set to 0.40 V\n",
      "The measured source current is 1.5039062418509275e-05 A\n",
      "The leakage corrected Ids is -1.4404296962311491e-05\n",
      "The gate voltage is set to 0.50 V\n",
      "The measured source current is 1.1987304787908215e-05 A\n",
      "The leakage corrected Ids is -1.745605459291255e-05\n",
      "The gate voltage is set to 0.60 V\n",
      "The measured source current is 8.813476597424597e-06 A\n",
      "The leakage corrected Ids is -2.062988278339617e-05\n",
      "The gate voltage is set to 0.70 V\n",
      "The measured source current is 6.713867151120212e-06 A\n",
      "The leakage corrected Ids is -2.2729492229700554e-05\n",
      "The gate voltage is set to 0.80 V\n",
      "The measured source current is 5.419921762950253e-06 A\n",
      "The leakage corrected Ids is -2.4023437617870513e-05\n",
      "The gate voltage is set to 0.90 V\n",
      "The measured source current is 3.1738281336401997e-07 A\n",
      "The leakage corrected Ids is -2.9125976567456746e-05\n",
      "The gate voltage is set to 1.00 V\n",
      "The measured source current is 1.416015606992005e-06 A\n",
      "The leakage corrected Ids is -2.802734377382876e-05\n",
      "The gate voltage is set to 1.10 V\n",
      "The measured source current is 2.075195425277343e-06 A\n",
      "The leakage corrected Ids is -2.7368163955543423e-05\n",
      "The gate voltage is set to 1.20 V\n",
      "The measured source current is 8.78906234902388e-07 A\n",
      "The leakage corrected Ids is -2.8564453145918378e-05\n",
      "The gate voltage is set to 1.30 V\n",
      "The measured source current is 9.521484116703505e-07 A\n",
      "The leakage corrected Ids is -2.8491210969150416e-05\n",
      "The gate voltage is set to 1.40 V\n",
      "The measured source current is 2.2460937998403097e-06 A\n",
      "The leakage corrected Ids is -2.7197265580980456e-05\n",
      "The gate voltage is set to 1.50 V\n",
      "The measured source current is 1.3916015859649633e-06 A\n",
      "The leakage corrected Ids is -2.8051757794855803e-05\n",
      "The gate voltage is set to 1.60 V\n",
      "The measured source current is 1.3427734302240424e-06 A\n",
      "The leakage corrected Ids is -2.8100585950596724e-05\n",
      "The gate voltage is set to 1.70 V\n",
      "The measured source current is 6.347656267280399e-07 A\n",
      "The leakage corrected Ids is -2.8808593754092726e-05\n"
     ]
    }
   ],
   "metadata": {}
  },
  {
   "cell_type": "code",
   "execution_count": 12,
   "source": [
    "# plot \n",
    "from matplotlib import pyplot as plt\n",
    "\n",
    "plt.plot(Vgs, Ids, \"o-\", label=\"$I_{ds}$\")\n",
    "plt.legend()\n",
    "plt.ylabel(\"$I_{ds}[A]$\")\n",
    "plt.xlabel(\"$V_{g}[V]$\")\n",
    "plt.show()"
   ],
   "outputs": [
    {
     "output_type": "display_data",
     "data": {
      "image/png": "[encoded data removed]",
      "text/plain": [
       "<Figure size 432x288 with 1 Axes>"
      ]
     },
     "metadata": {
      "needs_background": "light"
     }
    }
   ],
   "metadata": {}
  },
  {
   "cell_type": "markdown",
   "source": [
    "> Correction: Currents are negative because we measured an invalid leakage current. Measured at Vg = 0 V, should have measured at Vg = Vbulk = Vdd = 1.8 V"
   ],
   "metadata": {}
  },
  {
   "cell_type": "code",
   "execution_count": 35,
   "source": [
    "# if the data looks nice, save it!\n",
    "# example :\n",
    "Lab2_data_pFETVgIds = [Vgs,Ids]\n",
    "# save to csv file\n",
    "np.savetxt('./data/Lab2_data_pFETVgIds_saturated.csv', Lab2_data_pFETVgIds, delimiter=',')"
   ],
   "outputs": [],
   "metadata": {}
  },
  {
   "cell_type": "markdown",
   "source": [
    "* Data aquisition"
   ],
   "metadata": {}
  },
  {
   "cell_type": "code",
   "execution_count": 18,
   "source": [
    "import numpy as np\n",
    "import matplotlib.pyplot as plt\n",
    "Vgs, Ids = np.loadtxt('./data/Lab2_data_pFETVgIds_saturated.csv', delimiter=',')"
   ],
   "outputs": [],
   "metadata": {}
  },
  {
   "cell_type": "code",
   "execution_count": 19,
   "source": [
    "# extract the valid range and plot sqrt(Ids) vs Vgs\n",
    "Vs = 1.8\n",
    "Vgs = Vs - Vgs\n",
    "v_t0 = next(Vg for Vg, Id in zip(Vgs, Ids) if Id < -2.3e-5)\n",
    "print(f\"Threshold value is at Vg = {v_t0}\")\n",
    "ohmic_end_index = Vgs.tolist().index(v_t0)"
   ],
   "outputs": [
    {
     "output_type": "stream",
     "name": "stdout",
     "text": [
      "Threshold value is at Vg = 1.0\n"
     ]
    }
   ],
   "metadata": {}
  },
  {
   "cell_type": "code",
   "execution_count": 24,
   "source": [
    "# Correction:\n",
    "# fit in the valid range (you may want to go back and add the fitted line in the plot)\n",
    "plt.plot(Vgs[:ohmic_end_index], Ids[:ohmic_end_index], \"o-\", label=\"$I_{ds}$\")\n",
    "m, b = np.polyfit(Vgs[:ohmic_end_index], Ids[:ohmic_end_index], 1)\n",
    "x= np.linspace(Vgs[0], Vgs[ohmic_end_index], 100)\n",
    "plot = plt.plot(x, m*x + b, label=\"$fit$\")\n",
    "plt.legend()\n",
    "plt.ylabel(\"$I_{ds}[A]$\")\n",
    "plt.xlabel(\"$V_{gs}[V]$\")\n",
    "plt.show()"
   ],
   "outputs": [
    {
     "output_type": "display_data",
     "data": {
      "image/png": "[encoded data removed]",
      "text/plain": [
       "<Figure size 432x288 with 1 Axes>"
      ]
     },
     "metadata": {
      "needs_background": "light"
     }
    }
   ],
   "metadata": {}
  },
  {
   "cell_type": "markdown",
   "source": [
    "**(c)** Determine $V_{T0}$ and $\\beta$ for both devices by fitting your data to the expression derived in the prelab"
   ],
   "metadata": {}
  },
  {
   "cell_type": "code",
   "execution_count": 28,
   "source": [
    "# V_T0\n",
    "v_t0 = Vgs[ohmic_end_index]\n",
    "print(f\"v_t0: {v_t0}\")"
   ],
   "outputs": [
    {
     "output_type": "stream",
     "name": "stdout",
     "text": [
      "v_t0: 1.0\n"
     ]
    }
   ],
   "metadata": {}
  },
  {
   "cell_type": "markdown",
   "source": [
    "> For triode: $I_{ds} = \\beta(V_g - V_s - V_{Tn})(V_d - V_s)$  \n",
    "> For saturation: $I_{ds} = \\frac{1}{2}\\beta(V_g - V_s - V_{Tn})^2$"
   ],
   "metadata": {}
  },
  {
   "cell_type": "markdown",
   "source": [
    "> $I_{ds} = \\frac{1}{2}\\beta(V_g - V_s - V_{T0})^2$   \n",
    "> $\\Rightarrow \\sqrt{I_{dsat}} = \\frac{1}{\\sqrt{2}} \\sqrt{\\beta}(V_g - V_s - V_{T0})$  \n",
    "> $m := \\rm{slope\\ of\\ } \\sqrt{I_{dsat}}(V_g)   = \\frac{1}{\\sqrt{2}} \\sqrt{\\beta}$  \n",
    "> $\\Rightarrow \\beta = 2m^2$\n"
   ],
   "metadata": {}
  },
  {
   "cell_type": "code",
   "execution_count": 26,
   "source": [
    "# beta\n",
    "delta_Ids = np.sqrt(abs(Ids[ohmic_end_index])) - np.sqrt(abs(Ids[0]))\n",
    "delta_Vgs = Vgs[ohmic_end_index] - Vgs[0]\n",
    "m = delta_Ids / delta_Vgs\n",
    "beta_p_sat = 2*m**2\n",
    "\n",
    "print(f\"Beta: {beta_p_sat}\")"
   ],
   "outputs": [
    {
     "output_type": "stream",
     "name": "stdout",
     "text": [
      "Beta: 6.140040032243991e-05\n"
     ]
    }
   ],
   "metadata": {}
  },
  {
   "cell_type": "code",
   "execution_count": 17,
   "source": [
    "plt.plot(Vgs[:ohmic_end_index], Ids[:ohmic_end_index], \"o-\", label=\"real $I_{ds}$\")\n",
    "Vs = 1.8\n",
    "# + v_t0 since v_t0 > 0\n",
    "Ids_approx = abs(0.5*beta_p_sat*(Vgs[:ohmic_end_index] - Vs + v_t0)**2) - abs(Ids[ohmic_end_index])\n",
    "plt.plot(Vgs[:ohmic_end_index], Ids_approx, label=\"approximate $I_{ds}$\")\n",
    "\n",
    "plt.legend()\n",
    "plt.ylabel(\"$I_{ds}[A]$\")\n",
    "plt.xlabel(\"$V_{g}[V]$\")\n",
    "plt.show()"
   ],
   "outputs": [
    {
     "output_type": "display_data",
     "data": {
      "image/png": "[encoded data removed]",
      "text/plain": [
       "<Figure size 432x288 with 1 Axes>"
      ]
     },
     "metadata": {
      "needs_background": "light"
     }
    }
   ],
   "metadata": {}
  },
  {
   "cell_type": "markdown",
   "source": [
    "## 6.3 Comparisons"
   ],
   "metadata": {}
  },
  {
   "cell_type": "markdown",
   "source": [
    "* Are the measurements of $V_{T0}$ and $\\beta$ from the saturation measurement consistent with the values obtained in the ohmic region? "
   ],
   "metadata": {}
  },
  {
   "cell_type": "markdown",
   "source": [
    "> $V_{T0}$ is more or less the same, but $\\beta$ varies greatly"
   ],
   "metadata": {}
  },
  {
   "cell_type": "markdown",
   "source": [
    "* Which is a better approximation, the linear one or the quadratic?"
   ],
   "metadata": {}
  },
  {
   "cell_type": "markdown",
   "source": [
    "> The linear line fits better. This is probably so since the quadratic approximation squares any inaccuracies. In fact, when I testwise plotted the root of the collected data and the root of the approximation, they matched quite well."
   ],
   "metadata": {}
  },
  {
   "cell_type": "markdown",
   "source": [
    "# 7 Early effect"
   ],
   "metadata": {}
  },
  {
   "cell_type": "markdown",
   "source": [
    "This experiment studies how Early voltage scales with transistor current; in particular, how valid are the simple assumptions about channel length modulation?\n",
    "\n",
    "**You only need to do N-FET**"
   ],
   "metadata": {}
  },
  {
   "cell_type": "markdown",
   "source": [
    "**(a)** Measure $I_{ds}$ vs $V_{ds}$ for different $V_{gs}$"
   ],
   "metadata": {}
  },
  {
   "cell_type": "code",
   "execution_count": 8,
   "source": [
    "# Send a reset signal to the board, check if the LED blinks\n",
    "p.reset(pyplane.ResetType.Soft)"
   ],
   "outputs": [
    {
     "output_type": "execute_result",
     "data": {
      "text/plain": [
       "<TeensyStatus.Success: 0>"
      ]
     },
     "metadata": {},
     "execution_count": 8
    }
   ],
   "metadata": {}
  },
  {
   "cell_type": "code",
   "execution_count": 9,
   "source": [
    "# Configure PMOS, set the demultiplexer\n",
    "events = [pyplane.Coach.generate_aerc_event( \\\n",
    "    pyplane.Coach.CurrentOutputSelect.SelectLine5, \\\n",
    "    pyplane.Coach.VoltageOutputSelect.NoneSelected, \\\n",
    "    pyplane.Coach.VoltageInputSelect.SelectLine2, \\\n",
    "    pyplane.Coach.SynapseSelect.NoneSelected, 0)]\n",
    "\n",
    "p.send_coach_events(events)"
   ],
   "outputs": [],
   "metadata": {}
  },
  {
   "cell_type": "code",
   "execution_count": 10,
   "source": [
    "# set source voltage\n",
    "p.set_voltage(pyplane.DacChannel.GO20, 0.0)\n"
   ],
   "outputs": [
    {
     "output_type": "execute_result",
     "data": {
      "text/plain": [
       "0.0"
      ]
     },
     "metadata": {},
     "execution_count": 10
    }
   ],
   "metadata": {
    "tags": []
   }
  },
  {
   "cell_type": "markdown",
   "source": [
    "* Data aquisition"
   ],
   "metadata": {}
  },
  {
   "cell_type": "code",
   "execution_count": 18,
   "source": [
    "# sweep gate voltage\n",
    "import time\n",
    "import numpy as np\n",
    "\n",
    "# Get the leakage current, Read Ids=Ids0 at Vg = 0\n",
    "p.set_voltage(pyplane.DacChannel.AIN0, 0.0)\n",
    "time.sleep(0.5) # wait 0.5 second for it to settle\n",
    "Is0_n = p.read_current(pyplane.AdcChannel.GO21_N)\n",
    "\n",
    "print(f\"Offset Is0_n: {Is0_n} A\")\n",
    "\n",
    "Vds = np.arange(0.0, 1.8, 0.1)\n",
    "Vgs = np.arange(0.8, 1.8, 0.2)\n",
    "Ids = {}\n",
    "for Vg in Vgs:\n",
    "    Ids[Vg] = []\n",
    "\n",
    "for Vd in Vds:\n",
    "    for Vg in Vgs:\n",
    "        p.set_voltage(pyplane.DacChannel.GO22, Vd)\n",
    "        # Get the leakage current, Read Ids=Ids0 at Vg = 0\n",
    "        p.set_voltage(pyplane.DacChannel.AIN0, 0.0)\n",
    "        time.sleep(0.5) # wait 0.5 second for it to settle\n",
    "        Is0_n = p.read_current(pyplane.AdcChannel.GO21_N)\n",
    "        p.set_voltage(pyplane.DacChannel.AIN0, Vg)\n",
    "        \n",
    "        time.sleep(0.05)  # wait for it to settle\n",
    "        # read I_{ds}\n",
    "        Id = p.read_current(pyplane.AdcChannel.GO20_N)\n",
    "        \n",
    "        \n",
    "        # substract leakage current    \n",
    "        Id -= Is0_n\n",
    "        Ids[Vg].append(Id)\n"
   ],
   "outputs": [
    {
     "output_type": "stream",
     "name": "stdout",
     "text": [
      "Offset Is0_n: 6.103515488575795e-07 A\n"
     ]
    }
   ],
   "metadata": {}
  },
  {
   "cell_type": "markdown",
   "source": [
    "* Include a single plot showing all data on a semilogy plot."
   ],
   "metadata": {}
  },
  {
   "cell_type": "code",
   "execution_count": 20,
   "source": [
    "# plot\n",
    "from matplotlib import pyplot as plt\n",
    "styles = [\"o-\", \"s-\", \"^-\", \"*-\", \"x-\"]\n",
    "for (Vg, current_Ids), style in zip(Ids.items(), styles):\n",
    "    plt.semilogy(Vds, current_Ids, style, label=f\"$Vg={Vg:.2f}$\")\n",
    "plt.ylabel(\"$I_{ds}[A]$\")\n",
    "plt.xlabel(\"$V_{ds}[V]$\")\n",
    "plt.legend()\n",
    "plt.show()"
   ],
   "outputs": [
    {
     "output_type": "display_data",
     "data": {
      "image/png": "[encoded data removed]",
      "text/plain": [
       "<Figure size 432x288 with 1 Axes>"
      ]
     },
     "metadata": {
      "needs_background": "light"
     }
    }
   ],
   "metadata": {}
  },
  {
   "cell_type": "code",
   "execution_count": 25,
   "source": [
    "# if the data looks nice, save it!\n",
    "# example :\n",
    "for Vg, current_Ids in Ids.items():\n",
    "    Lab2_data_nFETVgIds = [Vds,current_Ids]\n",
    "    # save to csv file\n",
    "    np.savetxt(f'./data/early/Lab2_data_nFETVgIds_{Vg:.2f}.csv', Lab2_data_nFETVgIds, delimiter=',')"
   ],
   "outputs": [],
   "metadata": {}
  },
  {
   "cell_type": "markdown",
   "source": [
    "* Can you see how the saturation voltage increases with the gate overdrive $V_G-V_T$ in strong inversion?"
   ],
   "metadata": {}
  },
  {
   "cell_type": "markdown",
   "source": [
    "> Yes, each line plotted with a higher $V_G$ but constant $V_T$ is clearly higher on the graph."
   ],
   "metadata": {}
  },
  {
   "cell_type": "markdown",
   "source": [
    "**(b)** Compute the Early voltage "
   ],
   "metadata": {}
  },
  {
   "cell_type": "code",
   "execution_count": 18,
   "source": [
    "Vgs = np.arange(0.8, 1.8, 0.2)\n",
    "Vds = np.arange(0.0, 1.8, 0.1)\n",
    "Ids = {}\n",
    "for Vg in Vgs:\n",
    "    filename = f'./data/early/Lab2_data_nFETVgIds_{Vg:.2f}.csv'\n",
    "    Vds, current_Ids = np.loadtxt(filename, delimiter=',')\n",
    "    Ids[Vg] = current_Ids"
   ],
   "outputs": [],
   "metadata": {}
  },
  {
   "cell_type": "markdown",
   "source": [
    "* Fit a line to the ”flat” part of each curve. Select a range of drain voltages to fit the line and use the same range for each curve, because the Early effect is actually curved in reality, and what you are actually seeing is the start of Drain Induced Barrier Lowering (DIBL) or impact ionization."
   ],
   "metadata": {}
  },
  {
   "cell_type": "code",
   "execution_count": 21,
   "source": [
    "Ids_count = len(Vds)\n",
    "low_index = int(Ids_count * 0.8)\n",
    "high_index = Ids_count - 1\n",
    "ms = [(current_Ids[high_index] - current_Ids[low_index])/(Vds[high_index] - Vds[low_index]) for current_Ids in Ids.values()]\n",
    "y_0s = [current_Ids[low_index] - m*Vds[low_index] for m, current_Ids in zip(ms, Ids.values())]\n",
    "\n",
    "x = np.arange(-80, 10, 0.01)\n",
    "curves = [x * m + y_0 for m, y_0 in zip(ms, y_0s)]\n",
    "\n",
    "colors = [\"blue\", \"y\", \"g\", \"orangered\", \"purple\"]\n",
    "V_es = []\n",
    "for (Vg, curve), color in zip(zip(Vgs, curves), colors):\n",
    "    V_e = next(Vd for Vd, y in zip(x, curve) if y >= -1e-9)\n",
    "    V_es.append(-V_e)\n",
    "    plt.plot(x, curve, label=f\"$V_g={Vg:.2f}$\", color=color)\n",
    "    plt.plot(V_e, 0, \"x\", color=color)\n",
    "plt.axhline(y=0, color='k', linewidth=0.5)\n",
    "plt.xlabel(\"$V_{ds}[V]$\")\n",
    "plt.ylabel(\"$I_{ds}[A]$\")\n",
    "plt.legend()\n",
    "plt.show()\n"
   ],
   "outputs": [
    {
     "output_type": "display_data",
     "data": {
      "image/png": "[encoded data removed]",
      "text/plain": [
       "<Figure size 432x288 with 1 Axes>"
      ]
     },
     "metadata": {
      "needs_background": "light"
     }
    }
   ],
   "metadata": {}
  },
  {
   "cell_type": "markdown",
   "source": [
    "* Plot the Early voltage vs drain current on a semilogx scale."
   ],
   "metadata": {}
  },
  {
   "cell_type": "code",
   "execution_count": 22,
   "source": [
    "x = np.arange(0, 100, 0.01)\n",
    "Idsats = [current_Ids[-1] for current_Ids in Ids.values()]\n",
    "\n",
    "plt.semilogx(Idsats, V_es, \"o-\", label=\"Early voltage\")\n",
    "plt.xlabel(\"$I_{dsat}[A]$\")\n",
    "plt.ylabel(\"$V_E[V]$\")\n",
    "plt.legend()\n",
    "plt.show()\n"
   ],
   "outputs": [
    {
     "output_type": "display_data",
     "data": {
      "image/png": "[encoded data removed]",
      "text/plain": [
       "<Figure size 432x288 with 1 Axes>"
      ]
     },
     "metadata": {
      "needs_background": "light"
     }
    }
   ],
   "metadata": {}
  },
  {
   "cell_type": "markdown",
   "source": [
    "* Comment on your results: How constant is the Early voltage with drain current? Speculate on the reasons for your observations."
   ],
   "metadata": {}
  },
  {
   "cell_type": "markdown",
   "source": [
    "> Not that constant, but it stays within a single order of magnitude. When the Early voltage goes down, it means that the saturation region is less flat, so the Early effect (or in this case DIBL) is increasing. So our highest Early effect is at about $27 \\mu\\rm{A}$ in the graph above. There, the effective length of the channel is the smallest because we have the strongest reverse-bias. Then, it decreases again. So I postulate that an initial increase in $V_{OD}$, which leads to a higher $I_{dsat}$, causes the increasingly high shortening of the effective channel length until the $V_{OD}$ is high enough that the depletion layer caused by the reverse-bias is no longer observable since the mobile carriers are in free flow."
   ],
   "metadata": {}
  },
  {
   "cell_type": "markdown",
   "source": [
    "# 8 Congratulations"
   ],
   "metadata": {}
  },
  {
   "cell_type": "markdown",
   "source": [
    "**If you did everything in this lab, you have done a lot! This is probably the most difficult but also one of the most important labs, because practical and intuitive knowledge of transistor characteristics is crucial in understanding and synthesizing new circuits.**"
   ],
   "metadata": {}
  },
  {
   "cell_type": "markdown",
   "source": [
    "# 9 What we expect"
   ],
   "metadata": {}
  },
  {
   "cell_type": "markdown",
   "source": [
    "How transistors work above threshold.  \n",
    "\n",
    "What is the linear or triode region and what is the saturation region?\n",
    "\n",
    "How does the linear region depend on gate and threshold voltage?\n",
    "\n",
    "What is the _overdrive_?\n",
    "\n",
    "What is the specific current?\n",
    "\n",
    "How the Early effect comes about?\n",
    "\n",
    "Typical values for Early voltage.\n",
    "\n",
    "How to sketch graphs of transistor current vs gate voltage and drain-source voltage.\n",
    "\n",
    "How above-threshold transistors go into saturation and why the saturation voltage is equal to the gate overdrive.\n",
    "Can you write the above-threshold current equations?\n",
    "\n",
    "How does above-threshold current depend on $W/L$, $C_{ox}$, and mobility $\\mu$?\n",
    "\n",
    "How do transconductance and drain resistance combine to generate voltage gain? \n",
    "And what is the intrinsic voltage gain of a transistor?\n",
    "\n",
    "What effect does velocity saturation have on transistor operation, specifically, how does it change the relation between saturation current and gate voltage? What is DIBL (drain induced barrier lowering) and II (impact ionization)?\n",
    "\n",
    "What is the dominant source of mismatch?\n",
    "\n",
    "How does transistor mismatch scale with transistor size?\n",
    "\n",
    "What are typical values of transistor threshold voltage mismatch? "
   ],
   "metadata": {}
  }
 ],
 "metadata": {
  "interpreter": {
   "hash": "63fd5069d213b44bf678585dea6b12cceca9941eaf7f819626cde1f2670de90d"
  },
  "kernelspec": {
   "name": "python3",
   "display_name": "Python 3.9.7 64-bit"
  },
  "language_info": {
   "codemirror_mode": {
    "name": "ipython",
    "version": 3
   },
   "file_extension": ".py",
   "mimetype": "text/x-python",
   "name": "python",
   "nbconvert_exporter": "python",
   "pygments_lexer": "ipython3",
   "version": "3.9.7"
  }
 },
 "nbformat": 4,
 "nbformat_minor": 4
}